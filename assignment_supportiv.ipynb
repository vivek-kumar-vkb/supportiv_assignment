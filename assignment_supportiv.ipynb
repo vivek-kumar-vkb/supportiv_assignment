{
  "cells": [
    {
      "cell_type": "markdown",
      "id": "4afccd35",
      "metadata": {
        "papermill": {
          "duration": 0.009253,
          "end_time": "2023-09-30T09:04:32.034738",
          "exception": false,
          "start_time": "2023-09-30T09:04:32.025485",
          "status": "completed"
        },
        "tags": [],
        "id": "4afccd35"
      },
      "source": [
        "# Importing  Libraries"
      ]
    },
    {
      "cell_type": "code",
      "execution_count": 19,
      "id": "4897b574",
      "metadata": {
        "_cell_guid": "b1076dfc-b9ad-4769-8c92-a6c4dae69d19",
        "_uuid": "8f2839f25d086af736a60e9eeb907d3b93b6e0e5",
        "execution": {
          "iopub.execute_input": "2023-09-30T09:04:32.053309Z",
          "iopub.status.busy": "2023-09-30T09:04:32.052674Z",
          "iopub.status.idle": "2023-09-30T09:04:44.909833Z",
          "shell.execute_reply": "2023-09-30T09:04:44.908798Z"
        },
        "papermill": {
          "duration": 12.870427,
          "end_time": "2023-09-30T09:04:44.912825",
          "exception": false,
          "start_time": "2023-09-30T09:04:32.042398",
          "status": "completed"
        },
        "tags": [],
        "id": "4897b574"
      },
      "outputs": [],
      "source": [
        "import tensorflow as tf\n",
        "import numpy as np\n",
        "import pandas as pd\n",
        "import matplotlib.pyplot as plt\n",
        "import seaborn as sns\n",
        "from tensorflow.keras.layers import TextVectorization\n",
        "import re,string\n",
        "from tensorflow.keras.layers import LSTM,Dense,Embedding,Dropout,LayerNormalization"
      ]
    },
    {
      "cell_type": "code",
      "execution_count": 20,
      "id": "696a67d5",
      "metadata": {
        "execution": {
          "iopub.execute_input": "2023-09-30T09:04:44.931552Z",
          "iopub.status.busy": "2023-09-30T09:04:44.929969Z",
          "iopub.status.idle": "2023-09-30T09:04:44.995336Z",
          "shell.execute_reply": "2023-09-30T09:04:44.994279Z"
        },
        "papermill": {
          "duration": 0.07776,
          "end_time": "2023-09-30T09:04:44.998575",
          "exception": false,
          "start_time": "2023-09-30T09:04:44.920815",
          "status": "completed"
        },
        "tags": [],
        "colab": {
          "base_uri": "https://localhost:8080/",
          "height": 206
        },
        "id": "696a67d5",
        "outputId": "8686dd6e-8086-41cd-abbb-74d392891e6c"
      },
      "outputs": [
        {
          "output_type": "execute_result",
          "data": {
            "text/plain": [
              "                         question  \\\n",
              "0        What is (are) Glaucoma ?   \n",
              "1        What is (are) Glaucoma ?   \n",
              "2        What is (are) Glaucoma ?   \n",
              "3  Who is at risk for Glaucoma? ?   \n",
              "4       How to prevent Glaucoma ?   \n",
              "\n",
              "                                              answer  \n",
              "0  Glaucoma is a group of diseases that can damag...  \n",
              "1  The optic nerve is a bundle of more than 1 mil...  \n",
              "2  Open-angle glaucoma is the most common form of...  \n",
              "3  Anyone can develop glaucoma. Some people are a...  \n",
              "4  At this time, we do not know how to prevent gl...  "
            ],
            "text/html": [
              "\n",
              "  <div id=\"df-fc37e6f8-19ce-433f-afeb-9dc75de08d22\" class=\"colab-df-container\">\n",
              "    <div>\n",
              "<style scoped>\n",
              "    .dataframe tbody tr th:only-of-type {\n",
              "        vertical-align: middle;\n",
              "    }\n",
              "\n",
              "    .dataframe tbody tr th {\n",
              "        vertical-align: top;\n",
              "    }\n",
              "\n",
              "    .dataframe thead th {\n",
              "        text-align: right;\n",
              "    }\n",
              "</style>\n",
              "<table border=\"1\" class=\"dataframe\">\n",
              "  <thead>\n",
              "    <tr style=\"text-align: right;\">\n",
              "      <th></th>\n",
              "      <th>question</th>\n",
              "      <th>answer</th>\n",
              "    </tr>\n",
              "  </thead>\n",
              "  <tbody>\n",
              "    <tr>\n",
              "      <th>0</th>\n",
              "      <td>What is (are) Glaucoma ?</td>\n",
              "      <td>Glaucoma is a group of diseases that can damag...</td>\n",
              "    </tr>\n",
              "    <tr>\n",
              "      <th>1</th>\n",
              "      <td>What is (are) Glaucoma ?</td>\n",
              "      <td>The optic nerve is a bundle of more than 1 mil...</td>\n",
              "    </tr>\n",
              "    <tr>\n",
              "      <th>2</th>\n",
              "      <td>What is (are) Glaucoma ?</td>\n",
              "      <td>Open-angle glaucoma is the most common form of...</td>\n",
              "    </tr>\n",
              "    <tr>\n",
              "      <th>3</th>\n",
              "      <td>Who is at risk for Glaucoma? ?</td>\n",
              "      <td>Anyone can develop glaucoma. Some people are a...</td>\n",
              "    </tr>\n",
              "    <tr>\n",
              "      <th>4</th>\n",
              "      <td>How to prevent Glaucoma ?</td>\n",
              "      <td>At this time, we do not know how to prevent gl...</td>\n",
              "    </tr>\n",
              "  </tbody>\n",
              "</table>\n",
              "</div>\n",
              "    <div class=\"colab-df-buttons\">\n",
              "\n",
              "  <div class=\"colab-df-container\">\n",
              "    <button class=\"colab-df-convert\" onclick=\"convertToInteractive('df-fc37e6f8-19ce-433f-afeb-9dc75de08d22')\"\n",
              "            title=\"Convert this dataframe to an interactive table.\"\n",
              "            style=\"display:none;\">\n",
              "\n",
              "  <svg xmlns=\"http://www.w3.org/2000/svg\" height=\"24px\" viewBox=\"0 -960 960 960\">\n",
              "    <path d=\"M120-120v-720h720v720H120Zm60-500h600v-160H180v160Zm220 220h160v-160H400v160Zm0 220h160v-160H400v160ZM180-400h160v-160H180v160Zm440 0h160v-160H620v160ZM180-180h160v-160H180v160Zm440 0h160v-160H620v160Z\"/>\n",
              "  </svg>\n",
              "    </button>\n",
              "\n",
              "  <style>\n",
              "    .colab-df-container {\n",
              "      display:flex;\n",
              "      gap: 12px;\n",
              "    }\n",
              "\n",
              "    .colab-df-convert {\n",
              "      background-color: #E8F0FE;\n",
              "      border: none;\n",
              "      border-radius: 50%;\n",
              "      cursor: pointer;\n",
              "      display: none;\n",
              "      fill: #1967D2;\n",
              "      height: 32px;\n",
              "      padding: 0 0 0 0;\n",
              "      width: 32px;\n",
              "    }\n",
              "\n",
              "    .colab-df-convert:hover {\n",
              "      background-color: #E2EBFA;\n",
              "      box-shadow: 0px 1px 2px rgba(60, 64, 67, 0.3), 0px 1px 3px 1px rgba(60, 64, 67, 0.15);\n",
              "      fill: #174EA6;\n",
              "    }\n",
              "\n",
              "    .colab-df-buttons div {\n",
              "      margin-bottom: 4px;\n",
              "    }\n",
              "\n",
              "    [theme=dark] .colab-df-convert {\n",
              "      background-color: #3B4455;\n",
              "      fill: #D2E3FC;\n",
              "    }\n",
              "\n",
              "    [theme=dark] .colab-df-convert:hover {\n",
              "      background-color: #434B5C;\n",
              "      box-shadow: 0px 1px 3px 1px rgba(0, 0, 0, 0.15);\n",
              "      filter: drop-shadow(0px 1px 2px rgba(0, 0, 0, 0.3));\n",
              "      fill: #FFFFFF;\n",
              "    }\n",
              "  </style>\n",
              "\n",
              "    <script>\n",
              "      const buttonEl =\n",
              "        document.querySelector('#df-fc37e6f8-19ce-433f-afeb-9dc75de08d22 button.colab-df-convert');\n",
              "      buttonEl.style.display =\n",
              "        google.colab.kernel.accessAllowed ? 'block' : 'none';\n",
              "\n",
              "      async function convertToInteractive(key) {\n",
              "        const element = document.querySelector('#df-fc37e6f8-19ce-433f-afeb-9dc75de08d22');\n",
              "        const dataTable =\n",
              "          await google.colab.kernel.invokeFunction('convertToInteractive',\n",
              "                                                    [key], {});\n",
              "        if (!dataTable) return;\n",
              "\n",
              "        const docLinkHtml = 'Like what you see? Visit the ' +\n",
              "          '<a target=\"_blank\" href=https://colab.research.google.com/notebooks/data_table.ipynb>data table notebook</a>'\n",
              "          + ' to learn more about interactive tables.';\n",
              "        element.innerHTML = '';\n",
              "        dataTable['output_type'] = 'display_data';\n",
              "        await google.colab.output.renderOutput(dataTable, element);\n",
              "        const docLink = document.createElement('div');\n",
              "        docLink.innerHTML = docLinkHtml;\n",
              "        element.appendChild(docLink);\n",
              "      }\n",
              "    </script>\n",
              "  </div>\n",
              "\n",
              "\n",
              "<div id=\"df-f2e910e1-9e37-4543-8693-b950894ee193\">\n",
              "  <button class=\"colab-df-quickchart\" onclick=\"quickchart('df-f2e910e1-9e37-4543-8693-b950894ee193')\"\n",
              "            title=\"Suggest charts\"\n",
              "            style=\"display:none;\">\n",
              "\n",
              "<svg xmlns=\"http://www.w3.org/2000/svg\" height=\"24px\"viewBox=\"0 0 24 24\"\n",
              "     width=\"24px\">\n",
              "    <g>\n",
              "        <path d=\"M19 3H5c-1.1 0-2 .9-2 2v14c0 1.1.9 2 2 2h14c1.1 0 2-.9 2-2V5c0-1.1-.9-2-2-2zM9 17H7v-7h2v7zm4 0h-2V7h2v10zm4 0h-2v-4h2v4z\"/>\n",
              "    </g>\n",
              "</svg>\n",
              "  </button>\n",
              "\n",
              "<style>\n",
              "  .colab-df-quickchart {\n",
              "      --bg-color: #E8F0FE;\n",
              "      --fill-color: #1967D2;\n",
              "      --hover-bg-color: #E2EBFA;\n",
              "      --hover-fill-color: #174EA6;\n",
              "      --disabled-fill-color: #AAA;\n",
              "      --disabled-bg-color: #DDD;\n",
              "  }\n",
              "\n",
              "  [theme=dark] .colab-df-quickchart {\n",
              "      --bg-color: #3B4455;\n",
              "      --fill-color: #D2E3FC;\n",
              "      --hover-bg-color: #434B5C;\n",
              "      --hover-fill-color: #FFFFFF;\n",
              "      --disabled-bg-color: #3B4455;\n",
              "      --disabled-fill-color: #666;\n",
              "  }\n",
              "\n",
              "  .colab-df-quickchart {\n",
              "    background-color: var(--bg-color);\n",
              "    border: none;\n",
              "    border-radius: 50%;\n",
              "    cursor: pointer;\n",
              "    display: none;\n",
              "    fill: var(--fill-color);\n",
              "    height: 32px;\n",
              "    padding: 0;\n",
              "    width: 32px;\n",
              "  }\n",
              "\n",
              "  .colab-df-quickchart:hover {\n",
              "    background-color: var(--hover-bg-color);\n",
              "    box-shadow: 0 1px 2px rgba(60, 64, 67, 0.3), 0 1px 3px 1px rgba(60, 64, 67, 0.15);\n",
              "    fill: var(--button-hover-fill-color);\n",
              "  }\n",
              "\n",
              "  .colab-df-quickchart-complete:disabled,\n",
              "  .colab-df-quickchart-complete:disabled:hover {\n",
              "    background-color: var(--disabled-bg-color);\n",
              "    fill: var(--disabled-fill-color);\n",
              "    box-shadow: none;\n",
              "  }\n",
              "\n",
              "  .colab-df-spinner {\n",
              "    border: 2px solid var(--fill-color);\n",
              "    border-color: transparent;\n",
              "    border-bottom-color: var(--fill-color);\n",
              "    animation:\n",
              "      spin 1s steps(1) infinite;\n",
              "  }\n",
              "\n",
              "  @keyframes spin {\n",
              "    0% {\n",
              "      border-color: transparent;\n",
              "      border-bottom-color: var(--fill-color);\n",
              "      border-left-color: var(--fill-color);\n",
              "    }\n",
              "    20% {\n",
              "      border-color: transparent;\n",
              "      border-left-color: var(--fill-color);\n",
              "      border-top-color: var(--fill-color);\n",
              "    }\n",
              "    30% {\n",
              "      border-color: transparent;\n",
              "      border-left-color: var(--fill-color);\n",
              "      border-top-color: var(--fill-color);\n",
              "      border-right-color: var(--fill-color);\n",
              "    }\n",
              "    40% {\n",
              "      border-color: transparent;\n",
              "      border-right-color: var(--fill-color);\n",
              "      border-top-color: var(--fill-color);\n",
              "    }\n",
              "    60% {\n",
              "      border-color: transparent;\n",
              "      border-right-color: var(--fill-color);\n",
              "    }\n",
              "    80% {\n",
              "      border-color: transparent;\n",
              "      border-right-color: var(--fill-color);\n",
              "      border-bottom-color: var(--fill-color);\n",
              "    }\n",
              "    90% {\n",
              "      border-color: transparent;\n",
              "      border-bottom-color: var(--fill-color);\n",
              "    }\n",
              "  }\n",
              "</style>\n",
              "\n",
              "  <script>\n",
              "    async function quickchart(key) {\n",
              "      const quickchartButtonEl =\n",
              "        document.querySelector('#' + key + ' button');\n",
              "      quickchartButtonEl.disabled = true;  // To prevent multiple clicks.\n",
              "      quickchartButtonEl.classList.add('colab-df-spinner');\n",
              "      try {\n",
              "        const charts = await google.colab.kernel.invokeFunction(\n",
              "            'suggestCharts', [key], {});\n",
              "      } catch (error) {\n",
              "        console.error('Error during call to suggestCharts:', error);\n",
              "      }\n",
              "      quickchartButtonEl.classList.remove('colab-df-spinner');\n",
              "      quickchartButtonEl.classList.add('colab-df-quickchart-complete');\n",
              "    }\n",
              "    (() => {\n",
              "      let quickchartButtonEl =\n",
              "        document.querySelector('#df-f2e910e1-9e37-4543-8693-b950894ee193 button');\n",
              "      quickchartButtonEl.style.display =\n",
              "        google.colab.kernel.accessAllowed ? 'block' : 'none';\n",
              "    })();\n",
              "  </script>\n",
              "</div>\n",
              "    </div>\n",
              "  </div>\n"
            ],
            "application/vnd.google.colaboratory.intrinsic+json": {
              "type": "dataframe",
              "variable_name": "df",
              "summary": "{\n  \"name\": \"df\",\n  \"rows\": 16406,\n  \"fields\": [\n    {\n      \"column\": \"question\",\n      \"properties\": {\n        \"dtype\": \"string\",\n        \"num_unique_values\": 14981,\n        \"samples\": [\n          \"What are the treatments for Hypotrichosis simplex ?\",\n          \"What are the genetic changes related to Crouzon syndrome ?\",\n          \"Is glycine encephalopathy inherited ?\"\n        ],\n        \"semantic_type\": \"\",\n        \"description\": \"\"\n      }\n    },\n    {\n      \"column\": \"answer\",\n      \"properties\": {\n        \"dtype\": \"string\",\n        \"num_unique_values\": 15811,\n        \"samples\": [\n          \"Mutations in the CDC73 gene (also known as the HRPT2 gene) cause hyperparathyroidism-jaw tumor syndrome. The CDC73 gene provides instructions for making a protein called parafibromin. This protein is found throughout the body and is likely involved in gene transcription, which is the first step in protein production. Parafibromin is also thought to play a role in cell growth and division (proliferation), either promoting or inhibiting cell proliferation depending on signals within the cell.  CDC73 gene mutations cause hyperparathyroidism-jaw tumor syndrome by reducing the amount of functional parafibromin that is produced. Most of these mutations result in a parafibromin protein that is abnormally short and nonfunctional. Without functional parafibromin, cell proliferation is not properly regulated. Uncontrolled cell division can lead to the formation of tumors. It is unknown why only certain tissues seem to be affected by changes in parafibromin.  Some people with hyperparathyroidism-jaw tumor syndrome do not have identified mutations in the CDC73 gene. The cause of the condition in these individuals is unknown.\",\n          \"Scientists continue to look at new ways to prevent, treat, and diagnose prostate cancer. Research has already led to a number of advances in these areas. Dietary Research Several studies are under way to explore the causes of prostate cancer. Some researchers think that diet may affect a man's chances of developing prostate cancer. For example, some studies show that prostate cancer is more common in populations that consume a high-fat diet, particularly animal fat, and in populations with diets that lack certain nutrients. Research on Testosterone Some research suggests that high levels of testosterone may increase a man's risk of prostate cancer. The difference in prostate cancer risk among racial groups could be related to high testosterone levels, but it also could result from diet or other lifestyle factors. Genetic Research Researchers are studying changes in genes that may increase the risk for developing prostate cancer. Some studies are looking at the genes of men who were diagnosed with prostate cancer at a relatively young age, such as less than 55 years old, and the genes of families who have several members with the disease. Other studies are trying to identify which genes, or arrangements of genes, are most likely to lead to prostate cancer. Much more work is needed, however, before scientists can say exactly how genetic changes relate to prostate cancer. Prevention Research Several studies have explored ways to prevent prostate cancer. In October 2008, initial results of a study on the use of the dietary supplements vitamin E and selenium found that they did not provide any benefit in reducing the number of new cases of the disease. A few studies suggest that a diet that regularly includes tomato-based foods may help protect men from prostate cancer, but there are no studies that conclusively prove this hypothesis. According to results of a study that was re-analyzed in 2013, men who took finasteride, a drug that affects male hormone levels, reduced their chances of getting prostate cancer by nearly 30 percent compared to men who took a placebo. Unlike earlier findings from this study, this new analysis showed no increased risk of late stage disease due to use of finasteride. Stopping Prostate Cancer from Returning Scientists are also looking at ways to stop prostate cancer from returning in men who have already been treated for the disease. These approaches use drugs such as finasteride, flutamide, nilutamide, and LH-RH agonists that manipulate hormone levels. In 2010, the FDA approved a therapeutic cancer vaccine, Provenge, for use in some men with metastatic prostate cancer. Provenge may provide a 4-month improvement in overall survival compared with a placebo vaccine. Other similar vaccine therapies are in development. Research on New Blood Tests Some researchers are working to develop new blood tests to detect the antibodies that the immune system produces to fight prostate cancer. When used along with PSA testing, the antibody tests may provide more accurate results about whether or not a man has prostate cancer. Researching New Approaches to Treatment Through research, doctors are trying to find new, more effective ways to treat prostate cancer. Cryosurgery -- destroying cancer by freezing it -- is under study as an alternative to surgery and radiation therapy. To avoid damaging healthy tissue, the doctor places an instrument known as a cryoprobe in direct contact with the tumor to freeze it. Doctors are studying new ways of using radiation therapy and hormonal therapy, too. Studies have shown that hormonal therapy given after radiation therapy can help certain men whose cancer has spread to nearby tissues. Scientists are also testing the effectiveness of chemotherapy and biological therapy for men whose cancer does not respond, or stops responding, to hormonal therapy. They are also exploring new ways to schedule and combine various treatments. For example, they are studying hormonal therapy to find out if using it to shrink the tumor before a man has surgery or radiation might be a useful approach. For men with early stage prostate cancer, researchers are also comparing treatment with watchful waiting. The results of this work will help doctors know whether to treat early stage prostate cancer immediately or only later on, if symptoms occur or worsen.\",\n          \"Sleep apnea is a common disorder that causes your breathing to stop or get very shallow. Breathing pauses can last from a few seconds to minutes. They may occur 30 times or more an hour.    The most common type is obstructive sleep apnea. It causes your airway to collapse or become blocked during sleep. Normal breathing starts again with a snort or choking sound. People with sleep apnea often snore loudly. However, not everyone who snores has sleep apnea.    You are more at risk for sleep apnea if you are overweight, male, or have a family history or small airways. Children with enlarged tonsils may also get it.    Doctors diagnose sleep apnea based on medical and family histories, a physical exam, and sleep study results.    When your sleep is interrupted throughout the night, you can be drowsy during the day. People with sleep apnea are at higher risk for car crashes, work-related accidents, and other medical problems. If you have it, it is important to get treatment. Lifestyle changes, mouthpieces, surgery, and breathing devices can treat sleep apnea in many people.    NIH: National Heart, Lung, and Blood Institute\"\n        ],\n        \"semantic_type\": \"\",\n        \"description\": \"\"\n      }\n    }\n  ]\n}"
            }
          },
          "metadata": {},
          "execution_count": 20
        }
      ],
      "source": [
        "df=pd.read_csv('intern_screening_dataset.csv')\n",
        "df.head()"
      ]
    },
    {
      "cell_type": "code",
      "source": [
        "df.info()"
      ],
      "metadata": {
        "colab": {
          "base_uri": "https://localhost:8080/"
        },
        "id": "7eItXys0igLy",
        "outputId": "a420e703-c4c0-4ed5-e669-a78bb61f4151"
      },
      "id": "7eItXys0igLy",
      "execution_count": null,
      "outputs": [
        {
          "output_type": "stream",
          "name": "stdout",
          "text": [
            "<class 'pandas.core.frame.DataFrame'>\n",
            "RangeIndex: 16406 entries, 0 to 16405\n",
            "Data columns (total 2 columns):\n",
            " #   Column    Non-Null Count  Dtype \n",
            "---  ------    --------------  ----- \n",
            " 0   question  16406 non-null  object\n",
            " 1   answer    16401 non-null  object\n",
            "dtypes: object(2)\n",
            "memory usage: 256.5+ KB\n"
          ]
        }
      ]
    },
    {
      "cell_type": "markdown",
      "source": [
        "As we are having 5 rows of the answer column to be null we can't further preprocess it.Hence we need to remove those entire rows."
      ],
      "metadata": {
        "id": "dlQ9CMnnz9VG"
      },
      "id": "dlQ9CMnnz9VG"
    },
    {
      "cell_type": "code",
      "source": [
        "df.dropna(subset=['answer'], inplace=True)"
      ],
      "metadata": {
        "id": "nD0dzKUBjOVI"
      },
      "id": "nD0dzKUBjOVI",
      "execution_count": 21,
      "outputs": []
    },
    {
      "cell_type": "markdown",
      "id": "5ab92e05",
      "metadata": {
        "papermill": {
          "duration": 0.008195,
          "end_time": "2023-09-30T09:04:45.017802",
          "exception": false,
          "start_time": "2023-09-30T09:04:45.009607",
          "status": "completed"
        },
        "tags": [],
        "id": "5ab92e05"
      },
      "source": [
        "# Data Preprocessing"
      ]
    },
    {
      "cell_type": "markdown",
      "id": "233c8170",
      "metadata": {
        "papermill": {
          "duration": 0.00797,
          "end_time": "2023-09-30T09:04:45.033671",
          "exception": false,
          "start_time": "2023-09-30T09:04:45.025701",
          "status": "completed"
        },
        "tags": [],
        "id": "233c8170"
      },
      "source": [
        "## Data Visualization"
      ]
    },
    {
      "cell_type": "code",
      "source": [
        "df"
      ],
      "metadata": {
        "colab": {
          "base_uri": "https://localhost:8080/",
          "height": 423
        },
        "id": "j-Fl7gFli4Cp",
        "outputId": "a178a3bd-47cd-4859-9c9a-2237797c37f9"
      },
      "id": "j-Fl7gFli4Cp",
      "execution_count": null,
      "outputs": [
        {
          "output_type": "execute_result",
          "data": {
            "text/plain": [
              "                                                question  \\\n",
              "0                               What is (are) Glaucoma ?   \n",
              "1                               What is (are) Glaucoma ?   \n",
              "2                               What is (are) Glaucoma ?   \n",
              "3                         Who is at risk for Glaucoma? ?   \n",
              "4                              How to prevent Glaucoma ?   \n",
              "...                                                  ...   \n",
              "16401  What is (are) Diabetic Neuropathies: The Nerve...   \n",
              "16402  What is (are) Diabetic Neuropathies: The Nerve...   \n",
              "16403  What is (are) Diabetic Neuropathies: The Nerve...   \n",
              "16404  How to prevent Diabetic Neuropathies: The Nerv...   \n",
              "16405  How to diagnose Diabetic Neuropathies: The Ner...   \n",
              "\n",
              "                                                  answer  \n",
              "0      Glaucoma is a group of diseases that can damag...  \n",
              "1      The optic nerve is a bundle of more than 1 mil...  \n",
              "2      Open-angle glaucoma is the most common form of...  \n",
              "3      Anyone can develop glaucoma. Some people are a...  \n",
              "4      At this time, we do not know how to prevent gl...  \n",
              "...                                                  ...  \n",
              "16401  Autonomic neuropathy affects the nerves that c...  \n",
              "16402  Proximal neuropathy, sometimes called lumbosac...  \n",
              "16403  Focal neuropathy appears suddenly and affects ...  \n",
              "16404  The best way to prevent neuropathy is to keep ...  \n",
              "16405  Doctors diagnose neuropathy on the basis of sy...  \n",
              "\n",
              "[16401 rows x 2 columns]"
            ],
            "text/html": [
              "\n",
              "  <div id=\"df-e05c7ef3-04ab-4416-8742-1b4f8fdadffd\" class=\"colab-df-container\">\n",
              "    <div>\n",
              "<style scoped>\n",
              "    .dataframe tbody tr th:only-of-type {\n",
              "        vertical-align: middle;\n",
              "    }\n",
              "\n",
              "    .dataframe tbody tr th {\n",
              "        vertical-align: top;\n",
              "    }\n",
              "\n",
              "    .dataframe thead th {\n",
              "        text-align: right;\n",
              "    }\n",
              "</style>\n",
              "<table border=\"1\" class=\"dataframe\">\n",
              "  <thead>\n",
              "    <tr style=\"text-align: right;\">\n",
              "      <th></th>\n",
              "      <th>question</th>\n",
              "      <th>answer</th>\n",
              "    </tr>\n",
              "  </thead>\n",
              "  <tbody>\n",
              "    <tr>\n",
              "      <th>0</th>\n",
              "      <td>What is (are) Glaucoma ?</td>\n",
              "      <td>Glaucoma is a group of diseases that can damag...</td>\n",
              "    </tr>\n",
              "    <tr>\n",
              "      <th>1</th>\n",
              "      <td>What is (are) Glaucoma ?</td>\n",
              "      <td>The optic nerve is a bundle of more than 1 mil...</td>\n",
              "    </tr>\n",
              "    <tr>\n",
              "      <th>2</th>\n",
              "      <td>What is (are) Glaucoma ?</td>\n",
              "      <td>Open-angle glaucoma is the most common form of...</td>\n",
              "    </tr>\n",
              "    <tr>\n",
              "      <th>3</th>\n",
              "      <td>Who is at risk for Glaucoma? ?</td>\n",
              "      <td>Anyone can develop glaucoma. Some people are a...</td>\n",
              "    </tr>\n",
              "    <tr>\n",
              "      <th>4</th>\n",
              "      <td>How to prevent Glaucoma ?</td>\n",
              "      <td>At this time, we do not know how to prevent gl...</td>\n",
              "    </tr>\n",
              "    <tr>\n",
              "      <th>...</th>\n",
              "      <td>...</td>\n",
              "      <td>...</td>\n",
              "    </tr>\n",
              "    <tr>\n",
              "      <th>16401</th>\n",
              "      <td>What is (are) Diabetic Neuropathies: The Nerve...</td>\n",
              "      <td>Autonomic neuropathy affects the nerves that c...</td>\n",
              "    </tr>\n",
              "    <tr>\n",
              "      <th>16402</th>\n",
              "      <td>What is (are) Diabetic Neuropathies: The Nerve...</td>\n",
              "      <td>Proximal neuropathy, sometimes called lumbosac...</td>\n",
              "    </tr>\n",
              "    <tr>\n",
              "      <th>16403</th>\n",
              "      <td>What is (are) Diabetic Neuropathies: The Nerve...</td>\n",
              "      <td>Focal neuropathy appears suddenly and affects ...</td>\n",
              "    </tr>\n",
              "    <tr>\n",
              "      <th>16404</th>\n",
              "      <td>How to prevent Diabetic Neuropathies: The Nerv...</td>\n",
              "      <td>The best way to prevent neuropathy is to keep ...</td>\n",
              "    </tr>\n",
              "    <tr>\n",
              "      <th>16405</th>\n",
              "      <td>How to diagnose Diabetic Neuropathies: The Ner...</td>\n",
              "      <td>Doctors diagnose neuropathy on the basis of sy...</td>\n",
              "    </tr>\n",
              "  </tbody>\n",
              "</table>\n",
              "<p>16401 rows × 2 columns</p>\n",
              "</div>\n",
              "    <div class=\"colab-df-buttons\">\n",
              "\n",
              "  <div class=\"colab-df-container\">\n",
              "    <button class=\"colab-df-convert\" onclick=\"convertToInteractive('df-e05c7ef3-04ab-4416-8742-1b4f8fdadffd')\"\n",
              "            title=\"Convert this dataframe to an interactive table.\"\n",
              "            style=\"display:none;\">\n",
              "\n",
              "  <svg xmlns=\"http://www.w3.org/2000/svg\" height=\"24px\" viewBox=\"0 -960 960 960\">\n",
              "    <path d=\"M120-120v-720h720v720H120Zm60-500h600v-160H180v160Zm220 220h160v-160H400v160Zm0 220h160v-160H400v160ZM180-400h160v-160H180v160Zm440 0h160v-160H620v160ZM180-180h160v-160H180v160Zm440 0h160v-160H620v160Z\"/>\n",
              "  </svg>\n",
              "    </button>\n",
              "\n",
              "  <style>\n",
              "    .colab-df-container {\n",
              "      display:flex;\n",
              "      gap: 12px;\n",
              "    }\n",
              "\n",
              "    .colab-df-convert {\n",
              "      background-color: #E8F0FE;\n",
              "      border: none;\n",
              "      border-radius: 50%;\n",
              "      cursor: pointer;\n",
              "      display: none;\n",
              "      fill: #1967D2;\n",
              "      height: 32px;\n",
              "      padding: 0 0 0 0;\n",
              "      width: 32px;\n",
              "    }\n",
              "\n",
              "    .colab-df-convert:hover {\n",
              "      background-color: #E2EBFA;\n",
              "      box-shadow: 0px 1px 2px rgba(60, 64, 67, 0.3), 0px 1px 3px 1px rgba(60, 64, 67, 0.15);\n",
              "      fill: #174EA6;\n",
              "    }\n",
              "\n",
              "    .colab-df-buttons div {\n",
              "      margin-bottom: 4px;\n",
              "    }\n",
              "\n",
              "    [theme=dark] .colab-df-convert {\n",
              "      background-color: #3B4455;\n",
              "      fill: #D2E3FC;\n",
              "    }\n",
              "\n",
              "    [theme=dark] .colab-df-convert:hover {\n",
              "      background-color: #434B5C;\n",
              "      box-shadow: 0px 1px 3px 1px rgba(0, 0, 0, 0.15);\n",
              "      filter: drop-shadow(0px 1px 2px rgba(0, 0, 0, 0.3));\n",
              "      fill: #FFFFFF;\n",
              "    }\n",
              "  </style>\n",
              "\n",
              "    <script>\n",
              "      const buttonEl =\n",
              "        document.querySelector('#df-e05c7ef3-04ab-4416-8742-1b4f8fdadffd button.colab-df-convert');\n",
              "      buttonEl.style.display =\n",
              "        google.colab.kernel.accessAllowed ? 'block' : 'none';\n",
              "\n",
              "      async function convertToInteractive(key) {\n",
              "        const element = document.querySelector('#df-e05c7ef3-04ab-4416-8742-1b4f8fdadffd');\n",
              "        const dataTable =\n",
              "          await google.colab.kernel.invokeFunction('convertToInteractive',\n",
              "                                                    [key], {});\n",
              "        if (!dataTable) return;\n",
              "\n",
              "        const docLinkHtml = 'Like what you see? Visit the ' +\n",
              "          '<a target=\"_blank\" href=https://colab.research.google.com/notebooks/data_table.ipynb>data table notebook</a>'\n",
              "          + ' to learn more about interactive tables.';\n",
              "        element.innerHTML = '';\n",
              "        dataTable['output_type'] = 'display_data';\n",
              "        await google.colab.output.renderOutput(dataTable, element);\n",
              "        const docLink = document.createElement('div');\n",
              "        docLink.innerHTML = docLinkHtml;\n",
              "        element.appendChild(docLink);\n",
              "      }\n",
              "    </script>\n",
              "  </div>\n",
              "\n",
              "\n",
              "<div id=\"df-d8d4c749-a099-4ed3-b5f4-c17968377fb9\">\n",
              "  <button class=\"colab-df-quickchart\" onclick=\"quickchart('df-d8d4c749-a099-4ed3-b5f4-c17968377fb9')\"\n",
              "            title=\"Suggest charts\"\n",
              "            style=\"display:none;\">\n",
              "\n",
              "<svg xmlns=\"http://www.w3.org/2000/svg\" height=\"24px\"viewBox=\"0 0 24 24\"\n",
              "     width=\"24px\">\n",
              "    <g>\n",
              "        <path d=\"M19 3H5c-1.1 0-2 .9-2 2v14c0 1.1.9 2 2 2h14c1.1 0 2-.9 2-2V5c0-1.1-.9-2-2-2zM9 17H7v-7h2v7zm4 0h-2V7h2v10zm4 0h-2v-4h2v4z\"/>\n",
              "    </g>\n",
              "</svg>\n",
              "  </button>\n",
              "\n",
              "<style>\n",
              "  .colab-df-quickchart {\n",
              "      --bg-color: #E8F0FE;\n",
              "      --fill-color: #1967D2;\n",
              "      --hover-bg-color: #E2EBFA;\n",
              "      --hover-fill-color: #174EA6;\n",
              "      --disabled-fill-color: #AAA;\n",
              "      --disabled-bg-color: #DDD;\n",
              "  }\n",
              "\n",
              "  [theme=dark] .colab-df-quickchart {\n",
              "      --bg-color: #3B4455;\n",
              "      --fill-color: #D2E3FC;\n",
              "      --hover-bg-color: #434B5C;\n",
              "      --hover-fill-color: #FFFFFF;\n",
              "      --disabled-bg-color: #3B4455;\n",
              "      --disabled-fill-color: #666;\n",
              "  }\n",
              "\n",
              "  .colab-df-quickchart {\n",
              "    background-color: var(--bg-color);\n",
              "    border: none;\n",
              "    border-radius: 50%;\n",
              "    cursor: pointer;\n",
              "    display: none;\n",
              "    fill: var(--fill-color);\n",
              "    height: 32px;\n",
              "    padding: 0;\n",
              "    width: 32px;\n",
              "  }\n",
              "\n",
              "  .colab-df-quickchart:hover {\n",
              "    background-color: var(--hover-bg-color);\n",
              "    box-shadow: 0 1px 2px rgba(60, 64, 67, 0.3), 0 1px 3px 1px rgba(60, 64, 67, 0.15);\n",
              "    fill: var(--button-hover-fill-color);\n",
              "  }\n",
              "\n",
              "  .colab-df-quickchart-complete:disabled,\n",
              "  .colab-df-quickchart-complete:disabled:hover {\n",
              "    background-color: var(--disabled-bg-color);\n",
              "    fill: var(--disabled-fill-color);\n",
              "    box-shadow: none;\n",
              "  }\n",
              "\n",
              "  .colab-df-spinner {\n",
              "    border: 2px solid var(--fill-color);\n",
              "    border-color: transparent;\n",
              "    border-bottom-color: var(--fill-color);\n",
              "    animation:\n",
              "      spin 1s steps(1) infinite;\n",
              "  }\n",
              "\n",
              "  @keyframes spin {\n",
              "    0% {\n",
              "      border-color: transparent;\n",
              "      border-bottom-color: var(--fill-color);\n",
              "      border-left-color: var(--fill-color);\n",
              "    }\n",
              "    20% {\n",
              "      border-color: transparent;\n",
              "      border-left-color: var(--fill-color);\n",
              "      border-top-color: var(--fill-color);\n",
              "    }\n",
              "    30% {\n",
              "      border-color: transparent;\n",
              "      border-left-color: var(--fill-color);\n",
              "      border-top-color: var(--fill-color);\n",
              "      border-right-color: var(--fill-color);\n",
              "    }\n",
              "    40% {\n",
              "      border-color: transparent;\n",
              "      border-right-color: var(--fill-color);\n",
              "      border-top-color: var(--fill-color);\n",
              "    }\n",
              "    60% {\n",
              "      border-color: transparent;\n",
              "      border-right-color: var(--fill-color);\n",
              "    }\n",
              "    80% {\n",
              "      border-color: transparent;\n",
              "      border-right-color: var(--fill-color);\n",
              "      border-bottom-color: var(--fill-color);\n",
              "    }\n",
              "    90% {\n",
              "      border-color: transparent;\n",
              "      border-bottom-color: var(--fill-color);\n",
              "    }\n",
              "  }\n",
              "</style>\n",
              "\n",
              "  <script>\n",
              "    async function quickchart(key) {\n",
              "      const quickchartButtonEl =\n",
              "        document.querySelector('#' + key + ' button');\n",
              "      quickchartButtonEl.disabled = true;  // To prevent multiple clicks.\n",
              "      quickchartButtonEl.classList.add('colab-df-spinner');\n",
              "      try {\n",
              "        const charts = await google.colab.kernel.invokeFunction(\n",
              "            'suggestCharts', [key], {});\n",
              "      } catch (error) {\n",
              "        console.error('Error during call to suggestCharts:', error);\n",
              "      }\n",
              "      quickchartButtonEl.classList.remove('colab-df-spinner');\n",
              "      quickchartButtonEl.classList.add('colab-df-quickchart-complete');\n",
              "    }\n",
              "    (() => {\n",
              "      let quickchartButtonEl =\n",
              "        document.querySelector('#df-d8d4c749-a099-4ed3-b5f4-c17968377fb9 button');\n",
              "      quickchartButtonEl.style.display =\n",
              "        google.colab.kernel.accessAllowed ? 'block' : 'none';\n",
              "    })();\n",
              "  </script>\n",
              "</div>\n",
              "\n",
              "  <div id=\"id_3f39ca67-71b4-4997-8c9f-f6a298fb1741\">\n",
              "    <style>\n",
              "      .colab-df-generate {\n",
              "        background-color: #E8F0FE;\n",
              "        border: none;\n",
              "        border-radius: 50%;\n",
              "        cursor: pointer;\n",
              "        display: none;\n",
              "        fill: #1967D2;\n",
              "        height: 32px;\n",
              "        padding: 0 0 0 0;\n",
              "        width: 32px;\n",
              "      }\n",
              "\n",
              "      .colab-df-generate:hover {\n",
              "        background-color: #E2EBFA;\n",
              "        box-shadow: 0px 1px 2px rgba(60, 64, 67, 0.3), 0px 1px 3px 1px rgba(60, 64, 67, 0.15);\n",
              "        fill: #174EA6;\n",
              "      }\n",
              "\n",
              "      [theme=dark] .colab-df-generate {\n",
              "        background-color: #3B4455;\n",
              "        fill: #D2E3FC;\n",
              "      }\n",
              "\n",
              "      [theme=dark] .colab-df-generate:hover {\n",
              "        background-color: #434B5C;\n",
              "        box-shadow: 0px 1px 3px 1px rgba(0, 0, 0, 0.15);\n",
              "        filter: drop-shadow(0px 1px 2px rgba(0, 0, 0, 0.3));\n",
              "        fill: #FFFFFF;\n",
              "      }\n",
              "    </style>\n",
              "    <button class=\"colab-df-generate\" onclick=\"generateWithVariable('df')\"\n",
              "            title=\"Generate code using this dataframe.\"\n",
              "            style=\"display:none;\">\n",
              "\n",
              "  <svg xmlns=\"http://www.w3.org/2000/svg\" height=\"24px\"viewBox=\"0 0 24 24\"\n",
              "       width=\"24px\">\n",
              "    <path d=\"M7,19H8.4L18.45,9,17,7.55,7,17.6ZM5,21V16.75L18.45,3.32a2,2,0,0,1,2.83,0l1.4,1.43a1.91,1.91,0,0,1,.58,1.4,1.91,1.91,0,0,1-.58,1.4L9.25,21ZM18.45,9,17,7.55Zm-12,3A5.31,5.31,0,0,0,4.9,8.1,5.31,5.31,0,0,0,1,6.5,5.31,5.31,0,0,0,4.9,4.9,5.31,5.31,0,0,0,6.5,1,5.31,5.31,0,0,0,8.1,4.9,5.31,5.31,0,0,0,12,6.5,5.46,5.46,0,0,0,6.5,12Z\"/>\n",
              "  </svg>\n",
              "    </button>\n",
              "    <script>\n",
              "      (() => {\n",
              "      const buttonEl =\n",
              "        document.querySelector('#id_3f39ca67-71b4-4997-8c9f-f6a298fb1741 button.colab-df-generate');\n",
              "      buttonEl.style.display =\n",
              "        google.colab.kernel.accessAllowed ? 'block' : 'none';\n",
              "\n",
              "      buttonEl.onclick = () => {\n",
              "        google.colab.notebook.generateWithVariable('df');\n",
              "      }\n",
              "      })();\n",
              "    </script>\n",
              "  </div>\n",
              "\n",
              "    </div>\n",
              "  </div>\n"
            ],
            "application/vnd.google.colaboratory.intrinsic+json": {
              "type": "dataframe",
              "variable_name": "df",
              "summary": "{\n  \"name\": \"df\",\n  \"rows\": 16401,\n  \"fields\": [\n    {\n      \"column\": \"question\",\n      \"properties\": {\n        \"dtype\": \"string\",\n        \"num_unique_values\": 14976,\n        \"samples\": [\n          \"How many people are affected by prion disease ?\",\n          \"What are the treatments for Crouzon syndrome ?\",\n          \"How many people are affected by Ehlers-Danlos syndrome ?\"\n        ],\n        \"semantic_type\": \"\",\n        \"description\": \"\"\n      }\n    },\n    {\n      \"column\": \"answer\",\n      \"properties\": {\n        \"dtype\": \"string\",\n        \"num_unique_values\": 15811,\n        \"samples\": [\n          \"Mutations in the CDC73 gene (also known as the HRPT2 gene) cause hyperparathyroidism-jaw tumor syndrome. The CDC73 gene provides instructions for making a protein called parafibromin. This protein is found throughout the body and is likely involved in gene transcription, which is the first step in protein production. Parafibromin is also thought to play a role in cell growth and division (proliferation), either promoting or inhibiting cell proliferation depending on signals within the cell.  CDC73 gene mutations cause hyperparathyroidism-jaw tumor syndrome by reducing the amount of functional parafibromin that is produced. Most of these mutations result in a parafibromin protein that is abnormally short and nonfunctional. Without functional parafibromin, cell proliferation is not properly regulated. Uncontrolled cell division can lead to the formation of tumors. It is unknown why only certain tissues seem to be affected by changes in parafibromin.  Some people with hyperparathyroidism-jaw tumor syndrome do not have identified mutations in the CDC73 gene. The cause of the condition in these individuals is unknown.\",\n          \"Scientists continue to look at new ways to prevent, treat, and diagnose prostate cancer. Research has already led to a number of advances in these areas. Dietary Research Several studies are under way to explore the causes of prostate cancer. Some researchers think that diet may affect a man's chances of developing prostate cancer. For example, some studies show that prostate cancer is more common in populations that consume a high-fat diet, particularly animal fat, and in populations with diets that lack certain nutrients. Research on Testosterone Some research suggests that high levels of testosterone may increase a man's risk of prostate cancer. The difference in prostate cancer risk among racial groups could be related to high testosterone levels, but it also could result from diet or other lifestyle factors. Genetic Research Researchers are studying changes in genes that may increase the risk for developing prostate cancer. Some studies are looking at the genes of men who were diagnosed with prostate cancer at a relatively young age, such as less than 55 years old, and the genes of families who have several members with the disease. Other studies are trying to identify which genes, or arrangements of genes, are most likely to lead to prostate cancer. Much more work is needed, however, before scientists can say exactly how genetic changes relate to prostate cancer. Prevention Research Several studies have explored ways to prevent prostate cancer. In October 2008, initial results of a study on the use of the dietary supplements vitamin E and selenium found that they did not provide any benefit in reducing the number of new cases of the disease. A few studies suggest that a diet that regularly includes tomato-based foods may help protect men from prostate cancer, but there are no studies that conclusively prove this hypothesis. According to results of a study that was re-analyzed in 2013, men who took finasteride, a drug that affects male hormone levels, reduced their chances of getting prostate cancer by nearly 30 percent compared to men who took a placebo. Unlike earlier findings from this study, this new analysis showed no increased risk of late stage disease due to use of finasteride. Stopping Prostate Cancer from Returning Scientists are also looking at ways to stop prostate cancer from returning in men who have already been treated for the disease. These approaches use drugs such as finasteride, flutamide, nilutamide, and LH-RH agonists that manipulate hormone levels. In 2010, the FDA approved a therapeutic cancer vaccine, Provenge, for use in some men with metastatic prostate cancer. Provenge may provide a 4-month improvement in overall survival compared with a placebo vaccine. Other similar vaccine therapies are in development. Research on New Blood Tests Some researchers are working to develop new blood tests to detect the antibodies that the immune system produces to fight prostate cancer. When used along with PSA testing, the antibody tests may provide more accurate results about whether or not a man has prostate cancer. Researching New Approaches to Treatment Through research, doctors are trying to find new, more effective ways to treat prostate cancer. Cryosurgery -- destroying cancer by freezing it -- is under study as an alternative to surgery and radiation therapy. To avoid damaging healthy tissue, the doctor places an instrument known as a cryoprobe in direct contact with the tumor to freeze it. Doctors are studying new ways of using radiation therapy and hormonal therapy, too. Studies have shown that hormonal therapy given after radiation therapy can help certain men whose cancer has spread to nearby tissues. Scientists are also testing the effectiveness of chemotherapy and biological therapy for men whose cancer does not respond, or stops responding, to hormonal therapy. They are also exploring new ways to schedule and combine various treatments. For example, they are studying hormonal therapy to find out if using it to shrink the tumor before a man has surgery or radiation might be a useful approach. For men with early stage prostate cancer, researchers are also comparing treatment with watchful waiting. The results of this work will help doctors know whether to treat early stage prostate cancer immediately or only later on, if symptoms occur or worsen.\",\n          \"Sleep apnea is a common disorder that causes your breathing to stop or get very shallow. Breathing pauses can last from a few seconds to minutes. They may occur 30 times or more an hour.    The most common type is obstructive sleep apnea. It causes your airway to collapse or become blocked during sleep. Normal breathing starts again with a snort or choking sound. People with sleep apnea often snore loudly. However, not everyone who snores has sleep apnea.    You are more at risk for sleep apnea if you are overweight, male, or have a family history or small airways. Children with enlarged tonsils may also get it.    Doctors diagnose sleep apnea based on medical and family histories, a physical exam, and sleep study results.    When your sleep is interrupted throughout the night, you can be drowsy during the day. People with sleep apnea are at higher risk for car crashes, work-related accidents, and other medical problems. If you have it, it is important to get treatment. Lifestyle changes, mouthpieces, surgery, and breathing devices can treat sleep apnea in many people.    NIH: National Heart, Lung, and Blood Institute\"\n        ],\n        \"semantic_type\": \"\",\n        \"description\": \"\"\n      }\n    }\n  ]\n}"
            }
          },
          "metadata": {},
          "execution_count": 5
        }
      ]
    },
    {
      "cell_type": "markdown",
      "source": [
        "# Counting the created Tokens of Q & A\n",
        "Tokenization is done based on single words usingx.split() method.\n",
        "* Tokenisation of the text is important as we need to convert the all words into vocabulary, used for feature extraction and improves model performnce."
      ],
      "metadata": {
        "id": "EKnvKKwG0UR4"
      },
      "id": "EKnvKKwG0UR4"
    },
    {
      "cell_type": "code",
      "source": [
        "df['question tokens']=df['question'].apply(lambda x:len(x.split()))\n",
        "df['answer tokens']=df['answer'].apply(lambda y:len(y.split()))"
      ],
      "metadata": {
        "id": "cImu43NQSaYp"
      },
      "id": "cImu43NQSaYp",
      "execution_count": 23,
      "outputs": []
    },
    {
      "cell_type": "markdown",
      "id": "5ba0b881",
      "metadata": {
        "papermill": {
          "duration": 0.009765,
          "end_time": "2023-09-30T09:04:48.651478",
          "exception": false,
          "start_time": "2023-09-30T09:04:48.641713",
          "status": "completed"
        },
        "tags": [],
        "id": "5ba0b881"
      },
      "source": [
        "# Text Cleaning\n",
        "We need to clear the text off any unwanted characters otherwise our model would face hard time to encode/decode."
      ]
    },
    {
      "cell_type": "code",
      "execution_count": null,
      "id": "8fb55da3",
      "metadata": {
        "execution": {
          "iopub.execute_input": "2023-09-30T09:04:48.673612Z",
          "iopub.status.busy": "2023-09-30T09:04:48.673207Z",
          "iopub.status.idle": "2023-09-30T09:04:48.951674Z",
          "shell.execute_reply": "2023-09-30T09:04:48.950450Z"
        },
        "papermill": {
          "duration": 0.292366,
          "end_time": "2023-09-30T09:04:48.954544",
          "exception": false,
          "start_time": "2023-09-30T09:04:48.662178",
          "status": "completed"
        },
        "tags": [],
        "id": "8fb55da3",
        "outputId": "c4115b9c-f154-41ee-e50e-fca2bf526fc0",
        "colab": {
          "base_uri": "https://localhost:8080/",
          "height": 206
        }
      },
      "outputs": [
        {
          "output_type": "execute_result",
          "data": {
            "text/plain": [
              "                         question  \\\n",
              "0        What is (are) Glaucoma ?   \n",
              "1        What is (are) Glaucoma ?   \n",
              "2        What is (are) Glaucoma ?   \n",
              "3  Who is at risk for Glaucoma? ?   \n",
              "4       How to prevent Glaucoma ?   \n",
              "\n",
              "                                              answer  \n",
              "0  Glaucoma is a group of diseases that can damag...  \n",
              "1  The optic nerve is a bundle of more than 1 mil...  \n",
              "2  Open-angle glaucoma is the most common form of...  \n",
              "3  Anyone can develop glaucoma. Some people are a...  \n",
              "4  At this time, we do not know how to prevent gl...  "
            ],
            "text/html": [
              "\n",
              "  <div id=\"df-0d7d6d7d-ce88-48e5-ba38-3441170b288f\" class=\"colab-df-container\">\n",
              "    <div>\n",
              "<style scoped>\n",
              "    .dataframe tbody tr th:only-of-type {\n",
              "        vertical-align: middle;\n",
              "    }\n",
              "\n",
              "    .dataframe tbody tr th {\n",
              "        vertical-align: top;\n",
              "    }\n",
              "\n",
              "    .dataframe thead th {\n",
              "        text-align: right;\n",
              "    }\n",
              "</style>\n",
              "<table border=\"1\" class=\"dataframe\">\n",
              "  <thead>\n",
              "    <tr style=\"text-align: right;\">\n",
              "      <th></th>\n",
              "      <th>question</th>\n",
              "      <th>answer</th>\n",
              "    </tr>\n",
              "  </thead>\n",
              "  <tbody>\n",
              "    <tr>\n",
              "      <th>0</th>\n",
              "      <td>What is (are) Glaucoma ?</td>\n",
              "      <td>Glaucoma is a group of diseases that can damag...</td>\n",
              "    </tr>\n",
              "    <tr>\n",
              "      <th>1</th>\n",
              "      <td>What is (are) Glaucoma ?</td>\n",
              "      <td>The optic nerve is a bundle of more than 1 mil...</td>\n",
              "    </tr>\n",
              "    <tr>\n",
              "      <th>2</th>\n",
              "      <td>What is (are) Glaucoma ?</td>\n",
              "      <td>Open-angle glaucoma is the most common form of...</td>\n",
              "    </tr>\n",
              "    <tr>\n",
              "      <th>3</th>\n",
              "      <td>Who is at risk for Glaucoma? ?</td>\n",
              "      <td>Anyone can develop glaucoma. Some people are a...</td>\n",
              "    </tr>\n",
              "    <tr>\n",
              "      <th>4</th>\n",
              "      <td>How to prevent Glaucoma ?</td>\n",
              "      <td>At this time, we do not know how to prevent gl...</td>\n",
              "    </tr>\n",
              "  </tbody>\n",
              "</table>\n",
              "</div>\n",
              "    <div class=\"colab-df-buttons\">\n",
              "\n",
              "  <div class=\"colab-df-container\">\n",
              "    <button class=\"colab-df-convert\" onclick=\"convertToInteractive('df-0d7d6d7d-ce88-48e5-ba38-3441170b288f')\"\n",
              "            title=\"Convert this dataframe to an interactive table.\"\n",
              "            style=\"display:none;\">\n",
              "\n",
              "  <svg xmlns=\"http://www.w3.org/2000/svg\" height=\"24px\" viewBox=\"0 -960 960 960\">\n",
              "    <path d=\"M120-120v-720h720v720H120Zm60-500h600v-160H180v160Zm220 220h160v-160H400v160Zm0 220h160v-160H400v160ZM180-400h160v-160H180v160Zm440 0h160v-160H620v160ZM180-180h160v-160H180v160Zm440 0h160v-160H620v160Z\"/>\n",
              "  </svg>\n",
              "    </button>\n",
              "\n",
              "  <style>\n",
              "    .colab-df-container {\n",
              "      display:flex;\n",
              "      gap: 12px;\n",
              "    }\n",
              "\n",
              "    .colab-df-convert {\n",
              "      background-color: #E8F0FE;\n",
              "      border: none;\n",
              "      border-radius: 50%;\n",
              "      cursor: pointer;\n",
              "      display: none;\n",
              "      fill: #1967D2;\n",
              "      height: 32px;\n",
              "      padding: 0 0 0 0;\n",
              "      width: 32px;\n",
              "    }\n",
              "\n",
              "    .colab-df-convert:hover {\n",
              "      background-color: #E2EBFA;\n",
              "      box-shadow: 0px 1px 2px rgba(60, 64, 67, 0.3), 0px 1px 3px 1px rgba(60, 64, 67, 0.15);\n",
              "      fill: #174EA6;\n",
              "    }\n",
              "\n",
              "    .colab-df-buttons div {\n",
              "      margin-bottom: 4px;\n",
              "    }\n",
              "\n",
              "    [theme=dark] .colab-df-convert {\n",
              "      background-color: #3B4455;\n",
              "      fill: #D2E3FC;\n",
              "    }\n",
              "\n",
              "    [theme=dark] .colab-df-convert:hover {\n",
              "      background-color: #434B5C;\n",
              "      box-shadow: 0px 1px 3px 1px rgba(0, 0, 0, 0.15);\n",
              "      filter: drop-shadow(0px 1px 2px rgba(0, 0, 0, 0.3));\n",
              "      fill: #FFFFFF;\n",
              "    }\n",
              "  </style>\n",
              "\n",
              "    <script>\n",
              "      const buttonEl =\n",
              "        document.querySelector('#df-0d7d6d7d-ce88-48e5-ba38-3441170b288f button.colab-df-convert');\n",
              "      buttonEl.style.display =\n",
              "        google.colab.kernel.accessAllowed ? 'block' : 'none';\n",
              "\n",
              "      async function convertToInteractive(key) {\n",
              "        const element = document.querySelector('#df-0d7d6d7d-ce88-48e5-ba38-3441170b288f');\n",
              "        const dataTable =\n",
              "          await google.colab.kernel.invokeFunction('convertToInteractive',\n",
              "                                                    [key], {});\n",
              "        if (!dataTable) return;\n",
              "\n",
              "        const docLinkHtml = 'Like what you see? Visit the ' +\n",
              "          '<a target=\"_blank\" href=https://colab.research.google.com/notebooks/data_table.ipynb>data table notebook</a>'\n",
              "          + ' to learn more about interactive tables.';\n",
              "        element.innerHTML = '';\n",
              "        dataTable['output_type'] = 'display_data';\n",
              "        await google.colab.output.renderOutput(dataTable, element);\n",
              "        const docLink = document.createElement('div');\n",
              "        docLink.innerHTML = docLinkHtml;\n",
              "        element.appendChild(docLink);\n",
              "      }\n",
              "    </script>\n",
              "  </div>\n",
              "\n",
              "\n",
              "<div id=\"df-38b68d70-1597-42b3-a754-1f152a9f52b9\">\n",
              "  <button class=\"colab-df-quickchart\" onclick=\"quickchart('df-38b68d70-1597-42b3-a754-1f152a9f52b9')\"\n",
              "            title=\"Suggest charts\"\n",
              "            style=\"display:none;\">\n",
              "\n",
              "<svg xmlns=\"http://www.w3.org/2000/svg\" height=\"24px\"viewBox=\"0 0 24 24\"\n",
              "     width=\"24px\">\n",
              "    <g>\n",
              "        <path d=\"M19 3H5c-1.1 0-2 .9-2 2v14c0 1.1.9 2 2 2h14c1.1 0 2-.9 2-2V5c0-1.1-.9-2-2-2zM9 17H7v-7h2v7zm4 0h-2V7h2v10zm4 0h-2v-4h2v4z\"/>\n",
              "    </g>\n",
              "</svg>\n",
              "  </button>\n",
              "\n",
              "<style>\n",
              "  .colab-df-quickchart {\n",
              "      --bg-color: #E8F0FE;\n",
              "      --fill-color: #1967D2;\n",
              "      --hover-bg-color: #E2EBFA;\n",
              "      --hover-fill-color: #174EA6;\n",
              "      --disabled-fill-color: #AAA;\n",
              "      --disabled-bg-color: #DDD;\n",
              "  }\n",
              "\n",
              "  [theme=dark] .colab-df-quickchart {\n",
              "      --bg-color: #3B4455;\n",
              "      --fill-color: #D2E3FC;\n",
              "      --hover-bg-color: #434B5C;\n",
              "      --hover-fill-color: #FFFFFF;\n",
              "      --disabled-bg-color: #3B4455;\n",
              "      --disabled-fill-color: #666;\n",
              "  }\n",
              "\n",
              "  .colab-df-quickchart {\n",
              "    background-color: var(--bg-color);\n",
              "    border: none;\n",
              "    border-radius: 50%;\n",
              "    cursor: pointer;\n",
              "    display: none;\n",
              "    fill: var(--fill-color);\n",
              "    height: 32px;\n",
              "    padding: 0;\n",
              "    width: 32px;\n",
              "  }\n",
              "\n",
              "  .colab-df-quickchart:hover {\n",
              "    background-color: var(--hover-bg-color);\n",
              "    box-shadow: 0 1px 2px rgba(60, 64, 67, 0.3), 0 1px 3px 1px rgba(60, 64, 67, 0.15);\n",
              "    fill: var(--button-hover-fill-color);\n",
              "  }\n",
              "\n",
              "  .colab-df-quickchart-complete:disabled,\n",
              "  .colab-df-quickchart-complete:disabled:hover {\n",
              "    background-color: var(--disabled-bg-color);\n",
              "    fill: var(--disabled-fill-color);\n",
              "    box-shadow: none;\n",
              "  }\n",
              "\n",
              "  .colab-df-spinner {\n",
              "    border: 2px solid var(--fill-color);\n",
              "    border-color: transparent;\n",
              "    border-bottom-color: var(--fill-color);\n",
              "    animation:\n",
              "      spin 1s steps(1) infinite;\n",
              "  }\n",
              "\n",
              "  @keyframes spin {\n",
              "    0% {\n",
              "      border-color: transparent;\n",
              "      border-bottom-color: var(--fill-color);\n",
              "      border-left-color: var(--fill-color);\n",
              "    }\n",
              "    20% {\n",
              "      border-color: transparent;\n",
              "      border-left-color: var(--fill-color);\n",
              "      border-top-color: var(--fill-color);\n",
              "    }\n",
              "    30% {\n",
              "      border-color: transparent;\n",
              "      border-left-color: var(--fill-color);\n",
              "      border-top-color: var(--fill-color);\n",
              "      border-right-color: var(--fill-color);\n",
              "    }\n",
              "    40% {\n",
              "      border-color: transparent;\n",
              "      border-right-color: var(--fill-color);\n",
              "      border-top-color: var(--fill-color);\n",
              "    }\n",
              "    60% {\n",
              "      border-color: transparent;\n",
              "      border-right-color: var(--fill-color);\n",
              "    }\n",
              "    80% {\n",
              "      border-color: transparent;\n",
              "      border-right-color: var(--fill-color);\n",
              "      border-bottom-color: var(--fill-color);\n",
              "    }\n",
              "    90% {\n",
              "      border-color: transparent;\n",
              "      border-bottom-color: var(--fill-color);\n",
              "    }\n",
              "  }\n",
              "</style>\n",
              "\n",
              "  <script>\n",
              "    async function quickchart(key) {\n",
              "      const quickchartButtonEl =\n",
              "        document.querySelector('#' + key + ' button');\n",
              "      quickchartButtonEl.disabled = true;  // To prevent multiple clicks.\n",
              "      quickchartButtonEl.classList.add('colab-df-spinner');\n",
              "      try {\n",
              "        const charts = await google.colab.kernel.invokeFunction(\n",
              "            'suggestCharts', [key], {});\n",
              "      } catch (error) {\n",
              "        console.error('Error during call to suggestCharts:', error);\n",
              "      }\n",
              "      quickchartButtonEl.classList.remove('colab-df-spinner');\n",
              "      quickchartButtonEl.classList.add('colab-df-quickchart-complete');\n",
              "    }\n",
              "    (() => {\n",
              "      let quickchartButtonEl =\n",
              "        document.querySelector('#df-38b68d70-1597-42b3-a754-1f152a9f52b9 button');\n",
              "      quickchartButtonEl.style.display =\n",
              "        google.colab.kernel.accessAllowed ? 'block' : 'none';\n",
              "    })();\n",
              "  </script>\n",
              "</div>\n",
              "    </div>\n",
              "  </div>\n"
            ],
            "application/vnd.google.colaboratory.intrinsic+json": {
              "type": "dataframe",
              "variable_name": "df",
              "summary": "{\n  \"name\": \"df\",\n  \"rows\": 16401,\n  \"fields\": [\n    {\n      \"column\": \"question\",\n      \"properties\": {\n        \"dtype\": \"string\",\n        \"num_unique_values\": 14976,\n        \"samples\": [\n          \"How many people are affected by prion disease ?\",\n          \"What are the treatments for Crouzon syndrome ?\",\n          \"How many people are affected by Ehlers-Danlos syndrome ?\"\n        ],\n        \"semantic_type\": \"\",\n        \"description\": \"\"\n      }\n    },\n    {\n      \"column\": \"answer\",\n      \"properties\": {\n        \"dtype\": \"string\",\n        \"num_unique_values\": 15811,\n        \"samples\": [\n          \"Mutations in the CDC73 gene (also known as the HRPT2 gene) cause hyperparathyroidism-jaw tumor syndrome. The CDC73 gene provides instructions for making a protein called parafibromin. This protein is found throughout the body and is likely involved in gene transcription, which is the first step in protein production. Parafibromin is also thought to play a role in cell growth and division (proliferation), either promoting or inhibiting cell proliferation depending on signals within the cell.  CDC73 gene mutations cause hyperparathyroidism-jaw tumor syndrome by reducing the amount of functional parafibromin that is produced. Most of these mutations result in a parafibromin protein that is abnormally short and nonfunctional. Without functional parafibromin, cell proliferation is not properly regulated. Uncontrolled cell division can lead to the formation of tumors. It is unknown why only certain tissues seem to be affected by changes in parafibromin.  Some people with hyperparathyroidism-jaw tumor syndrome do not have identified mutations in the CDC73 gene. The cause of the condition in these individuals is unknown.\",\n          \"Scientists continue to look at new ways to prevent, treat, and diagnose prostate cancer. Research has already led to a number of advances in these areas. Dietary Research Several studies are under way to explore the causes of prostate cancer. Some researchers think that diet may affect a man's chances of developing prostate cancer. For example, some studies show that prostate cancer is more common in populations that consume a high-fat diet, particularly animal fat, and in populations with diets that lack certain nutrients. Research on Testosterone Some research suggests that high levels of testosterone may increase a man's risk of prostate cancer. The difference in prostate cancer risk among racial groups could be related to high testosterone levels, but it also could result from diet or other lifestyle factors. Genetic Research Researchers are studying changes in genes that may increase the risk for developing prostate cancer. Some studies are looking at the genes of men who were diagnosed with prostate cancer at a relatively young age, such as less than 55 years old, and the genes of families who have several members with the disease. Other studies are trying to identify which genes, or arrangements of genes, are most likely to lead to prostate cancer. Much more work is needed, however, before scientists can say exactly how genetic changes relate to prostate cancer. Prevention Research Several studies have explored ways to prevent prostate cancer. In October 2008, initial results of a study on the use of the dietary supplements vitamin E and selenium found that they did not provide any benefit in reducing the number of new cases of the disease. A few studies suggest that a diet that regularly includes tomato-based foods may help protect men from prostate cancer, but there are no studies that conclusively prove this hypothesis. According to results of a study that was re-analyzed in 2013, men who took finasteride, a drug that affects male hormone levels, reduced their chances of getting prostate cancer by nearly 30 percent compared to men who took a placebo. Unlike earlier findings from this study, this new analysis showed no increased risk of late stage disease due to use of finasteride. Stopping Prostate Cancer from Returning Scientists are also looking at ways to stop prostate cancer from returning in men who have already been treated for the disease. These approaches use drugs such as finasteride, flutamide, nilutamide, and LH-RH agonists that manipulate hormone levels. In 2010, the FDA approved a therapeutic cancer vaccine, Provenge, for use in some men with metastatic prostate cancer. Provenge may provide a 4-month improvement in overall survival compared with a placebo vaccine. Other similar vaccine therapies are in development. Research on New Blood Tests Some researchers are working to develop new blood tests to detect the antibodies that the immune system produces to fight prostate cancer. When used along with PSA testing, the antibody tests may provide more accurate results about whether or not a man has prostate cancer. Researching New Approaches to Treatment Through research, doctors are trying to find new, more effective ways to treat prostate cancer. Cryosurgery -- destroying cancer by freezing it -- is under study as an alternative to surgery and radiation therapy. To avoid damaging healthy tissue, the doctor places an instrument known as a cryoprobe in direct contact with the tumor to freeze it. Doctors are studying new ways of using radiation therapy and hormonal therapy, too. Studies have shown that hormonal therapy given after radiation therapy can help certain men whose cancer has spread to nearby tissues. Scientists are also testing the effectiveness of chemotherapy and biological therapy for men whose cancer does not respond, or stops responding, to hormonal therapy. They are also exploring new ways to schedule and combine various treatments. For example, they are studying hormonal therapy to find out if using it to shrink the tumor before a man has surgery or radiation might be a useful approach. For men with early stage prostate cancer, researchers are also comparing treatment with watchful waiting. The results of this work will help doctors know whether to treat early stage prostate cancer immediately or only later on, if symptoms occur or worsen.\",\n          \"Sleep apnea is a common disorder that causes your breathing to stop or get very shallow. Breathing pauses can last from a few seconds to minutes. They may occur 30 times or more an hour.    The most common type is obstructive sleep apnea. It causes your airway to collapse or become blocked during sleep. Normal breathing starts again with a snort or choking sound. People with sleep apnea often snore loudly. However, not everyone who snores has sleep apnea.    You are more at risk for sleep apnea if you are overweight, male, or have a family history or small airways. Children with enlarged tonsils may also get it.    Doctors diagnose sleep apnea based on medical and family histories, a physical exam, and sleep study results.    When your sleep is interrupted throughout the night, you can be drowsy during the day. People with sleep apnea are at higher risk for car crashes, work-related accidents, and other medical problems. If you have it, it is important to get treatment. Lifestyle changes, mouthpieces, surgery, and breathing devices can treat sleep apnea in many people.    NIH: National Heart, Lung, and Blood Institute\"\n        ],\n        \"semantic_type\": \"\",\n        \"description\": \"\"\n      }\n    }\n  ]\n}"
            }
          },
          "metadata": {},
          "execution_count": 8
        }
      ],
      "source": [
        "def clean_text(text):\n",
        "    text=re.sub('-',' ',text.lower())\n",
        "    text=re.sub('\\t',' ',text)\n",
        "    return text\n",
        "\n",
        "df.drop(columns=['answer tokens','question tokens'],axis=1,inplace=True)\n",
        "df.head()"
      ]
    },
    {
      "cell_type": "markdown",
      "source": [
        "Here we will particularly use the concept of Seq2Seq modelling where the encoder will be fed the data input as question and encoder will pass on the information as a context vector to decoder to predict the output.\n"
      ],
      "metadata": {
        "id": "yW1i2K3D7NxE"
      },
      "id": "yW1i2K3D7NxE"
    },
    {
      "cell_type": "code",
      "source": [
        "df['encoder_inputs']=df['question'].apply(clean_text)\n",
        "df['decoder_targets']=df['answer'].apply(clean_text)+' <end>'\n",
        "df['decoder_inputs']='<start> '+df['answer'].apply(clean_text)+' <end>'\n",
        "df.head()"
      ],
      "metadata": {
        "colab": {
          "base_uri": "https://localhost:8080/",
          "height": 310
        },
        "id": "23piUbqK4tIG",
        "outputId": "43a05687-20ef-47f4-9279-129999eabf4c"
      },
      "id": "23piUbqK4tIG",
      "execution_count": null,
      "outputs": [
        {
          "output_type": "execute_result",
          "data": {
            "text/plain": [
              "                         question  \\\n",
              "0        What is (are) Glaucoma ?   \n",
              "1        What is (are) Glaucoma ?   \n",
              "2        What is (are) Glaucoma ?   \n",
              "3  Who is at risk for Glaucoma? ?   \n",
              "4       How to prevent Glaucoma ?   \n",
              "\n",
              "                                              answer  \\\n",
              "0  Glaucoma is a group of diseases that can damag...   \n",
              "1  The optic nerve is a bundle of more than 1 mil...   \n",
              "2  Open-angle glaucoma is the most common form of...   \n",
              "3  Anyone can develop glaucoma. Some people are a...   \n",
              "4  At this time, we do not know how to prevent gl...   \n",
              "\n",
              "                   encoder_inputs  \\\n",
              "0        what is (are) glaucoma ?   \n",
              "1        what is (are) glaucoma ?   \n",
              "2        what is (are) glaucoma ?   \n",
              "3  who is at risk for glaucoma? ?   \n",
              "4       how to prevent glaucoma ?   \n",
              "\n",
              "                                     decoder_targets  \\\n",
              "0  glaucoma is a group of diseases that can damag...   \n",
              "1  the optic nerve is a bundle of more than 1 mil...   \n",
              "2  open angle glaucoma is the most common form of...   \n",
              "3  anyone can develop glaucoma. some people are a...   \n",
              "4  at this time, we do not know how to prevent gl...   \n",
              "\n",
              "                                      decoder_inputs  \n",
              "0  <start> glaucoma is a group of diseases that c...  \n",
              "1  <start> the optic nerve is a bundle of more th...  \n",
              "2  <start> open angle glaucoma is the most common...  \n",
              "3  <start> anyone can develop glaucoma. some peop...  \n",
              "4  <start> at this time, we do not know how to pr...  "
            ],
            "text/html": [
              "\n",
              "  <div id=\"df-71b10726-20e3-41da-b3f2-41ffd879bbb0\" class=\"colab-df-container\">\n",
              "    <div>\n",
              "<style scoped>\n",
              "    .dataframe tbody tr th:only-of-type {\n",
              "        vertical-align: middle;\n",
              "    }\n",
              "\n",
              "    .dataframe tbody tr th {\n",
              "        vertical-align: top;\n",
              "    }\n",
              "\n",
              "    .dataframe thead th {\n",
              "        text-align: right;\n",
              "    }\n",
              "</style>\n",
              "<table border=\"1\" class=\"dataframe\">\n",
              "  <thead>\n",
              "    <tr style=\"text-align: right;\">\n",
              "      <th></th>\n",
              "      <th>question</th>\n",
              "      <th>answer</th>\n",
              "      <th>encoder_inputs</th>\n",
              "      <th>decoder_targets</th>\n",
              "      <th>decoder_inputs</th>\n",
              "    </tr>\n",
              "  </thead>\n",
              "  <tbody>\n",
              "    <tr>\n",
              "      <th>0</th>\n",
              "      <td>What is (are) Glaucoma ?</td>\n",
              "      <td>Glaucoma is a group of diseases that can damag...</td>\n",
              "      <td>what is (are) glaucoma ?</td>\n",
              "      <td>glaucoma is a group of diseases that can damag...</td>\n",
              "      <td>&lt;start&gt; glaucoma is a group of diseases that c...</td>\n",
              "    </tr>\n",
              "    <tr>\n",
              "      <th>1</th>\n",
              "      <td>What is (are) Glaucoma ?</td>\n",
              "      <td>The optic nerve is a bundle of more than 1 mil...</td>\n",
              "      <td>what is (are) glaucoma ?</td>\n",
              "      <td>the optic nerve is a bundle of more than 1 mil...</td>\n",
              "      <td>&lt;start&gt; the optic nerve is a bundle of more th...</td>\n",
              "    </tr>\n",
              "    <tr>\n",
              "      <th>2</th>\n",
              "      <td>What is (are) Glaucoma ?</td>\n",
              "      <td>Open-angle glaucoma is the most common form of...</td>\n",
              "      <td>what is (are) glaucoma ?</td>\n",
              "      <td>open angle glaucoma is the most common form of...</td>\n",
              "      <td>&lt;start&gt; open angle glaucoma is the most common...</td>\n",
              "    </tr>\n",
              "    <tr>\n",
              "      <th>3</th>\n",
              "      <td>Who is at risk for Glaucoma? ?</td>\n",
              "      <td>Anyone can develop glaucoma. Some people are a...</td>\n",
              "      <td>who is at risk for glaucoma? ?</td>\n",
              "      <td>anyone can develop glaucoma. some people are a...</td>\n",
              "      <td>&lt;start&gt; anyone can develop glaucoma. some peop...</td>\n",
              "    </tr>\n",
              "    <tr>\n",
              "      <th>4</th>\n",
              "      <td>How to prevent Glaucoma ?</td>\n",
              "      <td>At this time, we do not know how to prevent gl...</td>\n",
              "      <td>how to prevent glaucoma ?</td>\n",
              "      <td>at this time, we do not know how to prevent gl...</td>\n",
              "      <td>&lt;start&gt; at this time, we do not know how to pr...</td>\n",
              "    </tr>\n",
              "  </tbody>\n",
              "</table>\n",
              "</div>\n",
              "    <div class=\"colab-df-buttons\">\n",
              "\n",
              "  <div class=\"colab-df-container\">\n",
              "    <button class=\"colab-df-convert\" onclick=\"convertToInteractive('df-71b10726-20e3-41da-b3f2-41ffd879bbb0')\"\n",
              "            title=\"Convert this dataframe to an interactive table.\"\n",
              "            style=\"display:none;\">\n",
              "\n",
              "  <svg xmlns=\"http://www.w3.org/2000/svg\" height=\"24px\" viewBox=\"0 -960 960 960\">\n",
              "    <path d=\"M120-120v-720h720v720H120Zm60-500h600v-160H180v160Zm220 220h160v-160H400v160Zm0 220h160v-160H400v160ZM180-400h160v-160H180v160Zm440 0h160v-160H620v160ZM180-180h160v-160H180v160Zm440 0h160v-160H620v160Z\"/>\n",
              "  </svg>\n",
              "    </button>\n",
              "\n",
              "  <style>\n",
              "    .colab-df-container {\n",
              "      display:flex;\n",
              "      gap: 12px;\n",
              "    }\n",
              "\n",
              "    .colab-df-convert {\n",
              "      background-color: #E8F0FE;\n",
              "      border: none;\n",
              "      border-radius: 50%;\n",
              "      cursor: pointer;\n",
              "      display: none;\n",
              "      fill: #1967D2;\n",
              "      height: 32px;\n",
              "      padding: 0 0 0 0;\n",
              "      width: 32px;\n",
              "    }\n",
              "\n",
              "    .colab-df-convert:hover {\n",
              "      background-color: #E2EBFA;\n",
              "      box-shadow: 0px 1px 2px rgba(60, 64, 67, 0.3), 0px 1px 3px 1px rgba(60, 64, 67, 0.15);\n",
              "      fill: #174EA6;\n",
              "    }\n",
              "\n",
              "    .colab-df-buttons div {\n",
              "      margin-bottom: 4px;\n",
              "    }\n",
              "\n",
              "    [theme=dark] .colab-df-convert {\n",
              "      background-color: #3B4455;\n",
              "      fill: #D2E3FC;\n",
              "    }\n",
              "\n",
              "    [theme=dark] .colab-df-convert:hover {\n",
              "      background-color: #434B5C;\n",
              "      box-shadow: 0px 1px 3px 1px rgba(0, 0, 0, 0.15);\n",
              "      filter: drop-shadow(0px 1px 2px rgba(0, 0, 0, 0.3));\n",
              "      fill: #FFFFFF;\n",
              "    }\n",
              "  </style>\n",
              "\n",
              "    <script>\n",
              "      const buttonEl =\n",
              "        document.querySelector('#df-71b10726-20e3-41da-b3f2-41ffd879bbb0 button.colab-df-convert');\n",
              "      buttonEl.style.display =\n",
              "        google.colab.kernel.accessAllowed ? 'block' : 'none';\n",
              "\n",
              "      async function convertToInteractive(key) {\n",
              "        const element = document.querySelector('#df-71b10726-20e3-41da-b3f2-41ffd879bbb0');\n",
              "        const dataTable =\n",
              "          await google.colab.kernel.invokeFunction('convertToInteractive',\n",
              "                                                    [key], {});\n",
              "        if (!dataTable) return;\n",
              "\n",
              "        const docLinkHtml = 'Like what you see? Visit the ' +\n",
              "          '<a target=\"_blank\" href=https://colab.research.google.com/notebooks/data_table.ipynb>data table notebook</a>'\n",
              "          + ' to learn more about interactive tables.';\n",
              "        element.innerHTML = '';\n",
              "        dataTable['output_type'] = 'display_data';\n",
              "        await google.colab.output.renderOutput(dataTable, element);\n",
              "        const docLink = document.createElement('div');\n",
              "        docLink.innerHTML = docLinkHtml;\n",
              "        element.appendChild(docLink);\n",
              "      }\n",
              "    </script>\n",
              "  </div>\n",
              "\n",
              "\n",
              "<div id=\"df-1e2f95bb-95e9-4b86-bd44-b2361a132b0a\">\n",
              "  <button class=\"colab-df-quickchart\" onclick=\"quickchart('df-1e2f95bb-95e9-4b86-bd44-b2361a132b0a')\"\n",
              "            title=\"Suggest charts\"\n",
              "            style=\"display:none;\">\n",
              "\n",
              "<svg xmlns=\"http://www.w3.org/2000/svg\" height=\"24px\"viewBox=\"0 0 24 24\"\n",
              "     width=\"24px\">\n",
              "    <g>\n",
              "        <path d=\"M19 3H5c-1.1 0-2 .9-2 2v14c0 1.1.9 2 2 2h14c1.1 0 2-.9 2-2V5c0-1.1-.9-2-2-2zM9 17H7v-7h2v7zm4 0h-2V7h2v10zm4 0h-2v-4h2v4z\"/>\n",
              "    </g>\n",
              "</svg>\n",
              "  </button>\n",
              "\n",
              "<style>\n",
              "  .colab-df-quickchart {\n",
              "      --bg-color: #E8F0FE;\n",
              "      --fill-color: #1967D2;\n",
              "      --hover-bg-color: #E2EBFA;\n",
              "      --hover-fill-color: #174EA6;\n",
              "      --disabled-fill-color: #AAA;\n",
              "      --disabled-bg-color: #DDD;\n",
              "  }\n",
              "\n",
              "  [theme=dark] .colab-df-quickchart {\n",
              "      --bg-color: #3B4455;\n",
              "      --fill-color: #D2E3FC;\n",
              "      --hover-bg-color: #434B5C;\n",
              "      --hover-fill-color: #FFFFFF;\n",
              "      --disabled-bg-color: #3B4455;\n",
              "      --disabled-fill-color: #666;\n",
              "  }\n",
              "\n",
              "  .colab-df-quickchart {\n",
              "    background-color: var(--bg-color);\n",
              "    border: none;\n",
              "    border-radius: 50%;\n",
              "    cursor: pointer;\n",
              "    display: none;\n",
              "    fill: var(--fill-color);\n",
              "    height: 32px;\n",
              "    padding: 0;\n",
              "    width: 32px;\n",
              "  }\n",
              "\n",
              "  .colab-df-quickchart:hover {\n",
              "    background-color: var(--hover-bg-color);\n",
              "    box-shadow: 0 1px 2px rgba(60, 64, 67, 0.3), 0 1px 3px 1px rgba(60, 64, 67, 0.15);\n",
              "    fill: var(--button-hover-fill-color);\n",
              "  }\n",
              "\n",
              "  .colab-df-quickchart-complete:disabled,\n",
              "  .colab-df-quickchart-complete:disabled:hover {\n",
              "    background-color: var(--disabled-bg-color);\n",
              "    fill: var(--disabled-fill-color);\n",
              "    box-shadow: none;\n",
              "  }\n",
              "\n",
              "  .colab-df-spinner {\n",
              "    border: 2px solid var(--fill-color);\n",
              "    border-color: transparent;\n",
              "    border-bottom-color: var(--fill-color);\n",
              "    animation:\n",
              "      spin 1s steps(1) infinite;\n",
              "  }\n",
              "\n",
              "  @keyframes spin {\n",
              "    0% {\n",
              "      border-color: transparent;\n",
              "      border-bottom-color: var(--fill-color);\n",
              "      border-left-color: var(--fill-color);\n",
              "    }\n",
              "    20% {\n",
              "      border-color: transparent;\n",
              "      border-left-color: var(--fill-color);\n",
              "      border-top-color: var(--fill-color);\n",
              "    }\n",
              "    30% {\n",
              "      border-color: transparent;\n",
              "      border-left-color: var(--fill-color);\n",
              "      border-top-color: var(--fill-color);\n",
              "      border-right-color: var(--fill-color);\n",
              "    }\n",
              "    40% {\n",
              "      border-color: transparent;\n",
              "      border-right-color: var(--fill-color);\n",
              "      border-top-color: var(--fill-color);\n",
              "    }\n",
              "    60% {\n",
              "      border-color: transparent;\n",
              "      border-right-color: var(--fill-color);\n",
              "    }\n",
              "    80% {\n",
              "      border-color: transparent;\n",
              "      border-right-color: var(--fill-color);\n",
              "      border-bottom-color: var(--fill-color);\n",
              "    }\n",
              "    90% {\n",
              "      border-color: transparent;\n",
              "      border-bottom-color: var(--fill-color);\n",
              "    }\n",
              "  }\n",
              "</style>\n",
              "\n",
              "  <script>\n",
              "    async function quickchart(key) {\n",
              "      const quickchartButtonEl =\n",
              "        document.querySelector('#' + key + ' button');\n",
              "      quickchartButtonEl.disabled = true;  // To prevent multiple clicks.\n",
              "      quickchartButtonEl.classList.add('colab-df-spinner');\n",
              "      try {\n",
              "        const charts = await google.colab.kernel.invokeFunction(\n",
              "            'suggestCharts', [key], {});\n",
              "      } catch (error) {\n",
              "        console.error('Error during call to suggestCharts:', error);\n",
              "      }\n",
              "      quickchartButtonEl.classList.remove('colab-df-spinner');\n",
              "      quickchartButtonEl.classList.add('colab-df-quickchart-complete');\n",
              "    }\n",
              "    (() => {\n",
              "      let quickchartButtonEl =\n",
              "        document.querySelector('#df-1e2f95bb-95e9-4b86-bd44-b2361a132b0a button');\n",
              "      quickchartButtonEl.style.display =\n",
              "        google.colab.kernel.accessAllowed ? 'block' : 'none';\n",
              "    })();\n",
              "  </script>\n",
              "</div>\n",
              "    </div>\n",
              "  </div>\n"
            ],
            "application/vnd.google.colaboratory.intrinsic+json": {
              "type": "dataframe",
              "variable_name": "df",
              "summary": "{\n  \"name\": \"df\",\n  \"rows\": 16401,\n  \"fields\": [\n    {\n      \"column\": \"question\",\n      \"properties\": {\n        \"dtype\": \"string\",\n        \"num_unique_values\": 14976,\n        \"samples\": [\n          \"How many people are affected by prion disease ?\",\n          \"What are the treatments for Crouzon syndrome ?\",\n          \"How many people are affected by Ehlers-Danlos syndrome ?\"\n        ],\n        \"semantic_type\": \"\",\n        \"description\": \"\"\n      }\n    },\n    {\n      \"column\": \"answer\",\n      \"properties\": {\n        \"dtype\": \"string\",\n        \"num_unique_values\": 15811,\n        \"samples\": [\n          \"Mutations in the CDC73 gene (also known as the HRPT2 gene) cause hyperparathyroidism-jaw tumor syndrome. The CDC73 gene provides instructions for making a protein called parafibromin. This protein is found throughout the body and is likely involved in gene transcription, which is the first step in protein production. Parafibromin is also thought to play a role in cell growth and division (proliferation), either promoting or inhibiting cell proliferation depending on signals within the cell.  CDC73 gene mutations cause hyperparathyroidism-jaw tumor syndrome by reducing the amount of functional parafibromin that is produced. Most of these mutations result in a parafibromin protein that is abnormally short and nonfunctional. Without functional parafibromin, cell proliferation is not properly regulated. Uncontrolled cell division can lead to the formation of tumors. It is unknown why only certain tissues seem to be affected by changes in parafibromin.  Some people with hyperparathyroidism-jaw tumor syndrome do not have identified mutations in the CDC73 gene. The cause of the condition in these individuals is unknown.\",\n          \"Scientists continue to look at new ways to prevent, treat, and diagnose prostate cancer. Research has already led to a number of advances in these areas. Dietary Research Several studies are under way to explore the causes of prostate cancer. Some researchers think that diet may affect a man's chances of developing prostate cancer. For example, some studies show that prostate cancer is more common in populations that consume a high-fat diet, particularly animal fat, and in populations with diets that lack certain nutrients. Research on Testosterone Some research suggests that high levels of testosterone may increase a man's risk of prostate cancer. The difference in prostate cancer risk among racial groups could be related to high testosterone levels, but it also could result from diet or other lifestyle factors. Genetic Research Researchers are studying changes in genes that may increase the risk for developing prostate cancer. Some studies are looking at the genes of men who were diagnosed with prostate cancer at a relatively young age, such as less than 55 years old, and the genes of families who have several members with the disease. Other studies are trying to identify which genes, or arrangements of genes, are most likely to lead to prostate cancer. Much more work is needed, however, before scientists can say exactly how genetic changes relate to prostate cancer. Prevention Research Several studies have explored ways to prevent prostate cancer. In October 2008, initial results of a study on the use of the dietary supplements vitamin E and selenium found that they did not provide any benefit in reducing the number of new cases of the disease. A few studies suggest that a diet that regularly includes tomato-based foods may help protect men from prostate cancer, but there are no studies that conclusively prove this hypothesis. According to results of a study that was re-analyzed in 2013, men who took finasteride, a drug that affects male hormone levels, reduced their chances of getting prostate cancer by nearly 30 percent compared to men who took a placebo. Unlike earlier findings from this study, this new analysis showed no increased risk of late stage disease due to use of finasteride. Stopping Prostate Cancer from Returning Scientists are also looking at ways to stop prostate cancer from returning in men who have already been treated for the disease. These approaches use drugs such as finasteride, flutamide, nilutamide, and LH-RH agonists that manipulate hormone levels. In 2010, the FDA approved a therapeutic cancer vaccine, Provenge, for use in some men with metastatic prostate cancer. Provenge may provide a 4-month improvement in overall survival compared with a placebo vaccine. Other similar vaccine therapies are in development. Research on New Blood Tests Some researchers are working to develop new blood tests to detect the antibodies that the immune system produces to fight prostate cancer. When used along with PSA testing, the antibody tests may provide more accurate results about whether or not a man has prostate cancer. Researching New Approaches to Treatment Through research, doctors are trying to find new, more effective ways to treat prostate cancer. Cryosurgery -- destroying cancer by freezing it -- is under study as an alternative to surgery and radiation therapy. To avoid damaging healthy tissue, the doctor places an instrument known as a cryoprobe in direct contact with the tumor to freeze it. Doctors are studying new ways of using radiation therapy and hormonal therapy, too. Studies have shown that hormonal therapy given after radiation therapy can help certain men whose cancer has spread to nearby tissues. Scientists are also testing the effectiveness of chemotherapy and biological therapy for men whose cancer does not respond, or stops responding, to hormonal therapy. They are also exploring new ways to schedule and combine various treatments. For example, they are studying hormonal therapy to find out if using it to shrink the tumor before a man has surgery or radiation might be a useful approach. For men with early stage prostate cancer, researchers are also comparing treatment with watchful waiting. The results of this work will help doctors know whether to treat early stage prostate cancer immediately or only later on, if symptoms occur or worsen.\",\n          \"Sleep apnea is a common disorder that causes your breathing to stop or get very shallow. Breathing pauses can last from a few seconds to minutes. They may occur 30 times or more an hour.    The most common type is obstructive sleep apnea. It causes your airway to collapse or become blocked during sleep. Normal breathing starts again with a snort or choking sound. People with sleep apnea often snore loudly. However, not everyone who snores has sleep apnea.    You are more at risk for sleep apnea if you are overweight, male, or have a family history or small airways. Children with enlarged tonsils may also get it.    Doctors diagnose sleep apnea based on medical and family histories, a physical exam, and sleep study results.    When your sleep is interrupted throughout the night, you can be drowsy during the day. People with sleep apnea are at higher risk for car crashes, work-related accidents, and other medical problems. If you have it, it is important to get treatment. Lifestyle changes, mouthpieces, surgery, and breathing devices can treat sleep apnea in many people.    NIH: National Heart, Lung, and Blood Institute\"\n        ],\n        \"semantic_type\": \"\",\n        \"description\": \"\"\n      }\n    },\n    {\n      \"column\": \"encoder_inputs\",\n      \"properties\": {\n        \"dtype\": \"string\",\n        \"num_unique_values\": 14302,\n        \"samples\": [\n          \"what is (are) propionic acidemia ?\",\n          \"what are the symptoms of pinheiro freire maia miranda syndrome ?\",\n          \"do you have information about bowel movement\"\n        ],\n        \"semantic_type\": \"\",\n        \"description\": \"\"\n      }\n    },\n    {\n      \"column\": \"decoder_targets\",\n      \"properties\": {\n        \"dtype\": \"string\",\n        \"num_unique_values\": 15811,\n        \"samples\": [\n          \"mutations in the cdc73 gene (also known as the hrpt2 gene) cause hyperparathyroidism jaw tumor syndrome. the cdc73 gene provides instructions for making a protein called parafibromin. this protein is found throughout the body and is likely involved in gene transcription, which is the first step in protein production. parafibromin is also thought to play a role in cell growth and division (proliferation), either promoting or inhibiting cell proliferation depending on signals within the cell.  cdc73 gene mutations cause hyperparathyroidism jaw tumor syndrome by reducing the amount of functional parafibromin that is produced. most of these mutations result in a parafibromin protein that is abnormally short and nonfunctional. without functional parafibromin, cell proliferation is not properly regulated. uncontrolled cell division can lead to the formation of tumors. it is unknown why only certain tissues seem to be affected by changes in parafibromin.  some people with hyperparathyroidism jaw tumor syndrome do not have identified mutations in the cdc73 gene. the cause of the condition in these individuals is unknown. <end>\",\n          \"scientists continue to look at new ways to prevent, treat, and diagnose prostate cancer. research has already led to a number of advances in these areas. dietary research several studies are under way to explore the causes of prostate cancer. some researchers think that diet may affect a man's chances of developing prostate cancer. for example, some studies show that prostate cancer is more common in populations that consume a high fat diet, particularly animal fat, and in populations with diets that lack certain nutrients. research on testosterone some research suggests that high levels of testosterone may increase a man's risk of prostate cancer. the difference in prostate cancer risk among racial groups could be related to high testosterone levels, but it also could result from diet or other lifestyle factors. genetic research researchers are studying changes in genes that may increase the risk for developing prostate cancer. some studies are looking at the genes of men who were diagnosed with prostate cancer at a relatively young age, such as less than 55 years old, and the genes of families who have several members with the disease. other studies are trying to identify which genes, or arrangements of genes, are most likely to lead to prostate cancer. much more work is needed, however, before scientists can say exactly how genetic changes relate to prostate cancer. prevention research several studies have explored ways to prevent prostate cancer. in october 2008, initial results of a study on the use of the dietary supplements vitamin e and selenium found that they did not provide any benefit in reducing the number of new cases of the disease. a few studies suggest that a diet that regularly includes tomato based foods may help protect men from prostate cancer, but there are no studies that conclusively prove this hypothesis. according to results of a study that was re analyzed in 2013, men who took finasteride, a drug that affects male hormone levels, reduced their chances of getting prostate cancer by nearly 30 percent compared to men who took a placebo. unlike earlier findings from this study, this new analysis showed no increased risk of late stage disease due to use of finasteride. stopping prostate cancer from returning scientists are also looking at ways to stop prostate cancer from returning in men who have already been treated for the disease. these approaches use drugs such as finasteride, flutamide, nilutamide, and lh rh agonists that manipulate hormone levels. in 2010, the fda approved a therapeutic cancer vaccine, provenge, for use in some men with metastatic prostate cancer. provenge may provide a 4 month improvement in overall survival compared with a placebo vaccine. other similar vaccine therapies are in development. research on new blood tests some researchers are working to develop new blood tests to detect the antibodies that the immune system produces to fight prostate cancer. when used along with psa testing, the antibody tests may provide more accurate results about whether or not a man has prostate cancer. researching new approaches to treatment through research, doctors are trying to find new, more effective ways to treat prostate cancer. cryosurgery    destroying cancer by freezing it    is under study as an alternative to surgery and radiation therapy. to avoid damaging healthy tissue, the doctor places an instrument known as a cryoprobe in direct contact with the tumor to freeze it. doctors are studying new ways of using radiation therapy and hormonal therapy, too. studies have shown that hormonal therapy given after radiation therapy can help certain men whose cancer has spread to nearby tissues. scientists are also testing the effectiveness of chemotherapy and biological therapy for men whose cancer does not respond, or stops responding, to hormonal therapy. they are also exploring new ways to schedule and combine various treatments. for example, they are studying hormonal therapy to find out if using it to shrink the tumor before a man has surgery or radiation might be a useful approach. for men with early stage prostate cancer, researchers are also comparing treatment with watchful waiting. the results of this work will help doctors know whether to treat early stage prostate cancer immediately or only later on, if symptoms occur or worsen. <end>\",\n          \"sleep apnea is a common disorder that causes your breathing to stop or get very shallow. breathing pauses can last from a few seconds to minutes. they may occur 30 times or more an hour.    the most common type is obstructive sleep apnea. it causes your airway to collapse or become blocked during sleep. normal breathing starts again with a snort or choking sound. people with sleep apnea often snore loudly. however, not everyone who snores has sleep apnea.    you are more at risk for sleep apnea if you are overweight, male, or have a family history or small airways. children with enlarged tonsils may also get it.    doctors diagnose sleep apnea based on medical and family histories, a physical exam, and sleep study results.    when your sleep is interrupted throughout the night, you can be drowsy during the day. people with sleep apnea are at higher risk for car crashes, work related accidents, and other medical problems. if you have it, it is important to get treatment. lifestyle changes, mouthpieces, surgery, and breathing devices can treat sleep apnea in many people.    nih: national heart, lung, and blood institute <end>\"\n        ],\n        \"semantic_type\": \"\",\n        \"description\": \"\"\n      }\n    },\n    {\n      \"column\": \"decoder_inputs\",\n      \"properties\": {\n        \"dtype\": \"string\",\n        \"num_unique_values\": 15811,\n        \"samples\": [\n          \"<start> mutations in the cdc73 gene (also known as the hrpt2 gene) cause hyperparathyroidism jaw tumor syndrome. the cdc73 gene provides instructions for making a protein called parafibromin. this protein is found throughout the body and is likely involved in gene transcription, which is the first step in protein production. parafibromin is also thought to play a role in cell growth and division (proliferation), either promoting or inhibiting cell proliferation depending on signals within the cell.  cdc73 gene mutations cause hyperparathyroidism jaw tumor syndrome by reducing the amount of functional parafibromin that is produced. most of these mutations result in a parafibromin protein that is abnormally short and nonfunctional. without functional parafibromin, cell proliferation is not properly regulated. uncontrolled cell division can lead to the formation of tumors. it is unknown why only certain tissues seem to be affected by changes in parafibromin.  some people with hyperparathyroidism jaw tumor syndrome do not have identified mutations in the cdc73 gene. the cause of the condition in these individuals is unknown. <end>\",\n          \"<start> scientists continue to look at new ways to prevent, treat, and diagnose prostate cancer. research has already led to a number of advances in these areas. dietary research several studies are under way to explore the causes of prostate cancer. some researchers think that diet may affect a man's chances of developing prostate cancer. for example, some studies show that prostate cancer is more common in populations that consume a high fat diet, particularly animal fat, and in populations with diets that lack certain nutrients. research on testosterone some research suggests that high levels of testosterone may increase a man's risk of prostate cancer. the difference in prostate cancer risk among racial groups could be related to high testosterone levels, but it also could result from diet or other lifestyle factors. genetic research researchers are studying changes in genes that may increase the risk for developing prostate cancer. some studies are looking at the genes of men who were diagnosed with prostate cancer at a relatively young age, such as less than 55 years old, and the genes of families who have several members with the disease. other studies are trying to identify which genes, or arrangements of genes, are most likely to lead to prostate cancer. much more work is needed, however, before scientists can say exactly how genetic changes relate to prostate cancer. prevention research several studies have explored ways to prevent prostate cancer. in october 2008, initial results of a study on the use of the dietary supplements vitamin e and selenium found that they did not provide any benefit in reducing the number of new cases of the disease. a few studies suggest that a diet that regularly includes tomato based foods may help protect men from prostate cancer, but there are no studies that conclusively prove this hypothesis. according to results of a study that was re analyzed in 2013, men who took finasteride, a drug that affects male hormone levels, reduced their chances of getting prostate cancer by nearly 30 percent compared to men who took a placebo. unlike earlier findings from this study, this new analysis showed no increased risk of late stage disease due to use of finasteride. stopping prostate cancer from returning scientists are also looking at ways to stop prostate cancer from returning in men who have already been treated for the disease. these approaches use drugs such as finasteride, flutamide, nilutamide, and lh rh agonists that manipulate hormone levels. in 2010, the fda approved a therapeutic cancer vaccine, provenge, for use in some men with metastatic prostate cancer. provenge may provide a 4 month improvement in overall survival compared with a placebo vaccine. other similar vaccine therapies are in development. research on new blood tests some researchers are working to develop new blood tests to detect the antibodies that the immune system produces to fight prostate cancer. when used along with psa testing, the antibody tests may provide more accurate results about whether or not a man has prostate cancer. researching new approaches to treatment through research, doctors are trying to find new, more effective ways to treat prostate cancer. cryosurgery    destroying cancer by freezing it    is under study as an alternative to surgery and radiation therapy. to avoid damaging healthy tissue, the doctor places an instrument known as a cryoprobe in direct contact with the tumor to freeze it. doctors are studying new ways of using radiation therapy and hormonal therapy, too. studies have shown that hormonal therapy given after radiation therapy can help certain men whose cancer has spread to nearby tissues. scientists are also testing the effectiveness of chemotherapy and biological therapy for men whose cancer does not respond, or stops responding, to hormonal therapy. they are also exploring new ways to schedule and combine various treatments. for example, they are studying hormonal therapy to find out if using it to shrink the tumor before a man has surgery or radiation might be a useful approach. for men with early stage prostate cancer, researchers are also comparing treatment with watchful waiting. the results of this work will help doctors know whether to treat early stage prostate cancer immediately or only later on, if symptoms occur or worsen. <end>\",\n          \"<start> sleep apnea is a common disorder that causes your breathing to stop or get very shallow. breathing pauses can last from a few seconds to minutes. they may occur 30 times or more an hour.    the most common type is obstructive sleep apnea. it causes your airway to collapse or become blocked during sleep. normal breathing starts again with a snort or choking sound. people with sleep apnea often snore loudly. however, not everyone who snores has sleep apnea.    you are more at risk for sleep apnea if you are overweight, male, or have a family history or small airways. children with enlarged tonsils may also get it.    doctors diagnose sleep apnea based on medical and family histories, a physical exam, and sleep study results.    when your sleep is interrupted throughout the night, you can be drowsy during the day. people with sleep apnea are at higher risk for car crashes, work related accidents, and other medical problems. if you have it, it is important to get treatment. lifestyle changes, mouthpieces, surgery, and breathing devices can treat sleep apnea in many people.    nih: national heart, lung, and blood institute <end>\"\n        ],\n        \"semantic_type\": \"\",\n        \"description\": \"\"\n      }\n    }\n  ]\n}"
            }
          },
          "metadata": {},
          "execution_count": 9
        }
      ]
    },
    {
      "cell_type": "markdown",
      "source": [
        "**Note that here we will be use the TEACHER FORCING Method to reduce the limitation of Encoder having errors in transfering of data.**\n",
        "\n",
        "**The decoder model will not recieve the output of the encoder but the correct input that we will be giving so that it could be fed correct data for prediction.**\n",
        "\n"
      ],
      "metadata": {
        "id": "UxjR_3yW6HQX"
      },
      "id": "UxjR_3yW6HQX"
    },
    {
      "cell_type": "code",
      "source": [
        "df['encoder input tokens']=df['encoder_inputs'].apply(lambda x:len(x.split()))\n",
        "df['decoder input tokens']=df['decoder_inputs'].apply(lambda x:len(x.split()))\n",
        "df['decoder target tokens']=df['decoder_targets'].apply(lambda x:len(x.split()))"
      ],
      "metadata": {
        "id": "mm20t3pQ59D0"
      },
      "id": "mm20t3pQ59D0",
      "execution_count": null,
      "outputs": []
    },
    {
      "cell_type": "code",
      "execution_count": null,
      "id": "ffbe2a98",
      "metadata": {
        "execution": {
          "iopub.execute_input": "2023-09-30T09:04:52.519343Z",
          "iopub.status.busy": "2023-09-30T09:04:52.517934Z",
          "iopub.status.idle": "2023-09-30T09:04:52.540187Z",
          "shell.execute_reply": "2023-09-30T09:04:52.538845Z"
        },
        "papermill": {
          "duration": 0.038262,
          "end_time": "2023-09-30T09:04:52.542814",
          "exception": false,
          "start_time": "2023-09-30T09:04:52.504552",
          "status": "completed"
        },
        "tags": [],
        "id": "ffbe2a98",
        "outputId": "e700f050-0a18-4544-828b-3dee5b0b475c",
        "colab": {
          "base_uri": "https://localhost:8080/",
          "height": 524
        }
      },
      "outputs": [
        {
          "output_type": "stream",
          "name": "stdout",
          "text": [
            "After preprocessing: what research (or clinical trials) is being done for national hormone and pituitary program (nhpp): information for people treated with pituitary human growth hormone (comprehensive report) ?\n",
            "Max encoder input length: 27\n",
            "Max decoder input length: 4238\n",
            "Max decoder target length: 4237\n"
          ]
        },
        {
          "output_type": "execute_result",
          "data": {
            "text/plain": [
              "                                      encoder_inputs  \\\n",
              "0                           what is (are) glaucoma ?   \n",
              "1                           what is (are) glaucoma ?   \n",
              "2                           what is (are) glaucoma ?   \n",
              "3                     who is at risk for glaucoma? ?   \n",
              "4                          how to prevent glaucoma ?   \n",
              "5                what are the symptoms of glaucoma ?   \n",
              "6             what are the treatments for glaucoma ?   \n",
              "7  what research (or clinical trials) is being do...   \n",
              "8                     who is at risk for glaucoma? ?   \n",
              "9                           what is (are) glaucoma ?   \n",
              "\n",
              "                                     decoder_targets  \\\n",
              "0  glaucoma is a group of diseases that can damag...   \n",
              "1  the optic nerve is a bundle of more than 1 mil...   \n",
              "2  open angle glaucoma is the most common form of...   \n",
              "3  anyone can develop glaucoma. some people are a...   \n",
              "4  at this time, we do not know how to prevent gl...   \n",
              "5  at first, open angle glaucoma has no symptoms....   \n",
              "6  yes. immediate treatment for early stage, open...   \n",
              "7  through studies in the laboratory and with pat...   \n",
              "8  encourage them to have a comprehensive dilated...   \n",
              "9  national eye institute  national institutes of...   \n",
              "\n",
              "                                      decoder_inputs  \n",
              "0  <start> glaucoma is a group of diseases that c...  \n",
              "1  <start> the optic nerve is a bundle of more th...  \n",
              "2  <start> open angle glaucoma is the most common...  \n",
              "3  <start> anyone can develop glaucoma. some peop...  \n",
              "4  <start> at this time, we do not know how to pr...  \n",
              "5  <start> at first, open angle glaucoma has no s...  \n",
              "6  <start> yes. immediate treatment for early sta...  \n",
              "7  <start> through studies in the laboratory and ...  \n",
              "8  <start> encourage them to have a comprehensive...  \n",
              "9  <start> national eye institute  national insti...  "
            ],
            "text/html": [
              "\n",
              "  <div id=\"df-5d93b952-0486-44fd-a74b-c07d536f87dc\" class=\"colab-df-container\">\n",
              "    <div>\n",
              "<style scoped>\n",
              "    .dataframe tbody tr th:only-of-type {\n",
              "        vertical-align: middle;\n",
              "    }\n",
              "\n",
              "    .dataframe tbody tr th {\n",
              "        vertical-align: top;\n",
              "    }\n",
              "\n",
              "    .dataframe thead th {\n",
              "        text-align: right;\n",
              "    }\n",
              "</style>\n",
              "<table border=\"1\" class=\"dataframe\">\n",
              "  <thead>\n",
              "    <tr style=\"text-align: right;\">\n",
              "      <th></th>\n",
              "      <th>encoder_inputs</th>\n",
              "      <th>decoder_targets</th>\n",
              "      <th>decoder_inputs</th>\n",
              "    </tr>\n",
              "  </thead>\n",
              "  <tbody>\n",
              "    <tr>\n",
              "      <th>0</th>\n",
              "      <td>what is (are) glaucoma ?</td>\n",
              "      <td>glaucoma is a group of diseases that can damag...</td>\n",
              "      <td>&lt;start&gt; glaucoma is a group of diseases that c...</td>\n",
              "    </tr>\n",
              "    <tr>\n",
              "      <th>1</th>\n",
              "      <td>what is (are) glaucoma ?</td>\n",
              "      <td>the optic nerve is a bundle of more than 1 mil...</td>\n",
              "      <td>&lt;start&gt; the optic nerve is a bundle of more th...</td>\n",
              "    </tr>\n",
              "    <tr>\n",
              "      <th>2</th>\n",
              "      <td>what is (are) glaucoma ?</td>\n",
              "      <td>open angle glaucoma is the most common form of...</td>\n",
              "      <td>&lt;start&gt; open angle glaucoma is the most common...</td>\n",
              "    </tr>\n",
              "    <tr>\n",
              "      <th>3</th>\n",
              "      <td>who is at risk for glaucoma? ?</td>\n",
              "      <td>anyone can develop glaucoma. some people are a...</td>\n",
              "      <td>&lt;start&gt; anyone can develop glaucoma. some peop...</td>\n",
              "    </tr>\n",
              "    <tr>\n",
              "      <th>4</th>\n",
              "      <td>how to prevent glaucoma ?</td>\n",
              "      <td>at this time, we do not know how to prevent gl...</td>\n",
              "      <td>&lt;start&gt; at this time, we do not know how to pr...</td>\n",
              "    </tr>\n",
              "    <tr>\n",
              "      <th>5</th>\n",
              "      <td>what are the symptoms of glaucoma ?</td>\n",
              "      <td>at first, open angle glaucoma has no symptoms....</td>\n",
              "      <td>&lt;start&gt; at first, open angle glaucoma has no s...</td>\n",
              "    </tr>\n",
              "    <tr>\n",
              "      <th>6</th>\n",
              "      <td>what are the treatments for glaucoma ?</td>\n",
              "      <td>yes. immediate treatment for early stage, open...</td>\n",
              "      <td>&lt;start&gt; yes. immediate treatment for early sta...</td>\n",
              "    </tr>\n",
              "    <tr>\n",
              "      <th>7</th>\n",
              "      <td>what research (or clinical trials) is being do...</td>\n",
              "      <td>through studies in the laboratory and with pat...</td>\n",
              "      <td>&lt;start&gt; through studies in the laboratory and ...</td>\n",
              "    </tr>\n",
              "    <tr>\n",
              "      <th>8</th>\n",
              "      <td>who is at risk for glaucoma? ?</td>\n",
              "      <td>encourage them to have a comprehensive dilated...</td>\n",
              "      <td>&lt;start&gt; encourage them to have a comprehensive...</td>\n",
              "    </tr>\n",
              "    <tr>\n",
              "      <th>9</th>\n",
              "      <td>what is (are) glaucoma ?</td>\n",
              "      <td>national eye institute  national institutes of...</td>\n",
              "      <td>&lt;start&gt; national eye institute  national insti...</td>\n",
              "    </tr>\n",
              "  </tbody>\n",
              "</table>\n",
              "</div>\n",
              "    <div class=\"colab-df-buttons\">\n",
              "\n",
              "  <div class=\"colab-df-container\">\n",
              "    <button class=\"colab-df-convert\" onclick=\"convertToInteractive('df-5d93b952-0486-44fd-a74b-c07d536f87dc')\"\n",
              "            title=\"Convert this dataframe to an interactive table.\"\n",
              "            style=\"display:none;\">\n",
              "\n",
              "  <svg xmlns=\"http://www.w3.org/2000/svg\" height=\"24px\" viewBox=\"0 -960 960 960\">\n",
              "    <path d=\"M120-120v-720h720v720H120Zm60-500h600v-160H180v160Zm220 220h160v-160H400v160Zm0 220h160v-160H400v160ZM180-400h160v-160H180v160Zm440 0h160v-160H620v160ZM180-180h160v-160H180v160Zm440 0h160v-160H620v160Z\"/>\n",
              "  </svg>\n",
              "    </button>\n",
              "\n",
              "  <style>\n",
              "    .colab-df-container {\n",
              "      display:flex;\n",
              "      gap: 12px;\n",
              "    }\n",
              "\n",
              "    .colab-df-convert {\n",
              "      background-color: #E8F0FE;\n",
              "      border: none;\n",
              "      border-radius: 50%;\n",
              "      cursor: pointer;\n",
              "      display: none;\n",
              "      fill: #1967D2;\n",
              "      height: 32px;\n",
              "      padding: 0 0 0 0;\n",
              "      width: 32px;\n",
              "    }\n",
              "\n",
              "    .colab-df-convert:hover {\n",
              "      background-color: #E2EBFA;\n",
              "      box-shadow: 0px 1px 2px rgba(60, 64, 67, 0.3), 0px 1px 3px 1px rgba(60, 64, 67, 0.15);\n",
              "      fill: #174EA6;\n",
              "    }\n",
              "\n",
              "    .colab-df-buttons div {\n",
              "      margin-bottom: 4px;\n",
              "    }\n",
              "\n",
              "    [theme=dark] .colab-df-convert {\n",
              "      background-color: #3B4455;\n",
              "      fill: #D2E3FC;\n",
              "    }\n",
              "\n",
              "    [theme=dark] .colab-df-convert:hover {\n",
              "      background-color: #434B5C;\n",
              "      box-shadow: 0px 1px 3px 1px rgba(0, 0, 0, 0.15);\n",
              "      filter: drop-shadow(0px 1px 2px rgba(0, 0, 0, 0.3));\n",
              "      fill: #FFFFFF;\n",
              "    }\n",
              "  </style>\n",
              "\n",
              "    <script>\n",
              "      const buttonEl =\n",
              "        document.querySelector('#df-5d93b952-0486-44fd-a74b-c07d536f87dc button.colab-df-convert');\n",
              "      buttonEl.style.display =\n",
              "        google.colab.kernel.accessAllowed ? 'block' : 'none';\n",
              "\n",
              "      async function convertToInteractive(key) {\n",
              "        const element = document.querySelector('#df-5d93b952-0486-44fd-a74b-c07d536f87dc');\n",
              "        const dataTable =\n",
              "          await google.colab.kernel.invokeFunction('convertToInteractive',\n",
              "                                                    [key], {});\n",
              "        if (!dataTable) return;\n",
              "\n",
              "        const docLinkHtml = 'Like what you see? Visit the ' +\n",
              "          '<a target=\"_blank\" href=https://colab.research.google.com/notebooks/data_table.ipynb>data table notebook</a>'\n",
              "          + ' to learn more about interactive tables.';\n",
              "        element.innerHTML = '';\n",
              "        dataTable['output_type'] = 'display_data';\n",
              "        await google.colab.output.renderOutput(dataTable, element);\n",
              "        const docLink = document.createElement('div');\n",
              "        docLink.innerHTML = docLinkHtml;\n",
              "        element.appendChild(docLink);\n",
              "      }\n",
              "    </script>\n",
              "  </div>\n",
              "\n",
              "\n",
              "<div id=\"df-9213209d-7bfc-44db-8b31-a001d5d9fdab\">\n",
              "  <button class=\"colab-df-quickchart\" onclick=\"quickchart('df-9213209d-7bfc-44db-8b31-a001d5d9fdab')\"\n",
              "            title=\"Suggest charts\"\n",
              "            style=\"display:none;\">\n",
              "\n",
              "<svg xmlns=\"http://www.w3.org/2000/svg\" height=\"24px\"viewBox=\"0 0 24 24\"\n",
              "     width=\"24px\">\n",
              "    <g>\n",
              "        <path d=\"M19 3H5c-1.1 0-2 .9-2 2v14c0 1.1.9 2 2 2h14c1.1 0 2-.9 2-2V5c0-1.1-.9-2-2-2zM9 17H7v-7h2v7zm4 0h-2V7h2v10zm4 0h-2v-4h2v4z\"/>\n",
              "    </g>\n",
              "</svg>\n",
              "  </button>\n",
              "\n",
              "<style>\n",
              "  .colab-df-quickchart {\n",
              "      --bg-color: #E8F0FE;\n",
              "      --fill-color: #1967D2;\n",
              "      --hover-bg-color: #E2EBFA;\n",
              "      --hover-fill-color: #174EA6;\n",
              "      --disabled-fill-color: #AAA;\n",
              "      --disabled-bg-color: #DDD;\n",
              "  }\n",
              "\n",
              "  [theme=dark] .colab-df-quickchart {\n",
              "      --bg-color: #3B4455;\n",
              "      --fill-color: #D2E3FC;\n",
              "      --hover-bg-color: #434B5C;\n",
              "      --hover-fill-color: #FFFFFF;\n",
              "      --disabled-bg-color: #3B4455;\n",
              "      --disabled-fill-color: #666;\n",
              "  }\n",
              "\n",
              "  .colab-df-quickchart {\n",
              "    background-color: var(--bg-color);\n",
              "    border: none;\n",
              "    border-radius: 50%;\n",
              "    cursor: pointer;\n",
              "    display: none;\n",
              "    fill: var(--fill-color);\n",
              "    height: 32px;\n",
              "    padding: 0;\n",
              "    width: 32px;\n",
              "  }\n",
              "\n",
              "  .colab-df-quickchart:hover {\n",
              "    background-color: var(--hover-bg-color);\n",
              "    box-shadow: 0 1px 2px rgba(60, 64, 67, 0.3), 0 1px 3px 1px rgba(60, 64, 67, 0.15);\n",
              "    fill: var(--button-hover-fill-color);\n",
              "  }\n",
              "\n",
              "  .colab-df-quickchart-complete:disabled,\n",
              "  .colab-df-quickchart-complete:disabled:hover {\n",
              "    background-color: var(--disabled-bg-color);\n",
              "    fill: var(--disabled-fill-color);\n",
              "    box-shadow: none;\n",
              "  }\n",
              "\n",
              "  .colab-df-spinner {\n",
              "    border: 2px solid var(--fill-color);\n",
              "    border-color: transparent;\n",
              "    border-bottom-color: var(--fill-color);\n",
              "    animation:\n",
              "      spin 1s steps(1) infinite;\n",
              "  }\n",
              "\n",
              "  @keyframes spin {\n",
              "    0% {\n",
              "      border-color: transparent;\n",
              "      border-bottom-color: var(--fill-color);\n",
              "      border-left-color: var(--fill-color);\n",
              "    }\n",
              "    20% {\n",
              "      border-color: transparent;\n",
              "      border-left-color: var(--fill-color);\n",
              "      border-top-color: var(--fill-color);\n",
              "    }\n",
              "    30% {\n",
              "      border-color: transparent;\n",
              "      border-left-color: var(--fill-color);\n",
              "      border-top-color: var(--fill-color);\n",
              "      border-right-color: var(--fill-color);\n",
              "    }\n",
              "    40% {\n",
              "      border-color: transparent;\n",
              "      border-right-color: var(--fill-color);\n",
              "      border-top-color: var(--fill-color);\n",
              "    }\n",
              "    60% {\n",
              "      border-color: transparent;\n",
              "      border-right-color: var(--fill-color);\n",
              "    }\n",
              "    80% {\n",
              "      border-color: transparent;\n",
              "      border-right-color: var(--fill-color);\n",
              "      border-bottom-color: var(--fill-color);\n",
              "    }\n",
              "    90% {\n",
              "      border-color: transparent;\n",
              "      border-bottom-color: var(--fill-color);\n",
              "    }\n",
              "  }\n",
              "</style>\n",
              "\n",
              "  <script>\n",
              "    async function quickchart(key) {\n",
              "      const quickchartButtonEl =\n",
              "        document.querySelector('#' + key + ' button');\n",
              "      quickchartButtonEl.disabled = true;  // To prevent multiple clicks.\n",
              "      quickchartButtonEl.classList.add('colab-df-spinner');\n",
              "      try {\n",
              "        const charts = await google.colab.kernel.invokeFunction(\n",
              "            'suggestCharts', [key], {});\n",
              "      } catch (error) {\n",
              "        console.error('Error during call to suggestCharts:', error);\n",
              "      }\n",
              "      quickchartButtonEl.classList.remove('colab-df-spinner');\n",
              "      quickchartButtonEl.classList.add('colab-df-quickchart-complete');\n",
              "    }\n",
              "    (() => {\n",
              "      let quickchartButtonEl =\n",
              "        document.querySelector('#df-9213209d-7bfc-44db-8b31-a001d5d9fdab button');\n",
              "      quickchartButtonEl.style.display =\n",
              "        google.colab.kernel.accessAllowed ? 'block' : 'none';\n",
              "    })();\n",
              "  </script>\n",
              "</div>\n",
              "    </div>\n",
              "  </div>\n"
            ],
            "application/vnd.google.colaboratory.intrinsic+json": {
              "type": "dataframe",
              "variable_name": "df",
              "summary": "{\n  \"name\": \"df\",\n  \"rows\": 16401,\n  \"fields\": [\n    {\n      \"column\": \"encoder_inputs\",\n      \"properties\": {\n        \"dtype\": \"string\",\n        \"num_unique_values\": 14302,\n        \"samples\": [\n          \"what is (are) propionic acidemia ?\",\n          \"what are the symptoms of pinheiro freire maia miranda syndrome ?\",\n          \"do you have information about bowel movement\"\n        ],\n        \"semantic_type\": \"\",\n        \"description\": \"\"\n      }\n    },\n    {\n      \"column\": \"decoder_targets\",\n      \"properties\": {\n        \"dtype\": \"string\",\n        \"num_unique_values\": 15811,\n        \"samples\": [\n          \"mutations in the cdc73 gene (also known as the hrpt2 gene) cause hyperparathyroidism jaw tumor syndrome. the cdc73 gene provides instructions for making a protein called parafibromin. this protein is found throughout the body and is likely involved in gene transcription, which is the first step in protein production. parafibromin is also thought to play a role in cell growth and division (proliferation), either promoting or inhibiting cell proliferation depending on signals within the cell.  cdc73 gene mutations cause hyperparathyroidism jaw tumor syndrome by reducing the amount of functional parafibromin that is produced. most of these mutations result in a parafibromin protein that is abnormally short and nonfunctional. without functional parafibromin, cell proliferation is not properly regulated. uncontrolled cell division can lead to the formation of tumors. it is unknown why only certain tissues seem to be affected by changes in parafibromin.  some people with hyperparathyroidism jaw tumor syndrome do not have identified mutations in the cdc73 gene. the cause of the condition in these individuals is unknown. <end>\",\n          \"scientists continue to look at new ways to prevent, treat, and diagnose prostate cancer. research has already led to a number of advances in these areas. dietary research several studies are under way to explore the causes of prostate cancer. some researchers think that diet may affect a man's chances of developing prostate cancer. for example, some studies show that prostate cancer is more common in populations that consume a high fat diet, particularly animal fat, and in populations with diets that lack certain nutrients. research on testosterone some research suggests that high levels of testosterone may increase a man's risk of prostate cancer. the difference in prostate cancer risk among racial groups could be related to high testosterone levels, but it also could result from diet or other lifestyle factors. genetic research researchers are studying changes in genes that may increase the risk for developing prostate cancer. some studies are looking at the genes of men who were diagnosed with prostate cancer at a relatively young age, such as less than 55 years old, and the genes of families who have several members with the disease. other studies are trying to identify which genes, or arrangements of genes, are most likely to lead to prostate cancer. much more work is needed, however, before scientists can say exactly how genetic changes relate to prostate cancer. prevention research several studies have explored ways to prevent prostate cancer. in october 2008, initial results of a study on the use of the dietary supplements vitamin e and selenium found that they did not provide any benefit in reducing the number of new cases of the disease. a few studies suggest that a diet that regularly includes tomato based foods may help protect men from prostate cancer, but there are no studies that conclusively prove this hypothesis. according to results of a study that was re analyzed in 2013, men who took finasteride, a drug that affects male hormone levels, reduced their chances of getting prostate cancer by nearly 30 percent compared to men who took a placebo. unlike earlier findings from this study, this new analysis showed no increased risk of late stage disease due to use of finasteride. stopping prostate cancer from returning scientists are also looking at ways to stop prostate cancer from returning in men who have already been treated for the disease. these approaches use drugs such as finasteride, flutamide, nilutamide, and lh rh agonists that manipulate hormone levels. in 2010, the fda approved a therapeutic cancer vaccine, provenge, for use in some men with metastatic prostate cancer. provenge may provide a 4 month improvement in overall survival compared with a placebo vaccine. other similar vaccine therapies are in development. research on new blood tests some researchers are working to develop new blood tests to detect the antibodies that the immune system produces to fight prostate cancer. when used along with psa testing, the antibody tests may provide more accurate results about whether or not a man has prostate cancer. researching new approaches to treatment through research, doctors are trying to find new, more effective ways to treat prostate cancer. cryosurgery    destroying cancer by freezing it    is under study as an alternative to surgery and radiation therapy. to avoid damaging healthy tissue, the doctor places an instrument known as a cryoprobe in direct contact with the tumor to freeze it. doctors are studying new ways of using radiation therapy and hormonal therapy, too. studies have shown that hormonal therapy given after radiation therapy can help certain men whose cancer has spread to nearby tissues. scientists are also testing the effectiveness of chemotherapy and biological therapy for men whose cancer does not respond, or stops responding, to hormonal therapy. they are also exploring new ways to schedule and combine various treatments. for example, they are studying hormonal therapy to find out if using it to shrink the tumor before a man has surgery or radiation might be a useful approach. for men with early stage prostate cancer, researchers are also comparing treatment with watchful waiting. the results of this work will help doctors know whether to treat early stage prostate cancer immediately or only later on, if symptoms occur or worsen. <end>\",\n          \"sleep apnea is a common disorder that causes your breathing to stop or get very shallow. breathing pauses can last from a few seconds to minutes. they may occur 30 times or more an hour.    the most common type is obstructive sleep apnea. it causes your airway to collapse or become blocked during sleep. normal breathing starts again with a snort or choking sound. people with sleep apnea often snore loudly. however, not everyone who snores has sleep apnea.    you are more at risk for sleep apnea if you are overweight, male, or have a family history or small airways. children with enlarged tonsils may also get it.    doctors diagnose sleep apnea based on medical and family histories, a physical exam, and sleep study results.    when your sleep is interrupted throughout the night, you can be drowsy during the day. people with sleep apnea are at higher risk for car crashes, work related accidents, and other medical problems. if you have it, it is important to get treatment. lifestyle changes, mouthpieces, surgery, and breathing devices can treat sleep apnea in many people.    nih: national heart, lung, and blood institute <end>\"\n        ],\n        \"semantic_type\": \"\",\n        \"description\": \"\"\n      }\n    },\n    {\n      \"column\": \"decoder_inputs\",\n      \"properties\": {\n        \"dtype\": \"string\",\n        \"num_unique_values\": 15811,\n        \"samples\": [\n          \"<start> mutations in the cdc73 gene (also known as the hrpt2 gene) cause hyperparathyroidism jaw tumor syndrome. the cdc73 gene provides instructions for making a protein called parafibromin. this protein is found throughout the body and is likely involved in gene transcription, which is the first step in protein production. parafibromin is also thought to play a role in cell growth and division (proliferation), either promoting or inhibiting cell proliferation depending on signals within the cell.  cdc73 gene mutations cause hyperparathyroidism jaw tumor syndrome by reducing the amount of functional parafibromin that is produced. most of these mutations result in a parafibromin protein that is abnormally short and nonfunctional. without functional parafibromin, cell proliferation is not properly regulated. uncontrolled cell division can lead to the formation of tumors. it is unknown why only certain tissues seem to be affected by changes in parafibromin.  some people with hyperparathyroidism jaw tumor syndrome do not have identified mutations in the cdc73 gene. the cause of the condition in these individuals is unknown. <end>\",\n          \"<start> scientists continue to look at new ways to prevent, treat, and diagnose prostate cancer. research has already led to a number of advances in these areas. dietary research several studies are under way to explore the causes of prostate cancer. some researchers think that diet may affect a man's chances of developing prostate cancer. for example, some studies show that prostate cancer is more common in populations that consume a high fat diet, particularly animal fat, and in populations with diets that lack certain nutrients. research on testosterone some research suggests that high levels of testosterone may increase a man's risk of prostate cancer. the difference in prostate cancer risk among racial groups could be related to high testosterone levels, but it also could result from diet or other lifestyle factors. genetic research researchers are studying changes in genes that may increase the risk for developing prostate cancer. some studies are looking at the genes of men who were diagnosed with prostate cancer at a relatively young age, such as less than 55 years old, and the genes of families who have several members with the disease. other studies are trying to identify which genes, or arrangements of genes, are most likely to lead to prostate cancer. much more work is needed, however, before scientists can say exactly how genetic changes relate to prostate cancer. prevention research several studies have explored ways to prevent prostate cancer. in october 2008, initial results of a study on the use of the dietary supplements vitamin e and selenium found that they did not provide any benefit in reducing the number of new cases of the disease. a few studies suggest that a diet that regularly includes tomato based foods may help protect men from prostate cancer, but there are no studies that conclusively prove this hypothesis. according to results of a study that was re analyzed in 2013, men who took finasteride, a drug that affects male hormone levels, reduced their chances of getting prostate cancer by nearly 30 percent compared to men who took a placebo. unlike earlier findings from this study, this new analysis showed no increased risk of late stage disease due to use of finasteride. stopping prostate cancer from returning scientists are also looking at ways to stop prostate cancer from returning in men who have already been treated for the disease. these approaches use drugs such as finasteride, flutamide, nilutamide, and lh rh agonists that manipulate hormone levels. in 2010, the fda approved a therapeutic cancer vaccine, provenge, for use in some men with metastatic prostate cancer. provenge may provide a 4 month improvement in overall survival compared with a placebo vaccine. other similar vaccine therapies are in development. research on new blood tests some researchers are working to develop new blood tests to detect the antibodies that the immune system produces to fight prostate cancer. when used along with psa testing, the antibody tests may provide more accurate results about whether or not a man has prostate cancer. researching new approaches to treatment through research, doctors are trying to find new, more effective ways to treat prostate cancer. cryosurgery    destroying cancer by freezing it    is under study as an alternative to surgery and radiation therapy. to avoid damaging healthy tissue, the doctor places an instrument known as a cryoprobe in direct contact with the tumor to freeze it. doctors are studying new ways of using radiation therapy and hormonal therapy, too. studies have shown that hormonal therapy given after radiation therapy can help certain men whose cancer has spread to nearby tissues. scientists are also testing the effectiveness of chemotherapy and biological therapy for men whose cancer does not respond, or stops responding, to hormonal therapy. they are also exploring new ways to schedule and combine various treatments. for example, they are studying hormonal therapy to find out if using it to shrink the tumor before a man has surgery or radiation might be a useful approach. for men with early stage prostate cancer, researchers are also comparing treatment with watchful waiting. the results of this work will help doctors know whether to treat early stage prostate cancer immediately or only later on, if symptoms occur or worsen. <end>\",\n          \"<start> sleep apnea is a common disorder that causes your breathing to stop or get very shallow. breathing pauses can last from a few seconds to minutes. they may occur 30 times or more an hour.    the most common type is obstructive sleep apnea. it causes your airway to collapse or become blocked during sleep. normal breathing starts again with a snort or choking sound. people with sleep apnea often snore loudly. however, not everyone who snores has sleep apnea.    you are more at risk for sleep apnea if you are overweight, male, or have a family history or small airways. children with enlarged tonsils may also get it.    doctors diagnose sleep apnea based on medical and family histories, a physical exam, and sleep study results.    when your sleep is interrupted throughout the night, you can be drowsy during the day. people with sleep apnea are at higher risk for car crashes, work related accidents, and other medical problems. if you have it, it is important to get treatment. lifestyle changes, mouthpieces, surgery, and breathing devices can treat sleep apnea in many people.    nih: national heart, lung, and blood institute <end>\"\n        ],\n        \"semantic_type\": \"\",\n        \"description\": \"\"\n      }\n    }\n  ]\n}"
            }
          },
          "metadata": {},
          "execution_count": 11
        }
      ],
      "source": [
        "print(f\"After preprocessing: {' '.join(df[df['encoder input tokens'].max()==df['encoder input tokens']]['encoder_inputs'].values.tolist())}\")\n",
        "print(f\"Max encoder input length: {df['encoder input tokens'].max()}\")\n",
        "print(f\"Max decoder input length: {df['decoder input tokens'].max()}\")\n",
        "print(f\"Max decoder target length: {df['decoder target tokens'].max()}\")\n",
        "\n",
        "df.drop(columns=['question','answer','encoder input tokens','decoder input tokens','decoder target tokens'],axis=1,inplace=True)\n",
        "\n",
        "df.head(10)"
      ]
    },
    {
      "cell_type": "markdown",
      "source": [
        "### Some Information about the parameters that we need to define\n",
        "\n",
        "##### Buffer size:This is the number of elements from which the new dataset will be sampled.\n",
        "##### vocab_size:This is the size of the vocabulary, i.e., the number of unique tokens (words or characters) in your dataset. Each token will be assigned a unique integer index ranging from 0 to vocab_size - 1\n",
        "##### max_sequence_length:Depends on the max length of answer that we want our model to predict.\n",
        "##### lstm_cells and embedding_dim: As seen from the diagram it is the number of lstm cells that are sequentially arranged in our encoder model.\n"
      ],
      "metadata": {
        "id": "wj6Vmfz1H0g7"
      },
      "id": "wj6Vmfz1H0g7"
    },
    {
      "cell_type": "code",
      "source": [
        "params={\n",
        "    \"vocab_size\":2500,\n",
        "    \"max_sequence_length\":30,\n",
        "    \"learning_rate\":0.008,\n",
        "    \"batch_size\":149,\n",
        "    \"lstm_cells\":256,\n",
        "    \"embedding_dim\":256,\n",
        "    \"buffer_size\":10000\n",
        "}\n",
        "learning_rate=params['learning_rate']\n",
        "batch_size=params['batch_size']\n",
        "embedding_dim=params['embedding_dim']\n",
        "lstm_cells=params['lstm_cells']\n",
        "vocab_size=params['vocab_size']\n",
        "buffer_size=params['buffer_size']\n",
        "max_sequence_length=params['max_sequence_length']"
      ],
      "metadata": {
        "id": "5vsnumbWCvND"
      },
      "id": "5vsnumbWCvND",
      "execution_count": null,
      "outputs": []
    },
    {
      "cell_type": "markdown",
      "id": "4841e974",
      "metadata": {
        "papermill": {
          "duration": 0.012226,
          "end_time": "2023-09-30T09:04:52.567563",
          "exception": false,
          "start_time": "2023-09-30T09:04:52.555337",
          "status": "completed"
        },
        "tags": [],
        "id": "4841e974"
      },
      "source": [
        "## Tokenization"
      ]
    },
    {
      "cell_type": "code",
      "execution_count": null,
      "id": "42bb296f",
      "metadata": {
        "execution": {
          "iopub.execute_input": "2023-09-30T09:04:52.594516Z",
          "iopub.status.busy": "2023-09-30T09:04:52.594088Z",
          "iopub.status.idle": "2023-09-30T09:04:53.507606Z",
          "shell.execute_reply": "2023-09-30T09:04:53.505513Z"
        },
        "papermill": {
          "duration": 0.93078,
          "end_time": "2023-09-30T09:04:53.510741",
          "exception": false,
          "start_time": "2023-09-30T09:04:52.579961",
          "status": "completed"
        },
        "tags": [],
        "id": "42bb296f",
        "outputId": "61d4cfe4-5c5d-4103-f037-22b0dbb271ea",
        "colab": {
          "base_uri": "https://localhost:8080/"
        }
      },
      "outputs": [
        {
          "output_type": "stream",
          "name": "stdout",
          "text": [
            "Vocab size: 2500\n",
            "['', '[UNK]', 'the', 'of', 'and', 'a', 'in', 'is', 'to', 'or', 'are', '<end>']\n"
          ]
        }
      ],
      "source": [
        "vectorize_layer=TextVectorization(\n",
        "    max_tokens=vocab_size,\n",
        "    standardize=None,\n",
        "    output_mode='int',\n",
        "    output_sequence_length=max_sequence_length\n",
        ")\n",
        "vectorize_layer.adapt(df['encoder_inputs']+' '+df['decoder_targets']+' <start> <end>')\n",
        "vocab_size=len(vectorize_layer.get_vocabulary())\n",
        "print(f'Vocab size: {len(vectorize_layer.get_vocabulary())}')\n",
        "print(f'{vectorize_layer.get_vocabulary()[:12]}')"
      ]
    },
    {
      "cell_type": "markdown",
      "source": [
        "Here we have created a Vectorisation layer that converts tokens(words) to vectors so that computer could understand.\n",
        "### To encode the words to ids we use sequence2ids function while the vice versa can be done by ids2sequences function\n",
        "###### Note that vectorize_layer.adapt() is used to pass on the vocabulary of words that we have into the vectorisation layer"
      ],
      "metadata": {
        "id": "JZ7JmnWzFW5k"
      },
      "id": "JZ7JmnWzFW5k"
    },
    {
      "cell_type": "code",
      "execution_count": null,
      "id": "9d794bb5",
      "metadata": {
        "execution": {
          "iopub.execute_input": "2023-09-30T09:04:53.538102Z",
          "iopub.status.busy": "2023-09-30T09:04:53.537154Z",
          "iopub.status.idle": "2023-09-30T09:04:53.733160Z",
          "shell.execute_reply": "2023-09-30T09:04:53.731158Z"
        },
        "papermill": {
          "duration": 0.212395,
          "end_time": "2023-09-30T09:04:53.735987",
          "exception": false,
          "start_time": "2023-09-30T09:04:53.523592",
          "status": "completed"
        },
        "tags": [],
        "id": "9d794bb5",
        "outputId": "28c1a3cd-25dc-4926-db57-0ad317ab7fc4",
        "colab": {
          "base_uri": "https://localhost:8080/"
        }
      },
      "outputs": [
        {
          "output_type": "stream",
          "name": "stdout",
          "text": [
            "Question sentence: hi , how are you ?\n",
            "Question to tokens: [ 1  1 36 10 38 25  0  0  0  0]\n",
            "Encoder input shape: (16401, 30)\n",
            "Decoder input shape: (16401, 30)\n",
            "Decoder target shape: (16401, 30)\n"
          ]
        }
      ],
      "source": [
        "def sequences2ids(sequence):\n",
        "    return vectorize_layer(sequence)\n",
        "\n",
        "def ids2sequences(ids):\n",
        "    decode=''\n",
        "    if type(ids)==int:\n",
        "        ids=[ids]\n",
        "    for id in ids:\n",
        "        decode+=vectorize_layer.get_vocabulary()[id]+' '\n",
        "    return decode\n",
        "\n",
        "x=sequences2ids(df['encoder_inputs'])\n",
        "yd=sequences2ids(df['decoder_inputs'])\n",
        "y=sequences2ids(df['decoder_targets'])\n",
        "\n",
        "print(f'Question sentence: hi , how are you ?')\n",
        "print(f'Question to tokens: {sequences2ids(\"hi , how are you ?\")[:10]}')\n",
        "print(f'Encoder input shape: {x.shape}')\n",
        "print(f'Decoder input shape: {yd.shape}')\n",
        "print(f'Decoder target shape: {y.shape}')"
      ]
    },
    {
      "cell_type": "markdown",
      "source": [
        "**Here the x,yd,y are the vectorised form of tokens where x will be input to encoder,yd will be input to decoder using teacher forcing and y is the decoder true output.**"
      ],
      "metadata": {
        "id": "q27Kg8aMGndy"
      },
      "id": "q27Kg8aMGndy"
    },
    {
      "cell_type": "code",
      "execution_count": null,
      "id": "7cf8783a",
      "metadata": {
        "execution": {
          "iopub.execute_input": "2023-09-30T09:04:53.764406Z",
          "iopub.status.busy": "2023-09-30T09:04:53.763911Z",
          "iopub.status.idle": "2023-09-30T09:04:53.776299Z",
          "shell.execute_reply": "2023-09-30T09:04:53.774545Z"
        },
        "papermill": {
          "duration": 0.030657,
          "end_time": "2023-09-30T09:04:53.779131",
          "exception": false,
          "start_time": "2023-09-30T09:04:53.748474",
          "status": "completed"
        },
        "tags": [],
        "id": "7cf8783a",
        "outputId": "3c682bdc-7061-4396-f60b-9d2d1fcfbf4b",
        "colab": {
          "base_uri": "https://localhost:8080/"
        }
      },
      "outputs": [
        {
          "output_type": "stream",
          "name": "stdout",
          "text": [
            "Encoder input: [  23    7  104 1886   25    0    0    0    0    0    0    0] ...\n",
            "Decoder input: [  22 1886    7    5  152    3  370   13   19  308    2    1] ...\n",
            "Decoder target: [1886    7    5  152    3  370   13   19  308    2    1  709] ...\n"
          ]
        }
      ],
      "source": [
        "print(f'Encoder input: {x[0][:12]} ...')\n",
        "print(f'Decoder input: {yd[0][:12]} ...')    # shifted by one time step of the target as input to decoder is the output of the previous timestep\n",
        "print(f'Decoder target: {y[0][:12]} ...')"
      ]
    },
    {
      "cell_type": "markdown",
      "source": [
        "#### Below are the explanation of some of the methods used ahead for preprocessing of the train data:\n",
        "* The cache() method caches the dataset in memory or on disk, which speeds up subsequent epochs by avoiding the cost of reading from disk repeatedly. If the dataset fits in memory, this can significantly improve training speed.\n",
        "* The shuffle(buffer_size) method randomly shuffles the elements of the dataset to ensure that the training data is well-mixed, which helps in reducing model overfitting.buffer_size determines the number of elements from the dataset that the shuffle operation will buffer. A larger buffer size means better shuffling but requires more memory.\n",
        "* The batch(batch_size) method combines consecutive elements of the dataset into batches of the specified size.\n",
        "* The prefetch(tf.data.AUTOTUNE) method overlaps the preprocessing and model execution of data. It allows the data pipeline to fetch the next batch of data while the current batch is being processed by the model, thus improving the efficiency and throughput.\n",
        "* The as_numpy_iterator() method converts the dataset into an iterator that yields elements as NumPy arrays. This can be useful for inspection or debugging, allowing you to iterate through the dataset and inspect the data in a familiar format (NumPy arrays)."
      ],
      "metadata": {
        "id": "WefLUX1lJw8O"
      },
      "id": "WefLUX1lJw8O"
    },
    {
      "cell_type": "code",
      "execution_count": null,
      "id": "6f06e05c",
      "metadata": {
        "execution": {
          "iopub.execute_input": "2023-09-30T09:04:53.807760Z",
          "iopub.status.busy": "2023-09-30T09:04:53.807323Z",
          "iopub.status.idle": "2023-09-30T09:04:53.880158Z",
          "shell.execute_reply": "2023-09-30T09:04:53.878348Z"
        },
        "papermill": {
          "duration": 0.092288,
          "end_time": "2023-09-30T09:04:53.883815",
          "exception": false,
          "start_time": "2023-09-30T09:04:53.791527",
          "status": "completed"
        },
        "tags": [],
        "id": "6f06e05c",
        "outputId": "50b856ed-a895-43b3-ef35-dff92969648b",
        "colab": {
          "base_uri": "https://localhost:8080/"
        }
      },
      "outputs": [
        {
          "output_type": "stream",
          "name": "stdout",
          "text": [
            "Number of train batches: 100\n",
            "Number of training data: 14900\n",
            "Number of validation batches: 12\n",
            "Number of validation data: 1788\n",
            "Encoder Input shape (with batches): (149, 30)\n",
            "Decoder Input shape (with batches): (149, 30)\n",
            "Target Output shape (with batches): (149, 30)\n"
          ]
        }
      ],
      "source": [
        "data=tf.data.Dataset.from_tensor_slices((x,yd,y))\n",
        "data=data.shuffle(buffer_size)\n",
        "\n",
        "train_data=data.take(int(.9*len(data)))\n",
        "train_data=train_data.cache()\n",
        "train_data=train_data.shuffle(buffer_size)\n",
        "train_data=train_data.batch(batch_size)\n",
        "train_data=train_data.prefetch(tf.data.AUTOTUNE)\n",
        "train_data_iterator=train_data.as_numpy_iterator()\n",
        "\n",
        "val_data=data.skip(int(.9*len(data))).take(int(.1*len(data)))\n",
        "val_data=val_data.batch(batch_size)\n",
        "val_data=val_data.prefetch(tf.data.AUTOTUNE)\n",
        "\n",
        "_=train_data_iterator.next()\n",
        "print(f'Number of train batches: {len(train_data)}')\n",
        "print(f'Number of training data: {len(train_data)*batch_size}')\n",
        "print(f'Number of validation batches: {len(val_data)}')\n",
        "print(f'Number of validation data: {len(val_data)*batch_size}')\n",
        "print(f'Encoder Input shape (with batches): {_[0].shape}')\n",
        "print(f'Decoder Input shape (with batches): {_[1].shape}')\n",
        "print(f'Target Output shape (with batches): {_[2].shape}')"
      ]
    },
    {
      "cell_type": "markdown",
      "source": [
        "We can get the slices of array by using from_tensor_slices() method to pass our input data and then proceeding further to shuffle the data."
      ],
      "metadata": {
        "id": "O2fu2EVJ2Wfa"
      },
      "id": "O2fu2EVJ2Wfa"
    },
    {
      "cell_type": "markdown",
      "id": "d1e46446",
      "metadata": {
        "papermill": {
          "duration": 0.012785,
          "end_time": "2023-09-30T09:04:53.910670",
          "exception": false,
          "start_time": "2023-09-30T09:04:53.897885",
          "status": "completed"
        },
        "tags": [],
        "id": "d1e46446"
      },
      "source": [
        "# Build Models"
      ]
    },
    {
      "cell_type": "markdown",
      "id": "47d979fb",
      "metadata": {
        "papermill": {
          "duration": 0.012484,
          "end_time": "2023-09-30T09:04:53.936295",
          "exception": false,
          "start_time": "2023-09-30T09:04:53.923811",
          "status": "completed"
        },
        "tags": [],
        "id": "47d979fb"
      },
      "source": [
        "## Build Encoder"
      ]
    },
    {
      "cell_type": "markdown",
      "source": [
        "# Creating an Encoder class"
      ],
      "metadata": {
        "id": "3T1oswOSxm-j"
      },
      "id": "3T1oswOSxm-j"
    },
    {
      "cell_type": "code",
      "execution_count": null,
      "id": "7dd085bc",
      "metadata": {
        "execution": {
          "iopub.execute_input": "2023-09-30T09:04:53.990760Z",
          "iopub.status.busy": "2023-09-30T09:04:53.989740Z",
          "iopub.status.idle": "2023-09-30T09:04:54.664680Z",
          "shell.execute_reply": "2023-09-30T09:04:54.663146Z"
        },
        "papermill": {
          "duration": 0.691476,
          "end_time": "2023-09-30T09:04:54.667361",
          "exception": false,
          "start_time": "2023-09-30T09:04:53.975885",
          "status": "completed"
        },
        "tags": [],
        "id": "7dd085bc",
        "outputId": "8cebf08b-fa9e-4161-e107-242ac0477794",
        "colab": {
          "base_uri": "https://localhost:8080/"
        }
      },
      "outputs": [
        {
          "output_type": "execute_result",
          "data": {
            "text/plain": [
              "(<tf.Tensor: shape=(149, 256), dtype=float32, numpy=\n",
              " array([[ 0.04536883, -0.03732343, -0.08188883, ...,  0.00593516,\n",
              "         -0.00915609,  0.16293208],\n",
              "        [ 0.03404276, -0.06925579,  0.01450814, ..., -0.05678208,\n",
              "         -0.09350984,  0.22720617],\n",
              "        [-0.04580455, -0.09489894,  0.00913193, ..., -0.09021354,\n",
              "          0.06546499,  0.14185442],\n",
              "        ...,\n",
              "        [ 0.11337646, -0.06120788,  0.14625497, ..., -0.10101932,\n",
              "         -0.10739662,  0.15425482],\n",
              "        [ 0.16815042, -0.03055831,  0.1020995 , ..., -0.12074326,\n",
              "         -0.10505936,  0.09363253],\n",
              "        [-0.16237992,  0.13389151,  0.04534595, ..., -0.02721947,\n",
              "         -0.19777593,  0.2637266 ]], dtype=float32)>,\n",
              " <tf.Tensor: shape=(149, 256), dtype=float32, numpy=\n",
              " array([[ 0.07461065, -0.10182361, -0.17216237, ...,  0.01309542,\n",
              "         -0.015359  ,  0.3138734 ],\n",
              "        [ 0.05629317, -0.19808854,  0.03073738, ..., -0.12265508,\n",
              "         -0.15815136,  0.45100075],\n",
              "        [-0.07408305, -0.24740878,  0.01947475, ..., -0.21233566,\n",
              "          0.1077574 ,  0.2586581 ],\n",
              "        ...,\n",
              "        [ 0.18750276, -0.17433941,  0.32828638, ..., -0.23053469,\n",
              "         -0.18228313,  0.28436515],\n",
              "        [ 0.27776667, -0.08510724,  0.22819185, ..., -0.28581357,\n",
              "         -0.17665674,  0.1648308 ],\n",
              "        [-0.26389936,  0.37592596,  0.10097869, ..., -0.06287492,\n",
              "         -0.339633  ,  0.56186396]], dtype=float32)>)"
            ]
          },
          "metadata": {},
          "execution_count": 17
        }
      ],
      "source": [
        "class Encoder(tf.keras.models.Model):\n",
        "    def __init__(self,units,embedding_dim,vocab_size,*args,**kwargs) -> None:\n",
        "        super().__init__(*args,**kwargs)\n",
        "        self.units=units\n",
        "        self.vocab_size=vocab_size\n",
        "        self.embedding_dim=embedding_dim\n",
        "        self.embedding=Embedding(\n",
        "            vocab_size,\n",
        "            embedding_dim,\n",
        "            name='encoder_embedding',\n",
        "            mask_zero=True,\n",
        "            embeddings_initializer=tf.keras.initializers.GlorotNormal()\n",
        "        )\n",
        "        self.normalize=LayerNormalization()\n",
        "        self.lstm=LSTM(\n",
        "            units,\n",
        "            dropout=.4,\n",
        "            return_state=True,\n",
        "            return_sequences=True,\n",
        "            name='encoder_lstm',\n",
        "            kernel_initializer=tf.keras.initializers.GlorotNormal()\n",
        "        )\n",
        "\n",
        "    def call(self,encoder_inputs):\n",
        "        self.inputs=encoder_inputs\n",
        "        x=self.embedding(encoder_inputs)\n",
        "        x=self.normalize(x)\n",
        "        x=Dropout(.4)(x)\n",
        "        encoder_outputs,encoder_state_h,encoder_state_c=self.lstm(x)\n",
        "        self.outputs=[encoder_state_h,encoder_state_c]\n",
        "        return encoder_state_h,encoder_state_c\n",
        "\n",
        "encoder=Encoder(lstm_cells,embedding_dim,vocab_size,name='encoder')\n",
        "encoder.call(_[0])"
      ]
    },
    {
      "cell_type": "markdown",
      "source": [
        "### High level overview of the Encoder model that we have created:-\n",
        "* The __init__ method initializes the encoder with the specified units (number of LSTM units), embedding_dim (dimension of the embedding vectors), and vocab_size (size of the vocabulary).\n",
        "* *args and ***kwargs allow for additional arguments and keyword arguments to be passed to the parent class's __init__ method.It can be kept undeclared while calling the parent class.\n",
        "* After defining the units,vocab_size,embedding_dim .\n",
        "## We can define the embedding layer.\n",
        "* The Embedding layer in Keras is used to convert positive integer indices into dense vectors of fixed size.It converts words or tokens to indices representation.\n",
        "* mask_zero=True :means it adds zero values to shorter sentences as paddings to ensure uniform length and those zero values sould be ignored while training.\n",
        "* Initializes the embedding vectors using the Glorot Normal initializer to help with effective training.\n",
        "* Normalised the embedding layer vector hence produced.\n",
        "## After that we create an LSTM with the following parameters:-\n",
        "* Number of Units: Each LSTM cell has units number of LSTM units.\n",
        "* Dropout: A dropout rate of 40% is applied to the inputs of the LSTM cells during training to prevent overfitting.\n",
        "* Return States: The layer returns the last hidden state (h) and the last cell state (c) in addition to the output sequences.\n",
        "* Return Sequences: The layer returns the full sequence of outputs for each input sequence.\n",
        "* Kernel Initializer: The LSTM weights are initialized using the Glorot Normal initializer.\n",
        "## Defining the call function\n",
        "1.  The input sequences (encoder_inputs) are passed through the embedding layer, converting the integer token indices into dense vectors of size embedding_dim.X is now a tensor with shape (batch_size, sequence_length, embedding_dim).\n",
        "2.  The embedded sequences are passed through a layer normalization layer.\n",
        "Layer normalization helps stabilize and accelerate the training process by normalizing the inputs across the features (embeddings) dimension.\n",
        "3.  A dropout layer with a dropout rate of 0.4 is applied to the normalized embeddings.\n",
        "4.  The processed embeddings x are passed through the LSTM layer.\n",
        "####The LSTM layer returns three values:\n",
        "   * encoder_outputs: The full sequence of outputs from the LSTM for each time step, with shape (batch_size, sequence_length, units).\n",
        "   * encoder_state_h: The final hidden state of the LSTM, with shape (batch_size, units).\n",
        "   * encoder_state_c: The final cell state of the LSTM, with shape (batch_size, units).\n",
        "### _[0]: This represents the input data being passed to the call method. It is iterator to the batch of data tensor with shape (batch_size, sequence_length), where batch_size is the number of sequences in the batch, and sequence_length is the length of each sequence. Each element in the sequence is an integer token index."
      ],
      "metadata": {
        "id": "lRZxCNYV2Y6Q"
      },
      "id": "lRZxCNYV2Y6Q"
    },
    {
      "cell_type": "markdown",
      "id": "adab8b5c",
      "metadata": {
        "papermill": {
          "duration": 0.012984,
          "end_time": "2023-09-30T09:04:54.693606",
          "exception": false,
          "start_time": "2023-09-30T09:04:54.680622",
          "status": "completed"
        },
        "tags": [],
        "id": "adab8b5c"
      },
      "source": [
        "# Build Decoder"
      ]
    },
    {
      "cell_type": "code",
      "execution_count": null,
      "id": "0e60a7a1",
      "metadata": {
        "execution": {
          "iopub.execute_input": "2023-09-30T09:04:54.720627Z",
          "iopub.status.busy": "2023-09-30T09:04:54.720256Z",
          "iopub.status.idle": "2023-09-30T09:04:55.025741Z",
          "shell.execute_reply": "2023-09-30T09:04:55.023998Z"
        },
        "papermill": {
          "duration": 0.323175,
          "end_time": "2023-09-30T09:04:55.029323",
          "exception": false,
          "start_time": "2023-09-30T09:04:54.706148",
          "status": "completed"
        },
        "tags": [],
        "id": "0e60a7a1",
        "outputId": "ea235b59-3680-468f-933a-5709aea69107",
        "colab": {
          "base_uri": "https://localhost:8080/"
        }
      },
      "outputs": [
        {
          "output_type": "execute_result",
          "data": {
            "text/plain": [
              "<tf.Tensor: shape=(1, 30, 2500), dtype=float32, numpy=\n",
              "array([[[2.21105893e-05, 6.89580338e-04, 1.04551415e-04, ...,\n",
              "         1.04301645e-04, 3.11433832e-04, 5.60266344e-05],\n",
              "        [7.59219838e-05, 2.34143619e-04, 1.20390777e-03, ...,\n",
              "         1.30927277e-04, 2.67841795e-04, 7.54682742e-06],\n",
              "        [3.22815205e-04, 2.46171548e-04, 7.94795109e-04, ...,\n",
              "         6.13344164e-05, 1.42140023e-03, 5.34916471e-05],\n",
              "        ...,\n",
              "        [2.15734792e-04, 1.49246553e-04, 4.01788595e-04, ...,\n",
              "         1.86324483e-04, 1.25932302e-05, 3.32386902e-04],\n",
              "        [9.61442638e-05, 2.78219104e-05, 3.73205141e-04, ...,\n",
              "         1.27030493e-04, 8.12579674e-05, 1.50795633e-04],\n",
              "        [3.67379325e-05, 7.01160752e-05, 7.30716507e-04, ...,\n",
              "         3.53672216e-03, 7.91962666e-05, 8.59695574e-05]]], dtype=float32)>"
            ]
          },
          "metadata": {},
          "execution_count": 18
        }
      ],
      "source": [
        "class Decoder(tf.keras.models.Model):\n",
        "    def __init__(self,units,embedding_dim,vocab_size,*args,**kwargs) -> None:\n",
        "        super().__init__(*args,**kwargs)\n",
        "        self.units=units\n",
        "        self.embedding_dim=embedding_dim\n",
        "        self.vocab_size=vocab_size\n",
        "        self.embedding=Embedding(\n",
        "            vocab_size,\n",
        "            embedding_dim,\n",
        "            name='decoder_embedding',\n",
        "            mask_zero=True,\n",
        "            embeddings_initializer=tf.keras.initializers.HeNormal()\n",
        "        )\n",
        "        self.normalize=LayerNormalization()\n",
        "        self.lstm=LSTM(\n",
        "            units,\n",
        "            dropout=.4,\n",
        "            return_state=True,\n",
        "            return_sequences=True,\n",
        "            name='decoder_lstm',\n",
        "            kernel_initializer=tf.keras.initializers.HeNormal()\n",
        "        )\n",
        "        self.fc=Dense(\n",
        "            vocab_size,\n",
        "            activation='softmax',\n",
        "            name='decoder_dense',\n",
        "            kernel_initializer=tf.keras.initializers.HeNormal()\n",
        "        )\n",
        "\n",
        "    def call(self,decoder_inputs,encoder_states):\n",
        "        x=self.embedding(decoder_inputs)\n",
        "        x=self.normalize(x)\n",
        "        x=Dropout(.4)(x)\n",
        "        x,decoder_state_h,decoder_state_c=self.lstm(x,initial_state=encoder_states)\n",
        "        x=self.normalize(x)\n",
        "        x=Dropout(.4)(x)\n",
        "        return self.fc(x)\n",
        "\n",
        "decoder=Decoder(lstm_cells,embedding_dim,vocab_size,name='decoder')\n",
        "decoder(_[1][:1],encoder(_[0][:1]))"
      ]
    },
    {
      "cell_type": "markdown",
      "source": [
        "# High Level overview of DECODER CLASS:-\n",
        "Apart from the variables having objects than encoder lets pick up some new object that are not been covered.\n",
        "#### self.fc:Assigns the initialized dense layer to the attribute fc of the class instance\n",
        "* Softmax activation function normalizes the output vector into a probability distribution over the target classes (in this case, vocabulary tokens). It's commonly used for multi-class classification tasks.\n",
        "* HeNormal initializer initializes the weights with values drawn from a truncated normal distribution centered on 0 with a standard deviation proportional to the square root of the number of units in the previous layer.\n",
        "### The call method defines the forward pass of the decoder:\n",
        "\n",
        "1.  Embedding: Convert token indices to dense vectors.\n",
        "2.  Normalization and Dropout: Normalize and apply dropout to the embedded sequences.\n",
        "3. LSTM: Process the sequences through the LSTM layer, using the final states of the encoder as initial states.\n",
        "4. Additional Normalization and Dropout: Normalize and apply dropout to the LSTM output.\n",
        "5. Dense Layer: Produce logits for the next token in the vocabulary."
      ],
      "metadata": {
        "id": "HzgzzEXjFl86"
      },
      "id": "HzgzzEXjFl86"
    },
    {
      "cell_type": "markdown",
      "id": "b03e771c",
      "metadata": {
        "papermill": {
          "duration": 0.012934,
          "end_time": "2023-09-30T09:04:55.055931",
          "exception": false,
          "start_time": "2023-09-30T09:04:55.042997",
          "status": "completed"
        },
        "tags": [],
        "id": "b03e771c"
      },
      "source": [
        "## Build Training Model"
      ]
    },
    {
      "cell_type": "code",
      "execution_count": null,
      "id": "4a97f786",
      "metadata": {
        "execution": {
          "iopub.execute_input": "2023-09-30T09:04:55.084903Z",
          "iopub.status.busy": "2023-09-30T09:04:55.084481Z",
          "iopub.status.idle": "2023-09-30T09:04:55.101014Z",
          "shell.execute_reply": "2023-09-30T09:04:55.099446Z"
        },
        "papermill": {
          "duration": 0.034559,
          "end_time": "2023-09-30T09:04:55.104125",
          "exception": false,
          "start_time": "2023-09-30T09:04:55.069566",
          "status": "completed"
        },
        "tags": [],
        "id": "4a97f786"
      },
      "outputs": [],
      "source": [
        "class ChatBotTrainer(tf.keras.models.Model):\n",
        "    def __init__(self,encoder,decoder,*args,**kwargs):\n",
        "        super().__init__(*args,**kwargs)\n",
        "        self.encoder=encoder\n",
        "        self.decoder=decoder\n",
        "\n",
        "    def loss_fn(self,y_true,y_pred):\n",
        "        loss=self.loss(y_true,y_pred)\n",
        "        mask=tf.math.logical_not(tf.math.equal(y_true,0))\n",
        "        mask=tf.cast(mask,dtype=loss.dtype)\n",
        "        loss*=mask\n",
        "        return tf.reduce_mean(loss)\n",
        "\n",
        "    def accuracy_fn(self,y_true,y_pred):\n",
        "        pred_values = tf.cast(tf.argmax(y_pred, axis=-1), dtype='int64')\n",
        "        correct = tf.cast(tf.equal(y_true, pred_values), dtype='float64')\n",
        "        mask = tf.cast(tf.greater(y_true, 0), dtype='float64')\n",
        "        n_correct = tf.keras.backend.sum(mask * correct)\n",
        "        n_total = tf.keras.backend.sum(mask)\n",
        "        return n_correct / n_total\n",
        "\n",
        "    def call(self,inputs):\n",
        "        encoder_inputs,decoder_inputs=inputs\n",
        "        encoder_states=self.encoder(encoder_inputs)\n",
        "        return self.decoder(decoder_inputs,encoder_states)\n",
        "\n",
        "    def train_step(self,batch):\n",
        "        encoder_inputs,decoder_inputs,y=batch\n",
        "        with tf.GradientTape() as tape:\n",
        "            encoder_states=self.encoder(encoder_inputs,training=True)\n",
        "            y_pred=self.decoder(decoder_inputs,encoder_states,training=True)\n",
        "            loss=self.loss_fn(y,y_pred)\n",
        "            acc=self.accuracy_fn(y,y_pred)\n",
        "\n",
        "        variables=self.encoder.trainable_variables+self.decoder.trainable_variables\n",
        "        grads=tape.gradient(loss,variables)\n",
        "        self.optimizer.apply_gradients(zip(grads,variables))\n",
        "        metrics={'loss':loss,'accuracy':acc}\n",
        "        return metrics\n",
        "\n",
        "    def test_step(self,batch):\n",
        "        encoder_inputs,decoder_inputs,y=batch\n",
        "        encoder_states=self.encoder(encoder_inputs,training=True)\n",
        "        y_pred=self.decoder(decoder_inputs,encoder_states,training=True)\n",
        "        loss=self.loss_fn(y,y_pred)\n",
        "        acc=self.accuracy_fn(y,y_pred)\n",
        "        metrics={'loss':loss,'accuracy':acc}\n",
        "        return metrics"
      ]
    },
    {
      "cell_type": "markdown",
      "source": [
        "## High level overview of how we created the overall model of our chatbot.\n",
        "* After passing the encoder and decoder class to ur parent chatbot trainer class.\n",
        "### We defined our **Custom Loss Function** that we want to minimise upon the sucessive iteration.\n",
        "* It takes three arguments:\n",
        " * self: The instance of the class (assuming this method belongs to a class).\n",
        " * y_true: The true labels.\n",
        " * y_pred: The predicted labels.\n",
        "* self.loss computes the loss using the predefined loss function self.loss(Ahead it is defined as sparsed categorical cross entropy loss).\n",
        "#### A **mask function** is created to identify the positions of padding tokens (where y_true is equal to 0).\n",
        "1. tf.math.equal(y_true, 0) creates a boolean mask where True indicates the positions of padding tokens.\n",
        "2. .math.logical_not flips the boolean values so that True indicates the positions of non-padding tokens.\n",
        "3. tf.cast(mask, dtype=loss.dtype) casts the boolean mask to the same data type as the loss tensor.\n",
        "4. The loss tensor is then multiplied element-wise by the mask, effectively setting the loss to 0 at the positions of padding tokens.\n",
        "**This custom loss function ensures that padding tokens do not contribute to the computed loss.**\n",
        "## Then we can move onto the accuracy instance where:-\n",
        "1. tf.argmax(y_pred, axis=-1) computes the index of the maximum value along the last axis of y_pred, which represents the predicted class for each sample the computed value is converted to int64 using the cast function.\n",
        "2. tf.equal(y_true, pred_values) compares the true labels (y_true) with the predicted labels (pred_values) element-wise.\n",
        "The result is a boolean tensor where True indicates correct predictions and False indicates incorrect predictions.The result is stored in float64 using cast function.\n",
        "3. tf.greater(y_true, 0) creates a boolean mask where True indicates non-padding tokens (since padding tokens are assumed to be represented by 0).\n",
        "4. **Counting Correct Predictions** :-\n",
        "  * mask * correct performs element-wise multiplication between the mask and the correct predictions tensor. This effectively masks out the correct predictions corresponding to padding tokens.\n",
        "  * tf.keras.backend.sum(...) computes the sum of the resulting tensor, effectively counting the number of correct predictions for non-padding tokens.\n",
        "**Computing Accuracy**:: n_correct / n_total\n",
        "## Call instance :-\n",
        "* The inputs tuple is unpacked into encoder_inputs and decoder_inputs.\n",
        "* encoder_inputs are passed through the encoder model (self.encoder).\n",
        "That produces the final states of the encoder LSTM, which are then used as initial states for the decoder LSTM.\n",
        "* decoder_inputs and encoder_states are passed to the decoder model (self.decoder).\n",
        "Hence call instance does:\n",
        "1. Encoder inputs are passed through the encoder to produce encoder states.\n",
        "2. Decoder inputs and encoder states are passed to the decoder to generate output sequences.\n",
        "# Next we define the training steps to be followed:-\n",
        "* Batch: A batch of training data, containing encoder inputs, decoder inputs, and corresponding target sequences (y).\n",
        "* Then we use GradientTape which tracks operations for automatic differentiation si that we can use it to differentiate our loss function to optimise the weights using the gradient descent.\n",
        "* The gradients of the loss with respect to the trainable variables of both the encoder and decoder are computed using the gradient tape.\n",
        "* Metrics such as loss and accuracy are collected for monitoring the training process and at last all the metrics are returned.\n",
        "## Next we define the testing steps to be followed:-\n",
        "* Encoder inputs are passed through the encoder model (self.encoder) to obtain the encoder states.\n",
        "* The encoder states and decoder inputs are passed through the decoder model (self.decoder) to obtain the predicted outputs (y_pred).\n",
        "* **Loss Calculation** :The loss is computed using the provided loss function (self.loss_fn), comparing the predicted outputs (y_pred) with the true target sequences (y).\n",
        "* **Accuracy Calculation**:The accuracy is computed using the provided accuracy function (self.accuracy_fn), which compares the predicted outputs (y_pred) with the true target sequences (y).\n",
        "* **Metrics Calculation**:Metrics such as loss and accuracy are collected for monitoring the testing or evaluation process at last the metrics are returned.\n",
        "\n"
      ],
      "metadata": {
        "id": "2xngc8MBJam7"
      },
      "id": "2xngc8MBJam7"
    },
    {
      "cell_type": "code",
      "execution_count": null,
      "id": "7dc0c0a3",
      "metadata": {
        "collapsed": true,
        "execution": {
          "iopub.execute_input": "2023-09-30T09:04:55.132273Z",
          "iopub.status.busy": "2023-09-30T09:04:55.131439Z",
          "iopub.status.idle": "2023-09-30T09:04:55.899328Z",
          "shell.execute_reply": "2023-09-30T09:04:55.898148Z"
        },
        "jupyter": {
          "outputs_hidden": true
        },
        "papermill": {
          "duration": 0.784459,
          "end_time": "2023-09-30T09:04:55.901880",
          "exception": false,
          "start_time": "2023-09-30T09:04:55.117421",
          "status": "completed"
        },
        "tags": [],
        "id": "7dc0c0a3",
        "outputId": "1a61ec05-3dff-45fd-9609-25636ad952ca",
        "colab": {
          "base_uri": "https://localhost:8080/"
        }
      },
      "outputs": [
        {
          "output_type": "execute_result",
          "data": {
            "text/plain": [
              "<tf.Tensor: shape=(149, 30, 2500), dtype=float32, numpy=\n",
              "array([[[4.68269805e-04, 7.09654065e-04, 8.99216539e-05, ...,\n",
              "         6.39044665e-05, 5.08322497e-04, 4.45641484e-03],\n",
              "        [5.60183777e-04, 1.39747019e-04, 4.11281828e-04, ...,\n",
              "         1.12772061e-04, 3.13260971e-04, 2.12465646e-03],\n",
              "        [9.42808809e-04, 2.63261230e-04, 1.63745412e-04, ...,\n",
              "         1.28785599e-04, 3.63936815e-05, 1.49832270e-03],\n",
              "        ...,\n",
              "        [3.73760195e-05, 8.03828661e-05, 6.11566065e-05, ...,\n",
              "         1.64628582e-04, 5.03059127e-05, 5.99333260e-04],\n",
              "        [1.04750448e-04, 1.52856795e-04, 7.92820429e-05, ...,\n",
              "         4.03029437e-04, 6.20586143e-05, 2.21882574e-03],\n",
              "        [1.33379013e-04, 1.55237823e-04, 6.23410509e-04, ...,\n",
              "         2.55960302e-04, 1.58627608e-05, 1.31326495e-03]],\n",
              "\n",
              "       [[4.26324434e-04, 2.54158775e-04, 1.09286746e-04, ...,\n",
              "         4.30934524e-05, 3.79111210e-04, 1.26090669e-03],\n",
              "        [6.61386526e-04, 5.75590057e-05, 1.19643359e-04, ...,\n",
              "         4.22938931e-04, 1.71155122e-03, 1.75502544e-04],\n",
              "        [1.34076530e-04, 2.49249297e-05, 2.85822991e-03, ...,\n",
              "         1.16769676e-04, 1.12423976e-03, 2.28786856e-04],\n",
              "        ...,\n",
              "        [7.22939149e-05, 3.19208521e-05, 1.78581482e-04, ...,\n",
              "         7.83624273e-06, 2.22761646e-05, 1.79418758e-03],\n",
              "        [7.64338183e-05, 7.29152598e-05, 3.06096743e-04, ...,\n",
              "         1.66832542e-05, 1.69341001e-05, 8.65984417e-04],\n",
              "        [2.16324352e-05, 9.30191891e-05, 2.57344393e-04, ...,\n",
              "         1.42395715e-04, 9.80966706e-06, 8.95974081e-05]],\n",
              "\n",
              "       [[4.47931932e-04, 3.67591128e-04, 8.57411505e-05, ...,\n",
              "         4.10877874e-05, 6.18539227e-04, 2.89255148e-03],\n",
              "        [4.09221626e-04, 1.52090315e-05, 4.89325263e-04, ...,\n",
              "         2.14249285e-05, 7.13420231e-05, 1.91709027e-04],\n",
              "        [2.99173902e-04, 8.17873115e-06, 5.02868672e-04, ...,\n",
              "         3.30142248e-05, 3.49113143e-05, 6.73883333e-05],\n",
              "        ...,\n",
              "        [4.93594620e-04, 5.74545847e-05, 1.76727970e-03, ...,\n",
              "         7.64241267e-05, 2.18056186e-04, 3.85159728e-05],\n",
              "        [4.49954736e-04, 7.00802193e-05, 4.41105058e-03, ...,\n",
              "         3.90347122e-04, 2.86383292e-04, 8.53105576e-06],\n",
              "        [1.10496709e-03, 1.15379635e-05, 4.17567883e-03, ...,\n",
              "         1.42757533e-04, 5.30941725e-05, 1.43691177e-05]],\n",
              "\n",
              "       ...,\n",
              "\n",
              "       [[3.18038044e-04, 4.35373833e-04, 9.92181886e-05, ...,\n",
              "         1.76149933e-05, 5.01686009e-04, 1.71996956e-03],\n",
              "        [1.16887160e-04, 6.03327760e-04, 1.00078923e-03, ...,\n",
              "         1.70386302e-05, 4.84260061e-04, 5.82581924e-05],\n",
              "        [8.41843212e-05, 5.42782189e-04, 8.80353909e-04, ...,\n",
              "         2.89551735e-06, 1.30486427e-04, 1.25208506e-04],\n",
              "        ...,\n",
              "        [1.14479009e-03, 2.72676843e-04, 3.37202573e-06, ...,\n",
              "         1.61543809e-04, 7.18458759e-05, 7.58692506e-04],\n",
              "        [1.99301564e-03, 3.96156393e-05, 1.52975335e-05, ...,\n",
              "         3.44898181e-05, 1.49204807e-05, 9.61693295e-05],\n",
              "        [3.85121966e-04, 3.38159589e-04, 1.77608072e-05, ...,\n",
              "         2.50115936e-05, 5.84789013e-05, 1.14640582e-03]],\n",
              "\n",
              "       [[3.29527771e-04, 3.11715208e-04, 5.03100091e-05, ...,\n",
              "         1.65340447e-04, 2.18111149e-04, 7.15482980e-04],\n",
              "        [2.08934071e-04, 8.36099753e-06, 3.58149584e-04, ...,\n",
              "         1.96785331e-04, 1.63523859e-04, 2.97632255e-03],\n",
              "        [3.16506601e-04, 2.72367644e-04, 3.65131418e-05, ...,\n",
              "         1.07941497e-03, 6.03030821e-05, 3.60970618e-04],\n",
              "        ...,\n",
              "        [1.98827809e-04, 1.40716602e-05, 2.05209217e-04, ...,\n",
              "         3.78933364e-05, 1.80662410e-05, 1.38495365e-04],\n",
              "        [1.85209108e-04, 3.03636480e-04, 3.40323430e-04, ...,\n",
              "         1.09319029e-04, 9.87805397e-05, 4.52087479e-05],\n",
              "        [9.08068032e-05, 1.49172833e-04, 1.11267320e-03, ...,\n",
              "         2.58593936e-04, 9.38800149e-05, 1.12794096e-05]],\n",
              "\n",
              "       [[1.97240559e-04, 6.39397535e-04, 1.78486545e-04, ...,\n",
              "         1.42220015e-04, 3.25507135e-04, 1.02595915e-03],\n",
              "        [3.37652949e-04, 2.86319380e-04, 1.22656429e-03, ...,\n",
              "         1.29181950e-04, 2.45327828e-04, 2.73857906e-04],\n",
              "        [4.93940839e-04, 9.27312241e-04, 2.15455657e-03, ...,\n",
              "         3.16135192e-05, 8.28851189e-05, 7.79657785e-05],\n",
              "        ...,\n",
              "        [5.63051959e-04, 1.76008223e-04, 1.20231789e-03, ...,\n",
              "         2.65053968e-05, 4.97802321e-05, 7.16697425e-04],\n",
              "        [1.84471181e-04, 4.44448306e-05, 1.72388609e-04, ...,\n",
              "         1.41934324e-05, 3.52613097e-05, 2.44592875e-03],\n",
              "        [4.18513519e-05, 1.50141459e-05, 1.36075215e-03, ...,\n",
              "         1.64213052e-05, 5.44691633e-04, 7.08795094e-04]]], dtype=float32)>"
            ]
          },
          "metadata": {},
          "execution_count": 18
        }
      ],
      "source": [
        "model=ChatBotTrainer(encoder,decoder,name='chatbot_trainer')\n",
        "model.compile(\n",
        "    loss=tf.keras.losses.SparseCategoricalCrossentropy(),\n",
        "    optimizer=tf.keras.optimizers.Adam(learning_rate=learning_rate),\n",
        "    weighted_metrics=['loss','accuracy']\n",
        ")\n",
        "model(_[:2])"
      ]
    },
    {
      "cell_type": "markdown",
      "source": [
        "## After that we compiled our model using the above parameters and obtained our model with applied optimisers."
      ],
      "metadata": {
        "id": "LWvm1IAyUi1v"
      },
      "id": "LWvm1IAyUi1v"
    },
    {
      "cell_type": "markdown",
      "id": "eac6ef93",
      "metadata": {
        "papermill": {
          "duration": 0.01308,
          "end_time": "2023-09-30T09:04:55.928200",
          "exception": false,
          "start_time": "2023-09-30T09:04:55.915120",
          "status": "completed"
        },
        "tags": [],
        "id": "eac6ef93"
      },
      "source": [
        "##  Train Model"
      ]
    },
    {
      "cell_type": "code",
      "execution_count": null,
      "id": "96f0bc55",
      "metadata": {
        "execution": {
          "iopub.execute_input": "2023-09-30T09:04:55.957447Z",
          "iopub.status.busy": "2023-09-30T09:04:55.956999Z",
          "iopub.status.idle": "2023-09-30T10:10:56.458696Z",
          "shell.execute_reply": "2023-09-30T10:10:56.456802Z"
        },
        "jupyter": {
          "outputs_hidden": true
        },
        "papermill": {
          "duration": 3960.520339,
          "end_time": "2023-09-30T10:10:56.462228",
          "exception": false,
          "start_time": "2023-09-30T09:04:55.941889",
          "status": "completed"
        },
        "tags": [],
        "id": "96f0bc55",
        "outputId": "7438617d-ed86-44c9-b49a-886f072fa10f",
        "colab": {
          "base_uri": "https://localhost:8080/"
        }
      },
      "outputs": [
        {
          "output_type": "stream",
          "name": "stdout",
          "text": [
            "Epoch 1/11\n",
            "100/100 [==============================] - ETA: 0s - loss: 2.0056 - accuracy: 0.5570\n",
            "Epoch 1: val_loss improved from inf to 1.59120, saving model to ckpt\n"
          ]
        },
        {
          "output_type": "stream",
          "name": "stderr",
          "text": [
            "WARNING:tensorflow:Model's `__init__()` arguments contain non-serializable objects. Please implement a `get_config()` method in the subclassed Model for proper saving and loading. Defaulting to empty config.\n",
            "WARNING:tensorflow:Model's `__init__()` arguments contain non-serializable objects. Please implement a `get_config()` method in the subclassed Model for proper saving and loading. Defaulting to empty config.\n",
            "WARNING:tensorflow:Model's `__init__()` arguments contain non-serializable objects. Please implement a `get_config()` method in the subclassed Model for proper saving and loading. Defaulting to empty config.\n",
            "WARNING:tensorflow:Model's `__init__()` arguments contain non-serializable objects. Please implement a `get_config()` method in the subclassed Model for proper saving and loading. Defaulting to empty config.\n"
          ]
        },
        {
          "output_type": "stream",
          "name": "stdout",
          "text": [
            "\b\b\b\b\b\b\b\b\b\b\b\b\b\b\b\b\b\b\b\b\b\b\b\b\b\b\b\b\b\b\b\b\b\b\b\b\b\b\b\b\b\b\b\b\b\b\b\b\b\b\b\b\b\b\b\b\b\b\b\b\b\b\b\b\b\b\b\b\b\b\b\b\b\b\b\b\b\b\b\b\b\b\b\b\r100/100 [==============================] - 27s 259ms/step - loss: 2.0111 - accuracy: 0.5561 - val_loss: 1.5912 - val_accuracy: 0.6000\n",
            "Epoch 2/11\n",
            "100/100 [==============================] - ETA: 0s - loss: 1.9926 - accuracy: 0.5585\n",
            "Epoch 2: val_loss improved from 1.59120 to 1.58080, saving model to ckpt\n"
          ]
        },
        {
          "output_type": "stream",
          "name": "stderr",
          "text": [
            "WARNING:tensorflow:Model's `__init__()` arguments contain non-serializable objects. Please implement a `get_config()` method in the subclassed Model for proper saving and loading. Defaulting to empty config.\n",
            "WARNING:tensorflow:Model's `__init__()` arguments contain non-serializable objects. Please implement a `get_config()` method in the subclassed Model for proper saving and loading. Defaulting to empty config.\n",
            "WARNING:tensorflow:Model's `__init__()` arguments contain non-serializable objects. Please implement a `get_config()` method in the subclassed Model for proper saving and loading. Defaulting to empty config.\n",
            "WARNING:tensorflow:Model's `__init__()` arguments contain non-serializable objects. Please implement a `get_config()` method in the subclassed Model for proper saving and loading. Defaulting to empty config.\n"
          ]
        },
        {
          "output_type": "stream",
          "name": "stdout",
          "text": [
            "\b\b\b\b\b\b\b\b\b\b\b\b\b\b\b\b\b\b\b\b\b\b\b\b\b\b\b\b\b\b\b\b\b\b\b\b\b\b\b\b\b\b\b\b\b\b\b\b\b\b\b\b\b\b\b\b\b\b\b\b\b\b\b\b\b\b\b\b\b\b\b\b\b\b\b\b\b\b\b\b\b\b\b\b\r100/100 [==============================] - 21s 209ms/step - loss: 1.9912 - accuracy: 0.5588 - val_loss: 1.5808 - val_accuracy: 0.6333\n",
            "Epoch 3/11\n",
            "100/100 [==============================] - ETA: 0s - loss: 1.9707 - accuracy: 0.5627\n",
            "Epoch 3: val_loss improved from 1.58080 to 0.62970, saving model to ckpt\n"
          ]
        },
        {
          "output_type": "stream",
          "name": "stderr",
          "text": [
            "WARNING:tensorflow:Model's `__init__()` arguments contain non-serializable objects. Please implement a `get_config()` method in the subclassed Model for proper saving and loading. Defaulting to empty config.\n",
            "WARNING:tensorflow:Model's `__init__()` arguments contain non-serializable objects. Please implement a `get_config()` method in the subclassed Model for proper saving and loading. Defaulting to empty config.\n",
            "WARNING:tensorflow:Model's `__init__()` arguments contain non-serializable objects. Please implement a `get_config()` method in the subclassed Model for proper saving and loading. Defaulting to empty config.\n",
            "WARNING:tensorflow:Model's `__init__()` arguments contain non-serializable objects. Please implement a `get_config()` method in the subclassed Model for proper saving and loading. Defaulting to empty config.\n"
          ]
        },
        {
          "output_type": "stream",
          "name": "stdout",
          "text": [
            "\b\b\b\b\b\b\b\b\b\b\b\b\b\b\b\b\b\b\b\b\b\b\b\b\b\b\b\b\b\b\b\b\b\b\b\b\b\b\b\b\b\b\b\b\b\b\b\b\b\b\b\b\b\b\b\b\b\b\b\b\b\b\b\b\b\b\b\b\b\b\b\b\b\b\b\b\b\b\b\b\b\b\b\b\r100/100 [==============================] - 22s 221ms/step - loss: 1.9608 - accuracy: 0.5649 - val_loss: 0.6297 - val_accuracy: 0.8333\n",
            "Epoch 4/11\n",
            "100/100 [==============================] - ETA: 0s - loss: 1.9600 - accuracy: 0.5638\n",
            "Epoch 4: val_loss did not improve from 0.62970\n",
            "100/100 [==============================] - 4s 36ms/step - loss: 1.9560 - accuracy: 0.5647 - val_loss: 1.7483 - val_accuracy: 0.6000\n",
            "Epoch 5/11\n",
            "100/100 [==============================] - ETA: 0s - loss: 1.9565 - accuracy: 0.5635\n",
            "Epoch 5: val_loss improved from 0.62970 to 0.04822, saving model to ckpt\n"
          ]
        },
        {
          "output_type": "stream",
          "name": "stderr",
          "text": [
            "WARNING:tensorflow:Model's `__init__()` arguments contain non-serializable objects. Please implement a `get_config()` method in the subclassed Model for proper saving and loading. Defaulting to empty config.\n",
            "WARNING:tensorflow:Model's `__init__()` arguments contain non-serializable objects. Please implement a `get_config()` method in the subclassed Model for proper saving and loading. Defaulting to empty config.\n",
            "WARNING:tensorflow:Model's `__init__()` arguments contain non-serializable objects. Please implement a `get_config()` method in the subclassed Model for proper saving and loading. Defaulting to empty config.\n",
            "WARNING:tensorflow:Model's `__init__()` arguments contain non-serializable objects. Please implement a `get_config()` method in the subclassed Model for proper saving and loading. Defaulting to empty config.\n"
          ]
        },
        {
          "output_type": "stream",
          "name": "stdout",
          "text": [
            "\b\b\b\b\b\b\b\b\b\b\b\b\b\b\b\b\b\b\b\b\b\b\b\b\b\b\b\b\b\b\b\b\b\b\b\b\b\b\b\b\b\b\b\b\b\b\b\b\b\b\b\b\b\b\b\b\b\b\b\b\b\b\b\b\b\b\b\b\b\b\b\b\b\b\b\b\b\b\b\b\b\b\b\b\r100/100 [==============================] - 23s 236ms/step - loss: 1.9605 - accuracy: 0.5627 - val_loss: 0.0482 - val_accuracy: 1.0000\n",
            "Epoch 6/11\n",
            " 99/100 [============================>.] - ETA: 0s - loss: 1.9510 - accuracy: 0.5633\n",
            "Epoch 6: val_loss did not improve from 0.04822\n",
            "100/100 [==============================] - 3s 34ms/step - loss: 1.9666 - accuracy: 0.5609 - val_loss: 1.6585 - val_accuracy: 0.6333\n",
            "Epoch 7/11\n",
            "100/100 [==============================] - ETA: 0s - loss: 1.9479 - accuracy: 0.5642\n",
            "Epoch 7: val_loss did not improve from 0.04822\n",
            "100/100 [==============================] - 4s 41ms/step - loss: 1.9537 - accuracy: 0.5634 - val_loss: 3.3778 - val_accuracy: 0.4333\n",
            "Epoch 8/11\n",
            " 98/100 [============================>.] - ETA: 0s - loss: 1.9331 - accuracy: 0.5658\n",
            "Epoch 8: val_loss did not improve from 0.04822\n",
            "100/100 [==============================] - 3s 34ms/step - loss: 1.9312 - accuracy: 0.5664 - val_loss: 3.9631 - val_accuracy: 0.2667\n",
            "Epoch 9/11\n",
            "100/100 [==============================] - ETA: 0s - loss: 1.9208 - accuracy: 0.5688\n",
            "Epoch 9: val_loss did not improve from 0.04822\n",
            "100/100 [==============================] - 4s 35ms/step - loss: 1.9168 - accuracy: 0.5697 - val_loss: 0.2335 - val_accuracy: 0.9333\n",
            "Epoch 10/11\n",
            "100/100 [==============================] - ETA: 0s - loss: 1.9230 - accuracy: 0.5666\n",
            "Epoch 10: val_loss did not improve from 0.04822\n",
            "100/100 [==============================] - 5s 47ms/step - loss: 1.9299 - accuracy: 0.5650 - val_loss: 2.2329 - val_accuracy: 0.4667\n",
            "Epoch 11/11\n",
            " 99/100 [============================>.] - ETA: 0s - loss: 1.9135 - accuracy: 0.5689\n",
            "Epoch 11: val_loss did not improve from 0.04822\n",
            "100/100 [==============================] - 3s 33ms/step - loss: 1.9145 - accuracy: 0.5683 - val_loss: 0.2325 - val_accuracy: 0.9667\n"
          ]
        }
      ],
      "source": [
        "history=model.fit(\n",
        "    train_data,\n",
        "    epochs=11,\n",
        "    validation_data=val_data,\n",
        "    callbacks=[\n",
        "        tf.keras.callbacks.TensorBoard(log_dir='logs'),\n",
        "        tf.keras.callbacks.ModelCheckpoint('ckpt',verbose=1,save_best_only=True)\n",
        "    ]\n",
        ")"
      ]
    },
    {
      "cell_type": "markdown",
      "source": [
        "1. **The tf.keras.callbacks.TensorBoard callback is used to log training and validation metrics during the training of a TensorFlow model. It is used so that we can see TensorBoard visualization tool, which allows you to visualize these metrics in real-time as your model trains.**\n",
        "2. **The tf.keras.callbacks.ModelCheckpoint callback is used to save the model's weights during training. It allows you to save the model either after every epoch or only when certain conditions are met, such as when the validation loss improves.**\n",
        "3. Note that i have set this epochs to 11 as val_accuracy was not improving so more epochs were a waste of computational resources."
      ],
      "metadata": {
        "id": "GRLlx-itVPA5"
      },
      "id": "GRLlx-itVPA5"
    },
    {
      "cell_type": "markdown",
      "id": "f73d0029",
      "metadata": {
        "papermill": {
          "duration": 0.158229,
          "end_time": "2023-09-30T10:10:57.936743",
          "exception": false,
          "start_time": "2023-09-30T10:10:57.778514",
          "status": "completed"
        },
        "tags": [],
        "id": "f73d0029"
      },
      "source": [
        "# Save Model\n",
        "### Saving the best model"
      ]
    },
    {
      "cell_type": "code",
      "execution_count": null,
      "id": "20d636fa",
      "metadata": {
        "execution": {
          "iopub.execute_input": "2023-09-30T10:10:58.250492Z",
          "iopub.status.busy": "2023-09-30T10:10:58.249571Z",
          "iopub.status.idle": "2023-09-30T10:11:29.110776Z",
          "shell.execute_reply": "2023-09-30T10:11:29.109332Z"
        },
        "papermill": {
          "duration": 31.020042,
          "end_time": "2023-09-30T10:11:29.114172",
          "exception": false,
          "start_time": "2023-09-30T10:10:58.094130",
          "status": "completed"
        },
        "tags": [],
        "id": "20d636fa",
        "colab": {
          "base_uri": "https://localhost:8080/"
        },
        "outputId": "72db6bcb-7c9a-4a60-a643-b5cc23b1523d"
      },
      "outputs": [
        {
          "output_type": "stream",
          "name": "stderr",
          "text": [
            "WARNING:tensorflow:Model's `__init__()` arguments contain non-serializable objects. Please implement a `get_config()` method in the subclassed Model for proper saving and loading. Defaulting to empty config.\n",
            "WARNING:tensorflow:Model's `__init__()` arguments contain non-serializable objects. Please implement a `get_config()` method in the subclassed Model for proper saving and loading. Defaulting to empty config.\n",
            "WARNING:tensorflow:Model's `__init__()` arguments contain non-serializable objects. Please implement a `get_config()` method in the subclassed Model for proper saving and loading. Defaulting to empty config.\n",
            "WARNING:tensorflow:Model's `__init__()` arguments contain non-serializable objects. Please implement a `get_config()` method in the subclassed Model for proper saving and loading. Defaulting to empty config.\n"
          ]
        }
      ],
      "source": [
        "model.load_weights('ckpt')\n",
        "model.save('models',save_format='tf')"
      ]
    },
    {
      "cell_type": "markdown",
      "source": [
        "We have saved the best model out of all epochs the model has been trained."
      ],
      "metadata": {
        "id": "0Fya4u0gggbW"
      },
      "id": "0Fya4u0gggbW"
    },
    {
      "cell_type": "code",
      "execution_count": null,
      "id": "a7070dd9",
      "metadata": {
        "execution": {
          "iopub.execute_input": "2023-09-30T10:11:29.429895Z",
          "iopub.status.busy": "2023-09-30T10:11:29.428871Z",
          "iopub.status.idle": "2023-09-30T10:11:29.437137Z",
          "shell.execute_reply": "2023-09-30T10:11:29.435298Z"
        },
        "papermill": {
          "duration": 0.168049,
          "end_time": "2023-09-30T10:11:29.440254",
          "exception": false,
          "start_time": "2023-09-30T10:11:29.272205",
          "status": "completed"
        },
        "tags": [],
        "id": "a7070dd9",
        "outputId": "36f17edd-0cfb-450e-d327-7adbe760b3cd",
        "colab": {
          "base_uri": "https://localhost:8080/"
        }
      },
      "outputs": [
        {
          "output_type": "stream",
          "name": "stdout",
          "text": [
            "Encoder layers:\n",
            "<keras.src.layers.core.embedding.Embedding object at 0x7ece45661600>\n",
            "<keras.src.layers.normalization.layer_normalization.LayerNormalization object at 0x7ece45663520>\n",
            "<keras.src.layers.rnn.lstm.LSTM object at 0x7ece456648e0>\n",
            "---------------------\n",
            "Decoder layers: \n",
            "<keras.src.layers.core.embedding.Embedding object at 0x7ece40160700>\n",
            "<keras.src.layers.normalization.layer_normalization.LayerNormalization object at 0x7ece40161b10>\n",
            "<keras.src.layers.rnn.lstm.LSTM object at 0x7ece401616f0>\n",
            "<keras.src.layers.core.dense.Dense object at 0x7ece40163610>\n",
            "---------------------\n"
          ]
        }
      ],
      "source": [
        "for idx,i in enumerate(model.layers):\n",
        "    print('Encoder layers:' if idx==0 else 'Decoder layers: ')\n",
        "    for j in i.layers:\n",
        "        print(j)\n",
        "    print('---------------------')"
      ]
    },
    {
      "cell_type": "markdown",
      "source": [
        "Above is the overall stucture of our encoder/decoder model."
      ],
      "metadata": {
        "id": "iybnK1YwWOGu"
      },
      "id": "iybnK1YwWOGu"
    },
    {
      "cell_type": "markdown",
      "id": "d1e7a778",
      "metadata": {
        "papermill": {
          "duration": 0.157513,
          "end_time": "2023-09-30T10:11:29.754809",
          "exception": false,
          "start_time": "2023-09-30T10:11:29.597296",
          "status": "completed"
        },
        "tags": [],
        "id": "d1e7a778"
      },
      "source": [
        "# Create Inference Model"
      ]
    },
    {
      "cell_type": "markdown",
      "source": [
        "## Combining everythng into a single chatbot class what we have done above."
      ],
      "metadata": {
        "id": "G0lJTl3TWacA"
      },
      "id": "G0lJTl3TWacA"
    },
    {
      "cell_type": "code",
      "execution_count": null,
      "id": "1f3ce36b",
      "metadata": {
        "execution": {
          "iopub.execute_input": "2023-09-30T10:11:30.074840Z",
          "iopub.status.busy": "2023-09-30T10:11:30.073980Z",
          "iopub.status.idle": "2023-09-30T10:11:32.263878Z",
          "shell.execute_reply": "2023-09-30T10:11:32.262443Z"
        },
        "papermill": {
          "duration": 2.365891,
          "end_time": "2023-09-30T10:11:32.274861",
          "exception": false,
          "start_time": "2023-09-30T10:11:29.908970",
          "status": "completed"
        },
        "tags": [],
        "id": "1f3ce36b",
        "outputId": "fe6a8753-5b36-4691-9534-efbdf05de1d0",
        "colab": {
          "base_uri": "https://localhost:8080/"
        }
      },
      "outputs": [
        {
          "output_type": "stream",
          "name": "stdout",
          "text": [
            "Model: \"chatbot_encoder\"\n",
            "_________________________________________________________________\n",
            " Layer (type)                Output Shape              Param #   \n",
            "=================================================================\n",
            " input_1 (InputLayer)        [(None, None)]            0         \n",
            "                                                                 \n",
            " encoder_embedding (Embeddi  (None, None, 256)         640000    \n",
            " ng)                                                             \n",
            "                                                                 \n",
            " layer_normalization (Layer  (None, None, 256)         512       \n",
            " Normalization)                                                  \n",
            "                                                                 \n",
            " encoder_lstm (LSTM)         [(None, None, 256),       525312    \n",
            "                              (None, 256),                       \n",
            "                              (None, 256)]                       \n",
            "                                                                 \n",
            "=================================================================\n",
            "Total params: 1165824 (4.45 MB)\n",
            "Trainable params: 1165824 (4.45 MB)\n",
            "Non-trainable params: 0 (0.00 Byte)\n",
            "_________________________________________________________________\n",
            "Model: \"chatbot_decoder\"\n",
            "__________________________________________________________________________________________________\n",
            " Layer (type)                Output Shape                 Param #   Connected to                  \n",
            "==================================================================================================\n",
            " input_4 (InputLayer)        [(None, None)]               0         []                            \n",
            "                                                                                                  \n",
            " decoder_embedding (Embeddi  (None, None, 256)            640000    ['input_4[0][0]']             \n",
            " ng)                                                                                              \n",
            "                                                                                                  \n",
            " layer_normalization (Layer  (None, None, 256)            512       ['decoder_embedding[0][0]']   \n",
            " Normalization)                                                                                   \n",
            "                                                                                                  \n",
            " input_2 (InputLayer)        [(None, 256)]                0         []                            \n",
            "                                                                                                  \n",
            " input_3 (InputLayer)        [(None, 256)]                0         []                            \n",
            "                                                                                                  \n",
            " decoder_lstm (LSTM)         [(None, None, 256),          525312    ['layer_normalization[1][0]', \n",
            "                              (None, 256),                           'input_2[0][0]',             \n",
            "                              (None, 256)]                           'input_3[0][0]']             \n",
            "                                                                                                  \n",
            " decoder_dense (Dense)       (None, None, 2500)           642500    ['decoder_lstm[0][0]']        \n",
            "                                                                                                  \n",
            "==================================================================================================\n",
            "Total params: 1808324 (6.90 MB)\n",
            "Trainable params: 1808324 (6.90 MB)\n",
            "Non-trainable params: 0 (0.00 Byte)\n",
            "__________________________________________________________________________________________________\n"
          ]
        }
      ],
      "source": [
        "class ChatBot(tf.keras.models.Model):\n",
        "    def __init__(self,base_encoder,base_decoder,*args,**kwargs):\n",
        "        super().__init__(*args,**kwargs)\n",
        "        self.encoder,self.decoder=self.build_inference_model(base_encoder,base_decoder)\n",
        "\n",
        "    def build_inference_model(self,base_encoder,base_decoder):\n",
        "        encoder_inputs=tf.keras.Input(shape=(None,))\n",
        "        x=base_encoder.layers[0](encoder_inputs)\n",
        "        x=base_encoder.layers[1](x)\n",
        "        x,encoder_state_h,encoder_state_c=base_encoder.layers[2](x)\n",
        "        encoder=tf.keras.models.Model(inputs=encoder_inputs,outputs=[encoder_state_h,encoder_state_c],name='chatbot_encoder')\n",
        "\n",
        "        decoder_input_state_h=tf.keras.Input(shape=(lstm_cells,))\n",
        "        decoder_input_state_c=tf.keras.Input(shape=(lstm_cells,))\n",
        "        decoder_inputs=tf.keras.Input(shape=(None,))\n",
        "        x=base_decoder.layers[0](decoder_inputs)\n",
        "        x=base_encoder.layers[1](x)\n",
        "        x,decoder_state_h,decoder_state_c=base_decoder.layers[2](x,initial_state=[decoder_input_state_h,decoder_input_state_c])\n",
        "        decoder_outputs=base_decoder.layers[-1](x)\n",
        "        decoder=tf.keras.models.Model(\n",
        "            inputs=[decoder_inputs,[decoder_input_state_h,decoder_input_state_c]],\n",
        "            outputs=[decoder_outputs,[decoder_state_h,decoder_state_c]],name='chatbot_decoder'\n",
        "        )\n",
        "        return encoder,decoder\n",
        "\n",
        "    def summary(self):\n",
        "        self.encoder.summary()\n",
        "        self.decoder.summary()\n",
        "\n",
        "    def softmax(self,z):\n",
        "        return np.exp(z)/sum(np.exp(z))\n",
        "\n",
        "    def sample(self,conditional_probability,temperature=0.5):\n",
        "        conditional_probability = np.asarray(conditional_probability).astype(\"float64\")\n",
        "        conditional_probability = np.log(conditional_probability) / temperature\n",
        "        reweighted_conditional_probability = self.softmax(conditional_probability)\n",
        "        probas = np.random.multinomial(1, reweighted_conditional_probability, 1)\n",
        "        return np.argmax(probas)\n",
        "\n",
        "    def preprocess(self,text):\n",
        "        text=clean_text(text)\n",
        "        seq=np.zeros((1,max_sequence_length),dtype=np.int32)\n",
        "        for i,word in enumerate(text.split()):\n",
        "            seq[:,i]=sequences2ids(word).numpy()[0]\n",
        "        return seq\n",
        "\n",
        "    def postprocess(self,text):\n",
        "        text=re.sub(' - ','-',text.lower())\n",
        "        return text\n",
        "\n",
        "    def call(self,text,config=None):\n",
        "        input_seq=self.preprocess(text)\n",
        "        states=self.encoder(input_seq,training=False)\n",
        "        target_seq=np.zeros((1,1))\n",
        "        target_seq[:,:]=sequences2ids(['<start>']).numpy()[0][0]\n",
        "        stop_condition=False\n",
        "        decoded=[]\n",
        "        while not stop_condition:\n",
        "            decoder_outputs,new_states=self.decoder([target_seq,states],training=False)\n",
        "#             index=tf.argmax(decoder_outputs[:,-1,:],axis=-1).numpy().item()\n",
        "            index=self.sample(decoder_outputs[0,0,:]).item()\n",
        "            word=ids2sequences([index])\n",
        "            if word=='<end> ' or len(decoded)>=max_sequence_length:\n",
        "                stop_condition=True\n",
        "            else:\n",
        "                decoded.append(index)\n",
        "                target_seq=np.zeros((1,1))\n",
        "                target_seq[:,:]=index\n",
        "                states=new_states\n",
        "        return self.postprocess(ids2sequences(decoded))\n",
        "\n",
        "chatbot=ChatBot(model.encoder,model.decoder,name='chatbot')\n",
        "chatbot.summary()"
      ]
    },
    {
      "cell_type": "code",
      "execution_count": null,
      "id": "e0eb8380",
      "metadata": {
        "execution": {
          "iopub.execute_input": "2023-09-30T10:11:32.598952Z",
          "iopub.status.busy": "2023-09-30T10:11:32.598535Z",
          "iopub.status.idle": "2023-09-30T10:11:33.309727Z",
          "shell.execute_reply": "2023-09-30T10:11:33.307944Z"
        },
        "papermill": {
          "duration": 0.877608,
          "end_time": "2023-09-30T10:11:33.312539",
          "exception": false,
          "start_time": "2023-09-30T10:11:32.434931",
          "status": "completed"
        },
        "tags": [],
        "id": "e0eb8380",
        "outputId": "f607c2f3-ac69-4faa-e770-e67a40378aeb",
        "colab": {
          "base_uri": "https://localhost:8080/",
          "height": 422
        }
      },
      "outputs": [
        {
          "output_type": "execute_result",
          "data": {
            "image/png": "[encoded data removed]",
            "text/plain": [
              "<IPython.core.display.Image object>"
            ]
          },
          "metadata": {},
          "execution_count": 27
        }
      ],
      "source": [
        "tf.keras.utils.plot_model(chatbot.encoder,to_file='encoder.png',show_shapes=True,show_layer_activations=True)"
      ]
    },
    {
      "cell_type": "code",
      "execution_count": null,
      "id": "f646dde7",
      "metadata": {
        "execution": {
          "iopub.execute_input": "2023-09-30T10:11:33.652701Z",
          "iopub.status.busy": "2023-09-30T10:11:33.651272Z",
          "iopub.status.idle": "2023-09-30T10:11:34.105306Z",
          "shell.execute_reply": "2023-09-30T10:11:34.103843Z"
        },
        "papermill": {
          "duration": 0.631598,
          "end_time": "2023-09-30T10:11:34.107964",
          "exception": false,
          "start_time": "2023-09-30T10:11:33.476366",
          "status": "completed"
        },
        "tags": [],
        "id": "f646dde7",
        "outputId": "fa8a8811-aee0-47e1-8a32-53325c2a34a4",
        "colab": {
          "base_uri": "https://localhost:8080/",
          "height": 533
        }
      },
      "outputs": [
        {
          "output_type": "execute_result",
          "data": {
            "image/png": "[encoded data removed]",
            "text/plain": [
              "<IPython.core.display.Image object>"
            ]
          },
          "metadata": {},
          "execution_count": 28
        }
      ],
      "source": [
        "tf.keras.utils.plot_model(chatbot.decoder,to_file='decoder.png',show_shapes=True,show_layer_activations=True)"
      ]
    },
    {
      "cell_type": "markdown",
      "id": "fd43bfe6",
      "metadata": {
        "papermill": {
          "duration": 0.249781,
          "end_time": "2023-09-30T10:11:34.527715",
          "exception": false,
          "start_time": "2023-09-30T10:11:34.277934",
          "status": "completed"
        },
        "tags": [],
        "id": "fd43bfe6"
      },
      "source": [
        "# Time to Chat"
      ]
    },
    {
      "cell_type": "code",
      "execution_count": null,
      "id": "171b75ed",
      "metadata": {
        "execution": {
          "iopub.execute_input": "2023-09-30T10:11:34.850811Z",
          "iopub.status.busy": "2023-09-30T10:11:34.849678Z",
          "iopub.status.idle": "2023-09-30T10:11:34.856424Z",
          "shell.execute_reply": "2023-09-30T10:11:34.855240Z"
        },
        "papermill": {
          "duration": 0.169255,
          "end_time": "2023-09-30T10:11:34.859021",
          "exception": false,
          "start_time": "2023-09-30T10:11:34.689766",
          "status": "completed"
        },
        "tags": [],
        "id": "171b75ed"
      },
      "outputs": [],
      "source": [
        "def print_conversation(texts):\n",
        "    for text in texts:\n",
        "        print(f'You: {text}')\n",
        "        print(f'Bot: {chatbot(text)}')\n"
      ]
    },
    {
      "cell_type": "code",
      "execution_count": null,
      "id": "edb38b69",
      "metadata": {
        "execution": {
          "iopub.execute_input": "2023-09-30T10:11:35.184563Z",
          "iopub.status.busy": "2023-09-30T10:11:35.183554Z",
          "iopub.status.idle": "2023-09-30T10:11:43.344746Z",
          "shell.execute_reply": "2023-09-30T10:11:43.343071Z"
        },
        "papermill": {
          "duration": 8.32494,
          "end_time": "2023-09-30T10:11:43.347532",
          "exception": false,
          "start_time": "2023-09-30T10:11:35.022592",
          "status": "completed"
        },
        "tags": [],
        "id": "edb38b69",
        "outputId": "9ee51d6b-30d2-41be-f67f-e75f80a7fbe9",
        "colab": {
          "base_uri": "https://localhost:8080/"
        }
      },
      "outputs": [
        {
          "output_type": "stream",
          "name": "stdout",
          "text": [
            "You: What is (are) Glaucoma ?\n",
            "Bot: glaucoma is a heart disease that affects the heart, the heart's normal rhythm. the heart is a [unk] of blood vessels. the heart is a \n",
            "========================\n"
          ]
        }
      ],
      "source": [
        "print_conversation([\n",
        "    \"What is (are) Glaucoma ?\"\n",
        "])"
      ]
    },
    {
      "cell_type": "code",
      "source": [
        "print_conversation([\n",
        "    \"How to diagnose Diabetic Neuropathies: The Nerve Damage of Diabetes \"\n",
        "])"
      ],
      "metadata": {
        "colab": {
          "base_uri": "https://localhost:8080/"
        },
        "id": "0Mmzs9jkqFwG",
        "outputId": "186ace2b-f78c-46e6-bc2b-07ff4bad5b5d"
      },
      "id": "0Mmzs9jkqFwG",
      "execution_count": null,
      "outputs": [
        {
          "output_type": "stream",
          "name": "stdout",
          "text": [
            "You: How to diagnose Diabetic Neuropathies: The Nerve Damage of Diabetes \n",
            "Bot: your doctor will diagnose [unk] based on your medical history, a physical exam, and test results. specialists involved in your blood, your doctor will ask your \n"
          ]
        }
      ]
    },
    {
      "cell_type": "code",
      "source": [
        "print_conversation([\n",
        "    \"what is Diabetes?\"\n",
        "])"
      ],
      "metadata": {
        "colab": {
          "base_uri": "https://localhost:8080/"
        },
        "id": "x39wAYf7qfnP",
        "outputId": "0bbb97f0-5c7f-437f-8d3b-5c42582d1aa1"
      },
      "id": "x39wAYf7qfnP",
      "execution_count": null,
      "outputs": [
        {
          "output_type": "stream",
          "name": "stdout",
          "text": [
            "You: what is Diabetes?\n",
            "Bot: diabetes is a complex group of conditions that causes [unk] [unk] [unk] [unk] [unk] [unk]. the [unk] of the [unk] [unk] [unk], [unk], [unk], [unk], \n"
          ]
        }
      ]
    },
    {
      "cell_type": "code",
      "source": [
        "print_conversation([\n",
        "    \"What are the symptoms of Breast Cancer ?\"\n",
        "])"
      ],
      "metadata": {
        "colab": {
          "base_uri": "https://localhost:8080/"
        },
        "id": "6Qan9IRfq1yA",
        "outputId": "11850e2a-f6be-48bc-fe3e-7c0aa6abffad"
      },
      "id": "6Qan9IRfq1yA",
      "execution_count": null,
      "outputs": [
        {
          "output_type": "stream",
          "name": "stdout",
          "text": [
            "You: What are the symptoms of Breast Cancer ?\n",
            "Bot: signs of breast cancer include jaundice, and easy bruising or bleeding. the signs and symptoms of [unk] include [unk] pain, and feeling tired. these and other \n"
          ]
        }
      ]
    },
    {
      "cell_type": "code",
      "source": [
        "print_conversation([\n",
        "    \"what is Osteoporosis ?\"\n",
        "])"
      ],
      "metadata": {
        "colab": {
          "base_uri": "https://localhost:8080/"
        },
        "id": "wwVl3Jj7sEZd",
        "outputId": "a30feb24-c086-491a-dc0a-0d7ee5d1098e"
      },
      "id": "wwVl3Jj7sEZd",
      "execution_count": null,
      "outputs": [
        {
          "output_type": "stream",
          "name": "stdout",
          "text": [
            "You: what is Osteoporosis ?\n",
            "Bot: [unk] is a problem that affects the bones. it is a [unk] of the skin, or [unk]. it is a chronic [unk] skin that is present from \n"
          ]
        }
      ]
    },
    {
      "cell_type": "code",
      "source": [
        "print_conversation([\n",
        "    \"what is Osteoporosis ?\"\n",
        "])"
      ],
      "metadata": {
        "id": "ItYh_I8Zq7Om"
      },
      "id": "ItYh_I8Zq7Om",
      "execution_count": null,
      "outputs": []
    },
    {
      "cell_type": "code",
      "execution_count": null,
      "id": "ea9e6c72",
      "metadata": {
        "papermill": {
          "duration": 0.156663,
          "end_time": "2023-09-30T10:11:43.665551",
          "exception": false,
          "start_time": "2023-09-30T10:11:43.508888",
          "status": "completed"
        },
        "tags": [],
        "id": "ea9e6c72"
      },
      "outputs": [],
      "source": []
    },
    {
      "cell_type": "code",
      "execution_count": null,
      "id": "9458808e",
      "metadata": {
        "papermill": {
          "duration": 0.162246,
          "end_time": "2023-09-30T10:11:43.986776",
          "exception": false,
          "start_time": "2023-09-30T10:11:43.824530",
          "status": "completed"
        },
        "tags": [],
        "id": "9458808e"
      },
      "outputs": [],
      "source": []
    }
  ],
  "metadata": {
    "kernelspec": {
      "display_name": "Python 3",
      "name": "python3"
    },
    "language_info": {
      "codemirror_mode": {
        "name": "ipython",
        "version": 3
      },
      "file_extension": ".py",
      "mimetype": "text/x-python",
      "name": "python",
      "nbconvert_exporter": "python",
      "pygments_lexer": "ipython3",
      "version": "3.7.12"
    },
    "papermill": {
      "default_parameters": {},
      "duration": 4049.636548,
      "end_time": "2023-09-30T10:11:48.258416",
      "environment_variables": {},
      "exception": null,
      "input_path": "__notebook__.ipynb",
      "output_path": "__notebook__.ipynb",
      "parameters": {},
      "start_time": "2023-09-30T09:04:18.621868",
      "version": "2.4.0"
    },
    "colab": {
      "provenance": []
    }
  },
  "nbformat": 4,
  "nbformat_minor": 5
}